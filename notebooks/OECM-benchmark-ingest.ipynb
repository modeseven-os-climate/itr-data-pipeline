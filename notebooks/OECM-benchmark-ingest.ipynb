{
 "cells": [
  {
   "cell_type": "markdown",
   "id": "4896e4d6-daa5-4708-9f43-0d599ba7e670",
   "metadata": {
    "tags": []
   },
   "source": [
    "# OECM Benchmark Data Pipeline\n",
    "\n",
    "The Benchmark data pipelines organize and assemble benchmark data needed for the ITR tool.  This pipeline supports the OECM Benchmark version 2 (published 4 May 2022).\n"
   ]
  },
  {
   "cell_type": "markdown",
   "id": "4a469d68-26d7-4b07-8481-06d8dd1beb4d",
   "metadata": {},
   "source": [
    "### Environment variables and dot-env\n",
    "\n",
    "The following cell looks for a \"dot-env\" file in some standard locations,\n",
    "and loads its contents into `os.environ`."
   ]
  },
  {
   "cell_type": "code",
   "execution_count": 1,
   "id": "b41120cd-1bdd-42d1-a6fb-4eae55b9e3d5",
   "metadata": {},
   "outputs": [],
   "source": [
    "import os\n",
    "import pathlib\n",
    "from dotenv import load_dotenv\n",
    "\n",
    "# Load some standard environment variables from a dot-env file, if it exists.\n",
    "# If no such file can be found, does not fail, and so allows these environment vars to\n",
    "# be populated in some other way\n",
    "dotenv_dir = os.environ.get('CREDENTIAL_DOTENV_DIR', os.environ.get('PWD', '/opt/app-root/src'))\n",
    "dotenv_path = pathlib.Path(dotenv_dir) / 'credentials.env'\n",
    "if os.path.exists(dotenv_path):\n",
    "    load_dotenv(dotenv_path=dotenv_path,override=True)\n",
    "\n",
    "import numpy as np\n",
    "import pandas as pd\n",
    "import itertools"
   ]
  },
  {
   "cell_type": "code",
   "execution_count": 2,
   "id": "f283b9da-88db-4d6a-8322-46bc80951f39",
   "metadata": {},
   "outputs": [],
   "source": [
    "# See data-platform-demo/pint-demo.ipynb for quantify/dequantify functions\n",
    "\n",
    "# import warnings  # needed until quantile behaves better with Pint quantities in arrays\n",
    "from pint import set_application_registry\n",
    "from pint_pandas import PintArray, PintType\n",
    "from openscm_units import unit_registry\n",
    "\n",
    "# openscm_units doesn't make it easy to set preprocessors.  This is one way to do it.\n",
    "unit_registry.preprocessors=[\n",
    "     lambda s1: s1.replace('passenger km', 'passenger_km'),\n",
    "     lambda s2: s2.replace('BoE', 'boe'),\n",
    "]\n",
    "\n",
    "PintType.ureg = unit_registry\n",
    "ureg = unit_registry\n",
    "set_application_registry(ureg)\n",
    "Q_ = ureg.Quantity\n",
    "PA_ = PintArray\n",
    "\n",
    "ureg.define(\"CO2e = CO2 = CO2eq = CO2_eq\")\n",
    "ureg.define(\"Fe = [iron] = Steel\")\n",
    "ureg.define(\"iron = Fe\")\n",
    "ureg.define(\"Al = [aluminum] = Aluminum\")\n",
    "ureg.define(\"aluminum = Al\")\n",
    "ureg.define(\"Cement = [cement]\")\n",
    "ureg.define(\"cement = Cement\")\n",
    "\n",
    "# These are for later\n",
    "ureg.define('fraction = [] = frac')\n",
    "ureg.define('percent = 1e-2 frac = pct = percentage')\n",
    "ureg.define('ppm = 1e-6 fraction')\n",
    "\n",
    "ureg.define(\"USD = [currency]\")\n",
    "ureg.define(\"EUR = nan USD\")\n",
    "ureg.define(\"JPY = nan USD\")\n",
    "\n",
    "ureg.define(\"btu = Btu\")\n",
    "ureg.define(\"boe = 5.712 GJ\")\n",
    "\n",
    "# Transportation activity\n",
    "\n",
    "ureg.define(\"vehicle = [vehicle] = v\")\n",
    "ureg.define(\"passenger = [passenger] = p = pass\")\n",
    "ureg.define(\"vkm = vehicle * kilometer\")\n",
    "ureg.define(\"pkm = passenger * kilometer\")\n",
    "ureg.define(\"tkm = tonne * kilometer\")\n",
    "\n",
    "ureg.define('hundred = 1e2')\n",
    "ureg.define('thousand = 1e3')\n",
    "ureg.define('million = 1e6')\n",
    "ureg.define('billion = 1e9')\n",
    "ureg.define('trillion = 1e12')\n",
    "ureg.define('quadrillion = 1e15')"
   ]
  },
  {
   "cell_type": "markdown",
   "id": "76dd9d51-0532-44b9-a3fc-a78a301edf4c",
   "metadata": {},
   "source": [
    "### S3 and boto3"
   ]
  },
  {
   "cell_type": "code",
   "execution_count": 3,
   "id": "491b3688-8a64-467c-a99e-6db65fa864e6",
   "metadata": {},
   "outputs": [],
   "source": [
    "import boto3\n",
    "\n",
    "s3_source = boto3.resource(\n",
    "    service_name=\"s3\",\n",
    "    endpoint_url=os.environ['S3_LANDING_ENDPOINT'],\n",
    "    aws_access_key_id=os.environ['S3_LANDING_ACCESS_KEY'],\n",
    "    aws_secret_access_key=os.environ['S3_LANDING_SECRET_KEY'],\n",
    ")\n",
    "source_bucket = s3_source.Bucket(os.environ['S3_LANDING_BUCKET'])"
   ]
  },
  {
   "cell_type": "code",
   "execution_count": 4,
   "id": "cc527cbc-3c9e-429f-bd23-9bb40446d6f8",
   "metadata": {},
   "outputs": [],
   "source": [
    "import osc_ingest_trino as osc\n",
    "import io"
   ]
  },
  {
   "cell_type": "markdown",
   "id": "a12b224f-addc-43ec-b53e-d684b4c8ef67",
   "metadata": {},
   "source": [
    "### Connecting to Trino with sqlalchemy\n",
    "\n",
    "In the context of the Data Vault, this pipeline operates with full visibiilty into all the data it prepares for the ITR tool.  When the data is output, it is labeled so that the Data Vault can enforce its data management access rules."
   ]
  },
  {
   "cell_type": "code",
   "execution_count": 5,
   "id": "d8a756db-291f-48ad-8ae8-dad3da4af325",
   "metadata": {},
   "outputs": [],
   "source": [
    "import trino\n",
    "from sqlalchemy.engine import create_engine\n",
    "\n",
    "ingest_catalog = 'osc_datacommons_dev'\n",
    "ingest_schema = 'sandbox'\n",
    "dera_schema = 'sandbox'\n",
    "dera_prefix = 'dera_'\n",
    "gleif_schema = 'sandbox'\n",
    "rmi_schema = 'sandbox'\n",
    "iso3166_schema = 'sandbox'\n",
    "essd_schema = 'sandbox'\n",
    "demo_schema = 'demo_dv'\n",
    "\n",
    "sqlstring = 'trino://{user}@{host}:{port}/'.format(\n",
    "    user = os.environ['TRINO_USER'],\n",
    "    host = os.environ['TRINO_HOST'],\n",
    "    port = os.environ['TRINO_PORT']\n",
    ")\n",
    "sqlargs = {\n",
    "    'auth': trino.auth.JWTAuthentication(os.environ['TRINO_PASSWD']),\n",
    "    'http_scheme': 'https',\n",
    "    'catalog': ingest_catalog,\n",
    "    'schema': ingest_schema,\n",
    "}\n",
    "engine = create_engine(sqlstring, connect_args = sqlargs)\n",
    "connection = engine.connect()"
   ]
  },
  {
   "cell_type": "code",
   "execution_count": 53,
   "id": "54031583-f674-4e34-b581-185f31e67cf0",
   "metadata": {},
   "outputs": [],
   "source": [
    "transport_elements = ['Subsector', 'Total CO2 Emissions', 'Emission Intensity', 'Energy Intensity']\n",
    "bldg_elements = ['Parameter', 'Residential Buildings', 'Commercial Buildings']\n",
    "\n",
    "benchmark_years = pd.Series(name='Production', index=pd.Index(list(range(2019,2051))), dtype='float64')\n",
    "benchmark_years.index.name = 'Year'\n",
    "\n",
    "oecm_dict = {\n",
    "    'Utilities': ['Subsector', 'Utilities', 'Total Energy Production (power + gas/fuels)', 'Total CO2 equivalent', 'PJ', 't CO2e/GJ'],\n",
    "    'Steel': ['Parameter', 'Materials / Steel', 'Annual production volume- Iron & Steel Industry', 'Total CO2 equivalent', 'Mt Steel', 't CO2e/(t Steel)'],\n",
    "    'Energy': ['Subsector', 'Energy Industry', 'Total FINAL ENERGY RE-FT production', 'Total CO2 equivalent', 'PJ', 't CO2e/GJ'],\n",
    "    'Transport_UNPRI': ['Subsector','Road Transport', 'Road Transport (excluding vehicle manufacturing)', '', 'km', 'g CO2e/pkm'],\n",
    "    'Alu': ['Parameter', 'Aluminium Industry', 'Annual production volume- aluminium Industry', 'Total CO2 equivalent', 'Mt Aluminum', 't CO2e/(t Aluminum)'],\n",
    "    'Cement': ['Parameter', 'Materials / Cement', 'Cement - production volume in mega tonnes per year', 'Total CO2 equivalent', 'Mt Cement', 't CO2e/(t Cement)'],\n",
    "    'Buildings': ['Parameter', 'Buildings', 'Construction: Residential and Commercial Building - Economic value', 'Total CO2 equivalent', 'billion m**2', 't CO2e/(thousand m**2)'],\n",
    "    'Chemical Industry': ['Parameter', 'Chemical Industry', 'Total Chemical Industry', 'Total CO2 equivalent', 'billion USD', 'kg CO2e/USD'],\n",
    "    'Tex & Lea': ['Parameter', 'Textile & Leather', 'Total Textile & Leather', 'Total CO2 equivalent', 'billion USD', 'kg CO2e/USD'],\n",
    "}"
   ]
  },
  {
   "cell_type": "code",
   "execution_count": 82,
   "id": "926e1771-b070-4960-a48d-26f4ddab64dc",
   "metadata": {
    "tags": []
   },
   "outputs": [],
   "source": [
    "def process_sector_benchmark (sector_benchmark, region, sector, sector_elements):\n",
    "    s = sector_benchmark.iloc[:, 1]\n",
    "    df_elements = [sector_elements[0],sector_elements[2],\n",
    "                   ' '.join([f\"{sector_elements[1]} - Scope 1:\", sector_elements[3]]).rstrip(),\n",
    "                   ' '.join([f\"{sector_elements[1]} - Scope 2:\", sector_elements[3]]).rstrip(),\n",
    "                   ' '.join([f\"{sector_elements[1]} - Scope 3:\", sector_elements[3]]).rstrip()]\n",
    "    if sector == 'Chemical Industry':\n",
    "        df = sector_benchmark.iloc[s.loc[s.isin(df_elements).fillna(False)].index, 1:14][[True]*2 + [False]*6 + [True]*3]\n",
    "    elif sector == 'Tex & Lea':\n",
    "        df = sector_benchmark.iloc[s.loc[s.isin(df_elements).fillna(False)].index, 1:14][[True]*2 + [False]*4 + [True]*3]\n",
    "        # There's an extra column announcing 'ok' in the Europe data we must drop\n",
    "        if region == 'Europe':\n",
    "            df.drop(columns=df.columns[2], inplace=True)\n",
    "    else:\n",
    "        df = sector_benchmark.iloc[s.loc[s.isin(df_elements).fillna(False)].index, 1:14][[True]*2 + [False]*3 + [True]*3]\n",
    "    while df.iloc[0, -1] != '2050':\n",
    "        df.drop(columns=df.columns[-1], inplace=True)\n",
    "    df = df.dropna(how='all', axis=1).T\n",
    "    if sector == 'Transport_UNPRI':\n",
    "        # There's an extra column announcing 'equals [Mt CO2]' we must drop\n",
    "        df.drop(df.index[2], inplace=True)\n",
    "\n",
    "    df.columns = ['Year', 'Production', 'S1', 'S2', 'S3']\n",
    "    df.S3.fillna(0, inplace=True)\n",
    "    units = df.iloc[1, 1:].map(lambda x: x[1:-1].split('/')[0].replace('Mt CO2 equiv.', 'Mt CO2e'), na_action='ignore')\n",
    "    units.replace(\"bn $ GDP\", \"billion USD\")\n",
    "    units.Production = sector_elements[4]\n",
    "    df = df.iloc[2:].astype({'Year':'int16', 'Production':'float', 'S1':'float', 'S2':'float', 'S3':'float'}).set_index('Year')\n",
    "    df.S3.fillna(0, inplace=True)\n",
    "\n",
    "    # Fix Transport\n",
    "    if sector == 'Transport_UNPRI':\n",
    "        # Need to proportionalize total sector emissions vs. passenger-only and then feed back into total\n",
    "        s = pd.concat([sector_benchmark.iloc[:8, 1],sector_benchmark.iloc[87:, 1]])\n",
    "        passenger = sector_benchmark.iloc[s.loc[s.isin(transport_elements).fillna(False)].index, 1:14]\n",
    "        while passenger.iloc[0, -1] != '2050':\n",
    "            passenger.drop(columns=passenger.columns[-1], inplace=True)\n",
    "        passenger = passenger.dropna(how='all', axis=1)[1:4].T\n",
    "        passenger.columns = passenger.iloc[0]\n",
    "        passenger_units = passenger.iloc[1].map(lambda x: x[1:-1].split('/')[0].replace('Mt CO2 equiv.', 'Mt CO2e'), na_action='ignore')\n",
    "        for unit in passenger_units.index:\n",
    "            if 'Intensity' in unit:\n",
    "                passenger_units[unit] = f\"{passenger_units[unit]} / pkm\"\n",
    "        units.Production = (ureg(passenger_units['Total CO2 Emissions']) / ureg(passenger_units['Emission Intensity'])).to('gigapkm').u\n",
    "        passenger = passenger.iloc[2:].astype('float64')\n",
    "        passenger.index = df.index\n",
    "        df = pd.concat([df, passenger], axis=1)\n",
    "        df.Production = df.apply(lambda x: Q_(x['Total CO2 Emissions'], passenger_units['Total CO2 Emissions'])\n",
    "                                 / Q_(x['Emission Intensity'], passenger_units['Emission Intensity']) if x['Emission Intensity'] else np.nan,\n",
    "                                 axis=1).fillna(method='ffill')\n",
    "        scopes = ['S1', 'S2', 'S3']\n",
    "        total_co2 = df[scopes].sum(axis=1)\n",
    "        for scope in scopes:\n",
    "            df[scope] = df[scope] * df['Total CO2 Emissions'] / total_co2\n",
    "        df.drop(columns=transport_elements[1:], inplace=True)\n",
    "        # freight = oecm_bm[sector].iloc[s.loc[s.isin(transport_elements).fillna(False)].index, 1:14].dropna(how='all', axis=1)[3:6].T\n",
    "        # display(freight)\n",
    "    elif sector == 'Buildings':\n",
    "        bldgs = sector_benchmark.iloc[s.loc[s.isin(bldg_elements).fillna(False)].index, 1:14]\n",
    "        while bldgs.iloc[0, -1] != '2050':\n",
    "            bldgs.drop(columns=bldgs.columns[-1], inplace=True)\n",
    "        bldgs = bldgs.dropna(how='all', axis=1).T\n",
    "        bldgs.columns = bldgs.iloc[0]\n",
    "        bldgs_units = bldgs.iloc[1].map(lambda x: x[1:-1])\n",
    "        units.Production = ureg('billions m**2').u\n",
    "        bldgs = bldgs.iloc[2:].astype('float64')\n",
    "        bldgs.index = df.index\n",
    "        df.Production = bldgs.sum(axis=1)\n",
    "\n",
    "    df = pd.DataFrame(benchmark_years).combine_first(df)\n",
    "    # Change type at the end, as the addition of np.nan values can mess with the dtype (making it dtype 'object')\n",
    "    for col in df.columns:\n",
    "        df[col] = df[col].astype(f\"pint[{units[col]}]\")\n",
    "    df.insert(0, \"Sector\", sector_elements[1])\n",
    "    df.insert(0, \"Region\", region)\n",
    "    df['S1+S2'] = df.S1 + df.S2\n",
    "    df['S1+S2+S3'] = df.S1 + df.S2 + df.S3\n",
    "\n",
    "    # Interpolate all missing Production and Scope emissions, except Scope 3 remains zero until we change benchmarks\n",
    "    i = 2019\n",
    "    while i < 2050:\n",
    "        idx1 = i # .Production.first_valid_index()\n",
    "        idx2 = df[df.index>i].Production.first_valid_index()\n",
    "        if idx2 is None:\n",
    "            break\n",
    "        nth_root = 1/(idx2-idx1)\n",
    "        for col in ['Production', 'S1', 'S2', 'S1+S2', 'S3', 'S1+S2+S3']:\n",
    "            if df.loc[idx2, col] == 0:\n",
    "                multiplier = 0\n",
    "                mult_minus_1 = 0\n",
    "            else:\n",
    "                multiplier = ((df.loc[idx2, col] / df.loc[idx1, col])**nth_root).m\n",
    "                mult_minus_1 = multiplier-1\n",
    "            df.loc[idx1, f\"d_{col}\"] = mult_minus_1\n",
    "            for j in range(idx1+1, idx2):\n",
    "                df.loc[j, f\"d_{col}\"] = mult_minus_1\n",
    "                df.loc[j, col] = df.loc[j-1, col] * multiplier\n",
    "        i = idx2\n",
    "    df['EI_S1+S2'] = (df['S1+S2'] / df['Production']).astype(f\"pint[{sector_elements[5]}]\")\n",
    "    df['EI_S3'] = (df['S3'] / df['Production']).astype(f\"pint[{sector_elements[5]}]\")\n",
    "    df['EI_S1+S2+S3'] = (df['S1+S2+S3'] / df['Production']).astype(f\"pint[{sector_elements[5]}]\")\n",
    "    return df"
   ]
  },
  {
   "cell_type": "code",
   "execution_count": 83,
   "id": "f2b55579-6d4a-4009-b71d-41d935a31fb7",
   "metadata": {},
   "outputs": [
    {
     "name": "stdout",
     "output_type": "stream",
     "text": [
      "Region Global Sector Utilities\n",
      "Region Global Sector Steel\n",
      "Region Global Sector Energy\n",
      "Region Global Sector Transport_UNPRI\n"
     ]
    },
    {
     "name": "stderr",
     "output_type": "stream",
     "text": [
      "/opt/app-root/lib64/python3.8/site-packages/pandas/core/dtypes/cast.py:1785: UnitStrippedWarning: The unit of the quantity is stripped when downcasting to ndarray.\n",
      "  result[:] = values\n"
     ]
    },
    {
     "name": "stdout",
     "output_type": "stream",
     "text": [
      "Region Global Sector Alu\n",
      "Region Global Sector Cement\n",
      "Region Global Sector Buildings\n",
      "Region Global Sector Chemical Industry\n",
      "Region Global Sector Tex & Lea\n",
      "Region Europe Sector Utilities\n",
      "Region Europe Sector Steel\n",
      "Region Europe Sector Energy\n",
      "Region Europe Sector Transport_UNPRI\n"
     ]
    },
    {
     "name": "stderr",
     "output_type": "stream",
     "text": [
      "/opt/app-root/lib64/python3.8/site-packages/pandas/core/dtypes/cast.py:1785: UnitStrippedWarning: The unit of the quantity is stripped when downcasting to ndarray.\n",
      "  result[:] = values\n"
     ]
    },
    {
     "name": "stdout",
     "output_type": "stream",
     "text": [
      "Region Europe Sector Alu\n",
      "Region Europe Sector Cement\n",
      "Region Europe Sector Buildings\n",
      "Region Europe Sector Chemical Industry\n",
      "Region Europe Sector Tex & Lea\n",
      "Region North America Sector Utilities\n",
      "Region North America Sector Steel\n",
      "Region North America Sector Energy\n",
      "Region North America Sector Transport_UNPRI\n"
     ]
    },
    {
     "name": "stderr",
     "output_type": "stream",
     "text": [
      "/opt/app-root/lib64/python3.8/site-packages/pandas/core/dtypes/cast.py:1785: UnitStrippedWarning: The unit of the quantity is stripped when downcasting to ndarray.\n",
      "  result[:] = values\n"
     ]
    },
    {
     "name": "stdout",
     "output_type": "stream",
     "text": [
      "Region North America Sector Alu\n",
      "Region North America Sector Cement\n",
      "Region North America Sector Buildings\n",
      "Region North America Sector Chemical Industry\n",
      "Region North America Sector Tex & Lea\n"
     ]
    },
    {
     "name": "stderr",
     "output_type": "stream",
     "text": [
      "/opt/app-root/lib64/python3.8/site-packages/pint_pandas/pint_array.py:648: UnitStrippedWarning: The unit of the quantity is stripped when downcasting to ndarray.\n",
      "  return np.array(qtys, dtype=\"object\", copy=copy)\n"
     ]
    }
   ],
   "source": [
    "df_list = []\n",
    "\n",
    "region_dict = {'Global':'OECM_Global_2022_04_22_Results',\n",
    "               'Europe':'OECM_OECD_Europe_2022_04_22_results',\n",
    "               'North America':'OECM_OECD_North_America_2022_04_22_results_0'}\n",
    "\n",
    "for region, filename in region_dict.items():\n",
    "    wb = pd.read_excel(os.environ.get('PWD')+f\"/itr-data-pipeline/data/external/OECM 20220504/{filename}.xlsx\", sheet_name=None, dtype=str)\n",
    "    for sheet, df in wb.items():\n",
    "        wb[sheet] = df.applymap(lambda x: x.rstrip(), na_action='ignore')\n",
    "    for sector, sector_elements in oecm_dict.items():\n",
    "        print(f\"Region {region} Sector {sector}\")\n",
    "        df = process_sector_benchmark (wb[sector], region, sector, sector_elements)\n",
    "        df_list.append(df)\n",
    "\n",
    "df = pd.concat(df_list)"
   ]
  },
  {
   "cell_type": "code",
   "execution_count": 84,
   "id": "57df845c-6440-43f6-9aa5-c3c6be1cd7b5",
   "metadata": {},
   "outputs": [],
   "source": [
    "bm_prod_dicts1 = {\n",
    "    \"benchmark_temperature\": \"1.5 delta_degC\",\n",
    "    \"benchmark_global_budget\": \"396 Gt CO2\",\n",
    "    \"is_AFOLU_included\": 'false',\n",
    "}\n",
    "\n",
    "# Production is not conditioned on scope--we shouldn't even need it!\n",
    "bm_prod_dicts2 = {\n",
    "    scope: {\n",
    "        \"benchmarks\": [\n",
    "            {\n",
    "                \"sector\": oecm_dict[sheet][1],\n",
    "                \"region\": region,\n",
    "                \"benchmark_metric\": { \"units\": \"dimensionless\" },\n",
    "                \"scenario name\": \"OECM 1.5 Degrees\",\n",
    "                \"release date\": \"2022\",\n",
    "                \"unit\": \"dimensionless\",\n",
    "                \"projections\": [\n",
    "                    {\n",
    "                        \"year\": year,\n",
    "                        \"value\": value.m\n",
    "                    }\n",
    "                    for year, value in df[df.Region.eq(region) & df.Sector.eq(oecm_dict[sheet][1])][['Production']].itertuples()\n",
    "                ]\n",
    "            }\n",
    "            for region, sheet in list(itertools.product(*[region_dict.keys(), oecm_dict.keys()]))\n",
    "        ]\n",
    "    }\n",
    "    for scope in ['S1+S2']\n",
    "}\n",
    "\n",
    "bm_prod_dicts = { **bm_prod_dicts1, **bm_prod_dicts2, }"
   ]
  },
  {
   "cell_type": "code",
   "execution_count": 85,
   "id": "f709b0cc-a950-4f46-867f-e2d392ddd352",
   "metadata": {},
   "outputs": [],
   "source": [
    "bm_ei_dicts1 = {\n",
    "    \"benchmark_temperature\": \"1.5 delta_degC\",\n",
    "    \"benchmark_global_budget\": \"396 Gt CO2\",\n",
    "    \"is_AFOLU_included\": 'false',\n",
    "}\n",
    "\n",
    "bm_ei_dicts2 = {\n",
    "    scope: {\n",
    "        \"benchmarks\": [\n",
    "            {\n",
    "                \"sector\": oecm_dict[sheet][1],\n",
    "                \"region\": region,\n",
    "                \"benchmark_metric\": { \"units\": oecm_dict[sheet][5] },\n",
    "                \"scenario name\": \"OECM 1.5 Degrees\",\n",
    "                \"release date\": \"2022\",\n",
    "                \"unit\": oecm_dict[sheet][5],\n",
    "                \"projections\": [\n",
    "                    {\n",
    "                        \"year\": year,\n",
    "                        \"value\": value.m\n",
    "                    }\n",
    "                    for year, value in df[df.Region.eq(region) & df.Sector.eq(oecm_dict[sheet][1])][[f\"EI_{scope}\"]].itertuples()\n",
    "                ]\n",
    "            }\n",
    "            for region, sheet in list(itertools.product(*[region_dict.keys(), oecm_dict.keys()]))\n",
    "        ]\n",
    "    }\n",
    "    for scope in ['S1+S2', 'S1+S2+S3']\n",
    "}\n",
    "\n",
    "bm_ei_dicts3 = {\n",
    "    \"S3\": {\n",
    "        \"benchmarks\": [\n",
    "            {\n",
    "                \"sector\": oecm_dict[sheet][1],\n",
    "                \"region\": region,\n",
    "                \"benchmark_metric\": { \"units\": oecm_dict[sheet][5] },\n",
    "                \"scenario name\": \"OECM 1.5 Degrees\",\n",
    "                \"release date\": \"2022\",\n",
    "                \"unit\": oecm_dict[sheet][5],\n",
    "                \"projections\": [\n",
    "                    {\n",
    "                        \"year\": year,\n",
    "                        \"value\": value.m\n",
    "                    }\n",
    "                    for year, value in df[df.Region.eq(region) & df.Sector.eq(oecm_dict[sheet][1])][[f\"EI_S3\"]].itertuples()\n",
    "                ]\n",
    "            }\n",
    "            for region, sheet in list(itertools.product(*[region_dict.keys(), oecm_dict.keys()]))\n",
    "            if df[df.Region.eq(region) & df.Sector.eq(oecm_dict[sheet][1])].S3.sum().m\n",
    "        ]\n",
    "    }}\n",
    "\n",
    "bm_ei_dicts = { **bm_ei_dicts1, **bm_ei_dicts2, **bm_ei_dicts3 }"
   ]
  },
  {
   "cell_type": "markdown",
   "id": "b471c769-e406-4afc-8944-2d68dd03f053",
   "metadata": {},
   "source": [
    "### Load Sector Benchmark Data"
   ]
  },
  {
   "cell_type": "code",
   "execution_count": 86,
   "id": "568442fa-9a6c-4667-93ba-a5809a314d0d",
   "metadata": {},
   "outputs": [
    {
     "data": {
      "text/plain": [
       "(866, 17)"
      ]
     },
     "execution_count": 86,
     "metadata": {},
     "output_type": "execute_result"
    }
   ],
   "source": [
    "df.shape"
   ]
  },
  {
   "cell_type": "code",
   "execution_count": null,
   "id": "df2e93c3-dbef-4a63-8a8d-0f2cccebce8c",
   "metadata": {},
   "outputs": [],
   "source": []
  }
 ],
 "metadata": {
  "kernelspec": {
   "display_name": "Python 3 (ipykernel)",
   "language": "python",
   "name": "python3"
  },
  "language_info": {
   "codemirror_mode": {
    "name": "ipython",
    "version": 3
   },
   "file_extension": ".py",
   "mimetype": "text/x-python",
   "name": "python",
   "nbconvert_exporter": "python",
   "pygments_lexer": "ipython3",
   "version": "3.8.8"
  }
 },
 "nbformat": 4,
 "nbformat_minor": 5
}
