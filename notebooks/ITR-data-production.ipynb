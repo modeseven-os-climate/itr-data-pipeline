{
 "cells": [
  {
   "cell_type": "markdown",
   "id": "4896e4d6-daa5-4708-9f43-0d599ba7e670",
   "metadata": {},
   "source": [
    "# ITR Data Pipeline\n",
    "\n",
    "* Global Parameters\n",
    "* Industry Data (Sector Projections)\n",
    "\n",
    "* Portfolio Data\n",
    "* Company Data\n",
    "* Automization\n",
    "* Temperature Scoring"
   ]
  },
  {
   "cell_type": "markdown",
   "id": "4a469d68-26d7-4b07-8481-06d8dd1beb4d",
   "metadata": {},
   "source": [
    "## Environment variables and dot-env\n",
    "\n",
    "The following cell looks for a \"dot-env\" file in some standard locations,\n",
    "and loads its contents into `os.environ`."
   ]
  },
  {
   "cell_type": "code",
   "execution_count": null,
   "id": "8a3b8802-b823-46bd-b96d-cc2df275c808",
   "metadata": {},
   "outputs": [],
   "source": [
    "import os\n",
    "import pathlib\n",
    "from dotenv import load_dotenv\n",
    "\n",
    "# Load some standard environment variables from a dot-env file, if it exists.\n",
    "# If no such file can be found, does not fail, and so allows these environment vars to\n",
    "# be populated in some other way\n",
    "dotenv_dir = os.environ.get('CREDENTIAL_DOTENV_DIR', os.environ.get('PWD', '/opt/app-root/src'))\n",
    "dotenv_path = pathlib.Path(dotenv_dir) / 'credentials.env'\n",
    "if os.path.exists(dotenv_path):\n",
    "    load_dotenv(dotenv_path=dotenv_path,override=True)"
   ]
  },
  {
   "cell_type": "markdown",
   "id": "76dd9d51-0532-44b9-a3fc-a78a301edf4c",
   "metadata": {},
   "source": [
    "## S3 and boto3"
   ]
  },
  {
   "cell_type": "code",
   "execution_count": null,
   "id": "491b3688-8a64-467c-a99e-6db65fa864e6",
   "metadata": {},
   "outputs": [],
   "source": [
    "import boto3\n",
    "\n",
    "s3_source = boto3.resource(\n",
    "    service_name=\"s3\",\n",
    "    endpoint_url=os.environ['S3_LANDING_ENDPOINT'],\n",
    "    aws_access_key_id=os.environ['S3_LANDING_ACCESS_KEY'],\n",
    "    aws_secret_access_key=os.environ['S3_LANDING_SECRET_KEY'],\n",
    ")\n",
    "source_bucket = s3_source.Bucket(os.environ['S3_LANDING_BUCKET'])"
   ]
  },
  {
   "cell_type": "code",
   "execution_count": null,
   "id": "cc527cbc-3c9e-429f-bd23-9bb40446d6f8",
   "metadata": {},
   "outputs": [],
   "source": [
    "from osc_ingest_trino import *\n",
    "\n",
    "s3 = boto3.resource(\n",
    "    service_name=\"s3\",\n",
    "    endpoint_url=os.environ[\"S3_DEV_ENDPOINT\"],\n",
    "    aws_access_key_id=os.environ[\"S3_DEV_ACCESS_KEY\"],\n",
    "    aws_secret_access_key=os.environ[\"S3_DEV_SECRET_KEY\"],\n",
    ")\n",
    "trino_bucket = attach_s3_bucket(\"S3_DEV\")"
   ]
  },
  {
   "cell_type": "markdown",
   "id": "a12b224f-addc-43ec-b53e-d684b4c8ef67",
   "metadata": {},
   "source": [
    "## Connecting to Trino with sqlalchemy"
   ]
  },
  {
   "cell_type": "code",
   "execution_count": null,
   "id": "d8a756db-291f-48ad-8ae8-dad3da4af325",
   "metadata": {},
   "outputs": [],
   "source": [
    "import trino\n",
    "from sqlalchemy.engine import create_engine\n",
    "\n",
    "sqlstring = 'trino://{user}@{host}:{port}/'.format(\n",
    "    user = os.environ['TRINO_USER'],\n",
    "    host = os.environ['TRINO_HOST'],\n",
    "    port = os.environ['TRINO_PORT']\n",
    ")\n",
    "sqlargs = {\n",
    "    'auth': trino.auth.JWTAuthentication(os.environ['TRINO_PASSWD']),\n",
    "    'http_scheme': 'https',\n",
    "    'catalog': 'osc_datacommons_dev'\n",
    "}\n",
    "engine = create_engine(sqlstring, connect_args = sqlargs)\n",
    "connection = engine.connect()\n",
    "\n",
    "ingest_schema = 'itr_mdt'"
   ]
  },
  {
   "cell_type": "code",
   "execution_count": null,
   "id": "d4ea7f5d-ccee-42f0-a855-8e4c5dc9cec8",
   "metadata": {},
   "outputs": [],
   "source": [
    "import pandas as pd\n",
    "import io"
   ]
  },
  {
   "cell_type": "markdown",
   "id": "5ab27f9b-c363-432a-abcb-67b3be944191",
   "metadata": {},
   "source": [
    "### Global Parameters\n",
    "\n",
    "These parameters are set/selected by the ITR tool."
   ]
  },
  {
   "cell_type": "raw",
   "id": "ea52c2d9-3a6e-4bd3-b827-a76689f055b9",
   "metadata": {},
   "source": [
    "tcre = 2.2\n",
    "\n",
    "carb_conversion = 3664\n",
    "\n",
    "BENCHMARK_GLOBAL_BUDGET = 860 # Gt CO2e\n",
    "\n",
    "benchmark_scenario_pathways = [ 'TPI', 'TPI_below_2', 'OECM' ]\n",
    "\n",
    "probability_of_acheiving_target = 0.5"
   ]
  },
  {
   "cell_type": "markdown",
   "id": "aebb1d16-5ad9-41f1-9296-141182a5e652",
   "metadata": {},
   "source": [
    "### Industry Data (Sector Projections)"
   ]
  },
  {
   "cell_type": "code",
   "execution_count": null,
   "id": "b3fb17c6-fe57-4c2d-8f42-394215cb2762",
   "metadata": {},
   "outputs": [],
   "source": [
    "scenarios = {}\n",
    "for scenario in ['TPI', 'TPI_below_2', 'OECM']:\n",
    "    df_dict = pd.read_excel(os.environ.get('PWD')+f\"/itr-data-pipeline/data/external/{scenario}_EI_and_production_benchmarks{('','_v2')[scenario=='OECM']}.xlsx\", sheet_name=None)\n",
    "    for projtype in ['projected_production', 'projected_ei_in_Wh']:\n",
    "        df_dict[projtype]['projection'] = projtype\n",
    "        df_dict[projtype]['scenario'] = scenario\n",
    "    scenarios[scenario] = pd.concat (df_dict.values())\n",
    "df = pd.concat(scenarios, ignore_index=True)\n",
    "cols = df.columns.tolist()\n",
    "cols = cols[-2:]+cols[0:-2]\n",
    "df = df[cols]\n",
    "df"
   ]
  },
  {
   "cell_type": "code",
   "execution_count": null,
   "id": "d84bc7af-9d6a-43dd-b625-e00a359b9854",
   "metadata": {},
   "outputs": [],
   "source": [
    "sector_projections = df.melt(id_vars=cols[0:4], value_vars=cols[4:], var_name='year')\n",
    "sector_projections"
   ]
  },
  {
   "cell_type": "markdown",
   "id": "e280caeb-f90a-4445-8804-bb68ad791f9b",
   "metadata": {},
   "source": [
    "### Portfolio Data"
   ]
  },
  {
   "cell_type": "markdown",
   "id": "3fc5398f-e268-44e5-a145-dbb83d0c695c",
   "metadata": {},
   "source": [
    "Get RMI LEI/ISIN data"
   ]
  },
  {
   "cell_type": "code",
   "execution_count": null,
   "id": "fa4a4574-fe56-4787-96a7-dd7cf6aba6d4",
   "metadata": {},
   "outputs": [],
   "source": [
    "rmi_lei_isin = pd.read_sql('select parent_name, parent_lei, parent_isin from rmi_20211120.utility_information', engine)\n",
    "rmi_dict = dict(zip(rmi_lei_isin.parent_lei, rmi_lei_isin.parent_isin))\n",
    "rmi_lei_isin"
   ]
  },
  {
   "cell_type": "markdown",
   "id": "4d3fc76a-21d6-42a0-8723-e3ad435d62cb",
   "metadata": {},
   "source": [
    "Prepare GLEIF matching data"
   ]
  },
  {
   "cell_type": "code",
   "execution_count": null,
   "id": "250ad414-9c15-416c-a420-a558baf03fee",
   "metadata": {},
   "outputs": [],
   "source": [
    "gleif_file = s3_source.Object(os.environ['S3_LANDING_BUCKET'],'mtiemann-GLEIF/DERA-matches.csv')\n",
    "gleif_file.download_file(f'/tmp/dera-gleif.csv')\n",
    "gleif_df = pd.read_csv(f'/tmp/dera-gleif.csv', header=0, sep=',', dtype=str, engine='c')\n",
    "gleif_dict = dict(zip(gleif_df.name, gleif_df.LEI))"
   ]
  },
  {
   "cell_type": "code",
   "execution_count": null,
   "id": "4e0d0786-74c3-4e8c-91cc-91bf4ae6a609",
   "metadata": {},
   "outputs": [],
   "source": [
    "gleif_dict['Old Dominion Electric Cooperative'.upper()]"
   ]
  },
  {
   "cell_type": "markdown",
   "id": "d24c3aba-4e3a-4383-a11e-f797bd0100b3",
   "metadata": {},
   "source": [
    "Create a very simple entity matcher"
   ]
  },
  {
   "cell_type": "code",
   "execution_count": null,
   "id": "eaff4059-478c-434f-8642-0bc1b7f12343",
   "metadata": {},
   "outputs": [],
   "source": [
    "# gleif_dict['Basin Electric Power Coop'.upper()] = gleif_dict['BASIN ELECTRIC POWER COOPERATIVE']\n",
    "# gleif_dict['Big Rivers Electric Corp'.upper()] = gleif_dict['BIG RIVERS ELECTRIC CORPORATION']\n",
    "gleif_dict['Cleco Partners LP'.upper()] = gleif_dict['CLECO CORPORATE HOLDINGS LLC']\n",
    "# gleif_dict['Golden Spread Electric Coop., Inc'.upper()] = gleif_dict['GOLDEN SPREAD ELECTRIC COOPERATIVE, INC.']\n",
    "gleif_dict['MIDWEST ENERGY INC'] = '549300O4B5CVWMKUES27'\n",
    "gleif_dict['OG&E Energy'.upper()] = gleif_dict['OGE ENERGY CORP.']\n",
    "# gleif_dict['Ohio Valley Electric Corp'.upper()] = gleif_dict['OHIO VALLEY ELECTRIC CORPORATION']\n",
    "gleif_dict['Old Dominion Electric Coop'.upper()] = gleif_dict['OLD DOMINION ELECTRIC COOPERATIVE']\n",
    "gleif_dict['PG&E Corp'.upper()] = gleif_dict['PG&E CORP']\n",
    "gleif_dict['Tri-State Generation & Transmission Association'.upper()] = gleif_dict['TRI-STATE GENERATION & TRANSMISSION ASSOCIATION, INC.']\n",
    "\n",
    "gleif_1 = { k.split(',')[0].split(' ')[0]:v for k,v in gleif_dict.items() }\n",
    "gleif_2 = { ' '.join(k.split(',')[0].split(' ')[0:2]):v for k,v in gleif_dict.items() }\n",
    "\n",
    "def gleif_match(x):\n",
    "    x = x.split(',')[0]\n",
    "    x = x.replace('.','')\n",
    "    if x in gleif_dict:\n",
    "        return gleif_dict[x]\n",
    "    x2 = ' '.join(x.split(' ')[0:2])\n",
    "    if x2 in gleif_2:\n",
    "        return gleif_2[x2]\n",
    "    if ' ' not in x and x in gleif_1:\n",
    "        return gleif_1[x]\n",
    "    return None"
   ]
  },
  {
   "cell_type": "code",
   "execution_count": null,
   "id": "b9388a23-b627-4273-98c6-3faabf27bc2d",
   "metadata": {},
   "outputs": [],
   "source": [
    "portfolio_df = pd.read_csv(os.environ.get('PWD')+f\"/itr-data-pipeline/data/external/example_portfolio_rmi_v3.csv\",\n",
    "                        delimiter=';')\n",
    "portfolio_df.insert(1, 'company_lei', portfolio_df.company_name.str.upper().map(gleif_match))\n",
    "portfolio_df.company_id = portfolio_df.company_lei.map(rmi_dict)\n",
    "portfolio_df = portfolio_df.drop('company_isin', axis=1)\n",
    "display(portfolio_df[portfolio_df.company_lei.isna()])\n",
    "portfolio_df = portfolio_df.dropna(how='any').convert_dtypes()\n",
    "print(len(portfolio_df))\n",
    "portfolio_df.iloc[0:40]"
   ]
  },
  {
   "cell_type": "code",
   "execution_count": null,
   "id": "1e3a62ea-68cc-4234-8cd9-e7740b52b1e4",
   "metadata": {},
   "outputs": [],
   "source": [
    "engine.execute(f\"create schema if not exists {ingest_schema}\").fetchall()\n",
    "\n",
    "qres = engine.execute(f\"show tables in {ingest_schema}\")\n",
    "l = qres.fetchall()\n",
    "for x in l:\n",
    "    qres = engine.execute(f\"drop table {ingest_schema}.{x[0]}\")\n",
    "    display(qres.fetchall())\n",
    "\n",
    "engine.execute(f\"drop schema {ingest_schema}\").fetchall()\n",
    "engine.execute(f\"create schema {ingest_schema}\").fetchall()"
   ]
  },
  {
   "cell_type": "code",
   "execution_count": null,
   "id": "86308054-eca3-4c8d-8eb2-5c3474c5ce94",
   "metadata": {},
   "outputs": [],
   "source": [
    "buf = io.BytesIO()\n",
    "portfolio_df.to_parquet(path=buf)\n",
    "buf.seek(0)\n",
    "trino_bucket.upload_fileobj(Fileobj=buf,\n",
    "                            Key=f'trino/{ingest_schema}/portfolio/data.parquet')\n",
    "\n",
    "columnschema = create_table_schema_pairs(enforce_sql_column_names(portfolio_df))\n",
    "tabledef = f\"\"\"\n",
    "create table if not exists {ingest_schema}.portfolio (\n",
    "{columnschema}\n",
    ") with (\n",
    "format = 'parquet',\n",
    "external_location = 's3a://{trino_bucket.name}/trino/{ingest_schema}/portfolio/'\n",
    ")\n",
    "\"\"\"\n",
    "print(tabledef)\n",
    "\n",
    "table_create = engine.execute(tabledef)\n",
    "for row in table_create.fetchall():\n",
    "    print(row)"
   ]
  },
  {
   "cell_type": "markdown",
   "id": "df6ae7d1-a2cc-470f-9f77-8e529301701c",
   "metadata": {},
   "source": [
    "### Company Data"
   ]
  },
  {
   "cell_type": "code",
   "execution_count": null,
   "id": "f782e255-1568-4030-9aa9-2ea7baa30e1d",
   "metadata": {},
   "outputs": [],
   "source": [
    "# We have no S3 emissions in RMI data.\n",
    "\n",
    "engine.execute(\"select * from sec_dera.sic_isic\").fetchall()"
   ]
  },
  {
   "cell_type": "code",
   "execution_count": null,
   "id": "7d586589-1d5c-4c2b-9121-39399ea582cb",
   "metadata": {},
   "outputs": [],
   "source": [
    "gleif_dict['AES Corp'.upper()]"
   ]
  },
  {
   "cell_type": "code",
   "execution_count": null,
   "id": "c6783119-0836-4324-8afd-b5d45a99839a",
   "metadata": {
    "tags": []
   },
   "outputs": [],
   "source": [
    "gleif_2['AES CORP']"
   ]
  },
  {
   "cell_type": "code",
   "execution_count": null,
   "id": "2a842845-a962-46f0-825e-c1fa56ec8b56",
   "metadata": {},
   "outputs": [],
   "source": [
    "# Search for NEXTERA ENERGY PARTNERS LP\n",
    "qres = engine.execute(\"select * from rmi_20211120.utility_information where parent_lei='5493008F4ZOQFNG3WN54'\")\n",
    "l = qres.fetchall()\n",
    "print(len(l))"
   ]
  },
  {
   "cell_type": "code",
   "execution_count": null,
   "id": "a1ffb8e4-fffa-4773-b32f-1b1eb7da41a5",
   "metadata": {},
   "outputs": [],
   "source": [
    "l"
   ]
  },
  {
   "cell_type": "code",
   "execution_count": null,
   "id": "8c2660ed-b81c-474c-8d7c-b09924d0edd6",
   "metadata": {},
   "outputs": [],
   "source": [
    "lei = '2NUNNB7D43COUIRE5295'\n",
    "qres=engine.execute(f\"\"\"\n",
    "select count (*), U.parent_name, U.parent_lei, 'co2', sum(EM.emissions_co2)*1000000, 'nox', sum(EM.emissions_nox), 'co2e', sum(EM.emissions_co2)*1000000 + 265 * sum(coalesce(EM.emissions_nox,0)), EM.year\n",
    "from rmi_20211120.utility_information as U join rmi_20211120.operations_emissions_by_fuel as EM on U.respondent_id=EM.respondent_id\n",
    "where U.parent_lei='{lei}' -- and EM.owned_or_total='owned'\n",
    "group by U.parent_name, U.parent_lei, EM.year\n",
    "order by EM.year desc\n",
    "\"\"\")\n",
    "qres.fetchall()"
   ]
  },
  {
   "cell_type": "raw",
   "id": "4659139f-3c99-4b4d-9855-f1d80b4127f5",
   "metadata": {},
   "source": [
    "qres=engine.execute(f\"select * from sec_dera.financials_by_lei where lei = 'TWSEY0NEDUDCKS27AH81'\")\n",
    "qres.fetchall()"
   ]
  },
  {
   "cell_type": "raw",
   "id": "56e45de5-679a-42f9-97c1-9073ed0fd385",
   "metadata": {},
   "source": [
    "qres=engine.execute(f\"select * from itr_mdt.portfolio where lei = 'TWSEY0NEDUDCKS27AH81'\")\n",
    "qres.fetchall()"
   ]
  },
  {
   "cell_type": "raw",
   "id": "d9c30a79-29f8-43af-9dfb-0fbc0b8a9aec",
   "metadata": {},
   "source": [
    "qres = engine.execute(\"\"\"\n",
    "select AEI.parent_name, U.parent_lei, U.respondent_id, AEI.year, sum(AEI.asset_value) as fy_asset_value, sum(AEI.earnings_value) as fy_earnings_value\n",
    "from rmi_20211120.assets_earnings_investments as AEI join rmi_20211120.utility_information U on AEI.respondent_id=U.respondent_id\n",
    "where U.parent_lei='TWSEY0NEDUDCKS27AH81' and AEI.year=DATE('2019-01-01')\n",
    "group by AEI.parent_name, U.parent_lei, U.respondent_id, AEI.year\n",
    "\"\"\")\n",
    "l = qres.fetchall()\n",
    "print(len(l))\n",
    "l[:10]"
   ]
  },
  {
   "cell_type": "code",
   "execution_count": null,
   "id": "2ff246c6-6245-463a-8a6b-67fe6a143568",
   "metadata": {},
   "outputs": [],
   "source": [
    "qres = engine.execute(f\"\"\"\n",
    "select F.name, F.lei, T.tname, U2.parent_ticker, F.sic, F.ddate,\n",
    "       'revenue' as rl, round (F.revenue_usd/1000000.0, 1), round (RT2.fy_revenue_total/1000000.0, 1), round (CS2.fy_revenues/1000000.0, 1), round (F.revenue_usd/RT2.fy_revenue_total, 1), round (F.revenue_usd/CS2.fy_revenues, 1),\n",
    "       'market_cap' as fl, round (F.market_cap_usd/1000000.0, 1),\n",
    "       'EV' as el, round ((F.market_cap_usd+F.debt_usd-F.cash_usd)/1000000, 1),\n",
    "       'assets' as al, round (F.assets_usd/1000000.0, 1), round (AEI2.asset_value/1000000.0, 1), round (F.assets_usd/AEI2.asset_value, 1),\n",
    "       'cash' as cc, round (F.cash_usd/1000000.0, 1),\n",
    "       -- 'income' as il, F.income_usd/1000000.0, AEI2.fy_earnings_value/1000000.0, F.income_usd/AEI2.fy_earnings_value,\n",
    "       'counts: ulei, aei, rt, cs' as legend, c_ulei, c_aei, c_rt, c_cs\n",
    "from {ingest_schema}.portfolio as P\n",
    "     join (select count (*) as c_ulei, U.parent_name, U.parent_lei, U.parent_ticker\n",
    "           from rmi_20211120.utility_information as U\n",
    "           group by U.parent_name, U.parent_lei, U.parent_ticker) as U2 on U2.parent_lei=P.company_lei\n",
    "     join sec_dera.financials_by_lei as F on F.lei=P.company_lei\n",
    "     join (select count (*) as c_cs, CS.parent_name, CS.year, sum(revenues) as fy_revenues\n",
    "           from rmi_20211120.customers_sales as CS\n",
    "           group by CS.parent_name, CS.year) as CS2 on CS2.parent_name=U2.parent_name and year(CS2.year)=year(F.ddate)\n",
    "     join (select count (*) as c_aei, AEI.parent_name, AEI.year, sum(AEI.asset_value) as asset_value, sum(AEI.earnings_value) as fy_earnings_value\n",
    "           from rmi_20211120.assets_earnings_investments as AEI\n",
    "           group by AEI.parent_name, AEI.year) as AEI2 on AEI2.parent_name=U2.parent_name and year(AEI2.year)=year(F.ddate)\n",
    "     left join (select count (*) as c_rt, RT.parent_name, RT.year, sum(RT.revenue_total) as fy_revenue_total\n",
    "           from rmi_20211120.revenue_by_tech as RT\n",
    "           group by RT.parent_name, RT.year) as RT2 on RT2.parent_name=U2.parent_name and year(RT2.year)=year(F.ddate)\n",
    "     left join sec_dera.ticker T on F.cik=T.cik and upper(T.tname)=U2.parent_ticker\n",
    "where year(F.ddate)=2019\n",
    "order by F.name\n",
    "\"\"\")\n",
    "\n",
    "l = qres.fetchall()\n",
    "print(len(l))\n",
    "[x for x in l if any(x) is None]"
   ]
  },
  {
   "cell_type": "code",
   "execution_count": null,
   "id": "b3f6254f-1607-4a43-bb15-45d24d60382d",
   "metadata": {},
   "outputs": [],
   "source": [
    "l"
   ]
  },
  {
   "cell_type": "raw",
   "id": "c73ba06b-0080-4ca2-8c0b-908186d9e8d6",
   "metadata": {
    "tags": []
   },
   "source": [
    "qres = engine.execute(\"show tables in rmi_20211120\")\n",
    "l = qres.fetchall()\n",
    "for x in l:\n",
    "    qres = engine.execute(f\"select count(*) from rmi_20211120.{x[0]}\")\n",
    "    display(f\"{x[0]}: {qres.fetchall()[0][0]}\")\n",
    "    qres = engine.execute(f\"describe rmi_20211120.{x[0]}\")\n",
    "    display([': '.join(x[0:2]) for x in qres.fetchall()])"
   ]
  },
  {
   "cell_type": "raw",
   "id": "a6afa6d4-ce8f-4833-9f25-2e0406343b93",
   "metadata": {},
   "source": [
    "qres=engine.execute(f\"\"\"\n",
    "select CS.* -- count (*) as c_cs, U.parent_lei, CS.year, sum(CS.revenues) as fy_revenues\n",
    "from rmi_20211120.customers_sales as CS join rmi_20211120.utility_information U on CS.parent_name=U.parent_name\n",
    "where CS.year=DATE('2019-01-01') and U.parent_lei='{lei}'\n",
    "-- group by U.parent_lei, CS.year\n",
    "\"\"\")\n",
    "l = qres.fetchall()\n",
    "print(len(l))"
   ]
  },
  {
   "cell_type": "raw",
   "id": "32c27aea-584e-44a7-828d-222502d50ce6",
   "metadata": {},
   "source": [
    "qres = engine.execute(f\"\"\"\n",
    "select year(CS2.year), U2.parent_name, U2.parent_lei, U2.parent_ticker,\n",
    "       round(RT2.fy_revenue_total/1000000.0,1), round(CS2.fy_revenues/1000000.0,1),\n",
    "       cast(round((1-RT2.fy_revenue_total/CS2.fy_revenues)*100,1) as varchar) || '%',\n",
    "       'counts: ulei, rt, cs' as legend, c_ulei, c_rt, c_cs\n",
    "from (select count (*) as c_ulei, U.parent_name, U.parent_lei, U.parent_ticker\n",
    "           from rmi_20211120.utility_information as U\n",
    "           group by U.parent_name, U.parent_lei, U.parent_ticker) as U2\n",
    "     join (select count (*) as c_cs, CS.year, CS.parent_name, sum(revenues) as fy_revenues\n",
    "           from rmi_20211120.customers_sales as CS\n",
    "           group by CS.year, CS.parent_name) as CS2 on CS2.parent_name=U2.parent_name and CS2.year>=DATE('2018-01-01')\n",
    "     join (select count (*) as c_rt, RT.year, RT.parent_name, sum(RT.revenue_total) as fy_revenue_total\n",
    "           from rmi_20211120.revenue_by_tech as RT\n",
    "           group by RT.year, RT.parent_name) as RT2 on RT2.parent_name=U2.parent_name and RT2.year=CS2.year\n",
    "order by year(CS2.year) desc, U2.parent_name\n",
    "\"\"\")\n",
    "\n",
    "l = qres.fetchall()\n",
    "print(len(l))\n",
    "display(l[0:20])\n",
    "display(l[60:80])"
   ]
  },
  {
   "cell_type": "code",
   "execution_count": null,
   "id": "48844b2b-1e28-4afd-9ab8-fe87ca28fdde",
   "metadata": {},
   "outputs": [],
   "source": [
    "engine.execute(\"select * from sec_dera.num where tag = 'ComputedTreasuryFloat'\").fetchall()"
   ]
  },
  {
   "cell_type": "raw",
   "id": "0830fd27-dc6d-4e75-9e8b-2ca6950d62fd",
   "metadata": {},
   "source": [
    "# owned_or_total is handled upstream, upon ingestion of RMI data\n",
    "\n",
    "engine.execute(\"\"\"\n",
    "select year, E.parent_name, E.respondent_id, plant_name_eia, sum(emissions_co2), sum(emissions_nox) from rmi_20211120.operations_emissions_by_fuel as E\n",
    "       join rmi_20211120.utility_information as U on E.respondent_id=U.respondent_id\n",
    "where U.parent_lei='549300NNLSIMY6Z8OT86' and year(E.year)=2019\n",
    "group by year, E.parent_name, E.respondent_id, plant_name_eia\n",
    "\"\"\").fetchall()"
   ]
  },
  {
   "cell_type": "code",
   "execution_count": null,
   "id": "d4478c8a-cc0f-436f-911e-fc927bea7ae2",
   "metadata": {},
   "outputs": [],
   "source": [
    "qres = engine.execute(f\"\"\"\n",
    "select DISTINCT 'P.company_name', 'P.company_lei', 'P.company_id', 'S2I.isic',\n",
    "       'F.country', 'UN.region', 'sector', 'production', 'ghg_s1s2', 'ghg_s3',\n",
    "       'F.revenue_usd', 'F.market_cap_usd', 'EV', 'F.assets_usd', 'F.cash_usd',\n",
    "       'target_probability'\n",
    "\"\"\")\n",
    "l = qres.fetchall()\n",
    "print(l)\n",
    "\n",
    "sql = f\"\"\"\n",
    "select DISTINCT P.company_name, P.company_lei, P.company_id, S2I.isic,\n",
    "       F.country, UN.region_ar6_10 as region,\n",
    "       'Electricity Utilities' as sector, sum(E.generation) as production, sum(E.emissions_co2 + (265/1000000.0)*coalesce(E.emissions_nox, 0)) as ghg_s1s2, NULL as ghg_s3,\n",
    "       F.revenue_usd as company_revenue,\n",
    "       F.market_cap_usd as company_market_cap,\n",
    "       F.market_cap_usd+F.debt_usd-F.cash_usd as company_enterprise_value,\n",
    "       F.assets_usd as company_total_assets,\n",
    "       F.cash_usd as company_cash_equivalents,\n",
    "       cast(0.5 as real) as target_probability\n",
    "from {ingest_schema}.portfolio as P\n",
    "     left join sec_dera.financials_by_lei as F on F.lei=P.company_lei and F.ddate>=DATE('2019-01-01') and F.ddate<DATE('2020-01-01')\n",
    "     join iso3166.countries as I on F.country=I.alpha_2\n",
    "     join essd.regions as UN on I.alpha_3=UN.iso\n",
    "     -- join sec_dera.sub as S on S.cik=F.cik\n",
    "     left join rmi_20211120.utility_information as U on U.parent_lei=P.company_lei\n",
    "     -- left join gleif_mdt.gleif_isin_lei G on G.lei=P.lei and G.isin=U.parent_isin\n",
    "     left join sec_dera.sic_isic as S2I on S2I.sic=F.sic\n",
    "     left join rmi_20211120.operations_emissions_by_fuel as E on U.respondent_id=E.respondent_id and year(E.year)=year(F.ddate)\n",
    "-- where E.owned_or_total='owned'\n",
    "group by P.company_name, P.company_lei, P.company_id, S2I.isic,\n",
    "       F.country, UN.region_ar6_10, 'Electric Utilties', NULL,\n",
    "       F.revenue_usd, F.market_cap_usd, F.market_cap_usd+F.debt_usd-F.cash_usd, F.assets_usd, F.cash_usd,\n",
    "       cast(0.5 as real)\n",
    "order by P.company_name\n",
    "limit 200\n",
    "\"\"\"\n",
    "\n",
    "qres = engine.execute(sql)\n",
    "l = qres.fetchall()\n",
    "print(len(l))\n",
    "display(l[0:40])"
   ]
  },
  {
   "cell_type": "code",
   "execution_count": null,
   "id": "4783db2a-2200-482d-9545-2cc2066a7bda",
   "metadata": {},
   "outputs": [],
   "source": [
    "financial_df = pd.read_sql(sql, engine)\n",
    "print(len(financial_df))"
   ]
  },
  {
   "cell_type": "markdown",
   "id": "5f1924b1-8ed6-4f65-acd5-328a17a038c0",
   "metadata": {},
   "source": [
    "### Load emissions target data"
   ]
  },
  {
   "cell_type": "code",
   "execution_count": null,
   "id": "22a1bc84-bd10-414f-8a67-dd01ba52c546",
   "metadata": {},
   "outputs": [],
   "source": [
    "engine.execute(\"describe rmi_20211120.emissions_targets\").fetchall()"
   ]
  },
  {
   "cell_type": "code",
   "execution_count": null,
   "id": "f956311f-c109-4e3b-bc36-0aed266ca949",
   "metadata": {},
   "outputs": [],
   "source": [
    "targets_df = pd.read_sql(f\"\"\"\n",
    "select ET.parent_name as company_name, year, co2_target_all_years, co2_intensity_target_all_years, generation_projected\n",
    "from rmi_20211120.emissions_targets ET\n",
    "     -- left join (select parent_name, parent_lei from rmi_20211120.utility_information group by parent_name, parent_lei) U\n",
    "     --      on ET.parent_name=U.parent_name\n",
    "\"\"\", engine, parse_dates=['year'])\n",
    "\n",
    "print(len(targets_df))"
   ]
  },
  {
   "cell_type": "code",
   "execution_count": null,
   "id": "8e43caf6-de04-4031-8396-f01cb5d7f3ab",
   "metadata": {},
   "outputs": [],
   "source": [
    "def compute_sums_and_wavg(x):\n",
    "    d = {}\n",
    "    d['co2_target_by_year'] = x['co2_target_all_years'].sum()\n",
    "    d['co2_intensity_target_by_year'] = (x['generation_projected'] * x['co2_intensity_target_all_years']).sum() / x['generation_projected'].sum()\n",
    "    d['generation_by_year'] = x['generation_projected'].sum()\n",
    "    return pd.Series(d, index=['co2_target_by_year', 'co2_intensity_target_by_year', 'generation_by_year'])\n",
    "\n",
    "df = (targets_df[targets_df.year.dt.year>=2019]\n",
    "      .fillna(0).groupby(['company_name', 'year'])\n",
    "      .apply(compute_sums_and_wavg)\n",
    "      .sort_values(['company_name', 'year'], ascending=[True, False])\n",
    "     )"
   ]
  },
  {
   "cell_type": "code",
   "execution_count": null,
   "id": "476e6158-6089-44c2-ae63-d2acb4c11d85",
   "metadata": {},
   "outputs": [],
   "source": [
    "df.loc[('AES Corp.','2045-01-01')]"
   ]
  },
  {
   "cell_type": "code",
   "execution_count": null,
   "id": "d1ce53a5-583b-45a3-8a01-8eb9ad3f9351",
   "metadata": {},
   "outputs": [],
   "source": [
    "xdf = df.reset_index()\n",
    "xdf.year = xdf.year.map(lambda x: x.year)\n",
    "pdf = xdf.pivot(index=['company_name'], columns='year').reset_index()\n",
    "pdf.insert(1, 'company_lei', pdf.company_name.str.upper().map(gleif_match))\n",
    "pdf.insert(2, 'company_id', pdf.company_lei.map(rmi_dict))\n",
    "pdf = pdf.set_index(['company_name','company_lei', 'company_id'], drop=True)\n",
    "pdf.columns.names=[None,None]\n",
    "pdf"
   ]
  },
  {
   "cell_type": "code",
   "execution_count": null,
   "id": "a156bb94-add8-4338-b18e-7ed15da5ff36",
   "metadata": {},
   "outputs": [],
   "source": [
    "co2_df = pdf.co2_target_by_year.reset_index()\n",
    "co2_df = co2_df[co2_df.company_id.notna()]\n",
    "co2_df.insert(3, 'variable', 'S1+S2')\n",
    "co2_df.head()"
   ]
  },
  {
   "cell_type": "code",
   "execution_count": null,
   "id": "d33494a0-210a-4190-85e2-5b4c2383feb2",
   "metadata": {},
   "outputs": [],
   "source": [
    "co2_ei_df = pdf.co2_intensity_target_by_year.reset_index()\n",
    "co2_ei_df.iloc[:, 3] = 2*co2_ei_df.iloc[:, 4] - co2_ei_df.iloc[:, 5]\n",
    "co2_ei_df = co2_ei_df[co2_ei_df.company_id.notna()]\n",
    "co2_ei_df.insert(3, 'variable', 'S1+S2')\n",
    "co2_ei_df.head()"
   ]
  },
  {
   "cell_type": "code",
   "execution_count": null,
   "id": "2437a7e6-71b5-4046-8b32-b764fdc8bda3",
   "metadata": {},
   "outputs": [],
   "source": [
    "gen_df = pdf.generation_by_year.reset_index()\n",
    "gen_df.iloc[:, 3] = 2*gen_df.iloc[:, 4] - gen_df.iloc[:, 5]\n",
    "gen_df = gen_df[gen_df.company_id.notna()]\n",
    "gen_df.insert(3, 'variable', 'TWh')\n",
    "gen_df.head()"
   ]
  },
  {
   "cell_type": "code",
   "execution_count": null,
   "id": "006f6858-5818-4a25-8726-9521bdcb0559",
   "metadata": {},
   "outputs": [],
   "source": [
    "with pd.ExcelWriter(\"rmi-20211120-output.xlsx\", datetime_format=\"YYYY\") as writer:\n",
    "    financial_df.to_excel(writer, sheet_name=\"fundamental_data\", index=False)\n",
    "    co2_df.to_excel(writer, sheet_name=\"projected_target\", index=False)\n",
    "    co2_ei_df.to_excel(writer, sheet_name=\"projected_ei_in_Wh\", index=False)\n",
    "    gen_df.to_excel(writer, sheet_name=\"projected_production\", index=False)"
   ]
  },
  {
   "cell_type": "code",
   "execution_count": null,
   "id": "1b7c9c63-f214-4ef6-a9e1-3db26b863b2e",
   "metadata": {},
   "outputs": [],
   "source": [
    "portfolio_zero = portfolio_df.copy()\n",
    "portfolio_zero.target_probability = 0.0\n",
    "portfolio_one = portfolio_df.copy()\n",
    "portfolio_one.target_probability = 1.0\n",
    "\n",
    "portfolio_df.to_csv(\"rmi-20211120-portfolio.csv\", sep=';', index=False)"
   ]
  },
  {
   "cell_type": "code",
   "execution_count": null,
   "id": "0b88ee93-5cb2-4cc9-84f4-8aa1260f3f0f",
   "metadata": {},
   "outputs": [],
   "source": []
  }
 ],
 "metadata": {
  "kernelspec": {
   "display_name": "Python 3",
   "language": "python",
   "name": "python3"
  },
  "language_info": {
   "codemirror_mode": {
    "name": "ipython",
    "version": 3
   },
   "file_extension": ".py",
   "mimetype": "text/x-python",
   "name": "python",
   "nbconvert_exporter": "python",
   "pygments_lexer": "ipython3",
   "version": "3.8.3"
  }
 },
 "nbformat": 4,
 "nbformat_minor": 5
}
