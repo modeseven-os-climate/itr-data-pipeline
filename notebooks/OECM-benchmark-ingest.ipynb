{
 "cells": [
  {
   "cell_type": "markdown",
   "id": "4896e4d6-daa5-4708-9f43-0d599ba7e670",
   "metadata": {
    "tags": []
   },
   "source": [
    "# OECM Benchmark Data Pipeline\n",
    "\n",
    "The Benchmark data pipelines organize and assemble benchmark data needed for the ITR tool.  This pipeline supports the OECM Benchmark version 2 (published 4 May 2022).\n"
   ]
  },
  {
   "cell_type": "markdown",
   "id": "4a469d68-26d7-4b07-8481-06d8dd1beb4d",
   "metadata": {},
   "source": [
    "### Environment variables and dot-env\n",
    "\n",
    "The following cell looks for a \"dot-env\" file in some standard locations,\n",
    "and loads its contents into `os.environ`."
   ]
  },
  {
   "cell_type": "code",
   "execution_count": 1,
   "id": "9e2548c9-2e92-4db5-aecd-6ba64c5f59a2",
   "metadata": {},
   "outputs": [],
   "source": [
    "from dotenv import dotenv_values, load_dotenv\n",
    "import os\n",
    "import pathlib\n",
    "import numpy as np\n",
    "import pandas as pd\n",
    "import trino\n",
    "from sqlalchemy.engine import create_engine\n",
    "import osc_ingest_trino as osc\n",
    "# import python_pachyderm"
   ]
  },
  {
   "cell_type": "markdown",
   "id": "016b9282-c249-45ca-adea-dd9e6f56056e",
   "metadata": {},
   "source": [
    "Define Environment and Execution Variables"
   ]
  },
  {
   "cell_type": "code",
   "execution_count": 2,
   "id": "44e0c077-bfbf-41d1-ab61-ac39856216b0",
   "metadata": {},
   "outputs": [],
   "source": [
    "# Load environment variables from credentials.env\n",
    "osc.load_credentials_dotenv()"
   ]
  },
  {
   "cell_type": "code",
   "execution_count": 3,
   "id": "1917075f-fb16-440a-9f5b-d1c61124ec2c",
   "metadata": {},
   "outputs": [],
   "source": [
    "import io\n",
    "import json\n",
    "import itertools"
   ]
  },
  {
   "cell_type": "code",
   "execution_count": 4,
   "id": "045da39d-b4da-479f-8d03-55818fbd36c8",
   "metadata": {},
   "outputs": [],
   "source": [
    "# See data-platform-demo/pint-demo.ipynb for quantify/dequantify functions\n",
    "\n",
    "import warnings  # needed until quantile behaves better with Pint quantities in arrays\n",
    "from pint import set_application_registry, Quantity\n",
    "from pint_pandas import PintArray, PintType\n",
    "from openscm_units import unit_registry\n",
    "\n",
    "# openscm_units doesn't make it easy to set preprocessors.  This is one way to do it.\n",
    "unit_registry.preprocessors=[\n",
    "     # lambda s1: s1.replace('passenger km', 'passenger_km'),\n",
    "     lambda s2: s2.replace('BoE', 'boe'),\n",
    "]\n",
    "\n",
    "PintType.ureg = unit_registry\n",
    "ureg = unit_registry\n",
    "set_application_registry(ureg)\n",
    "Q_ = ureg.Quantity\n",
    "PA_ = PintArray\n",
    "\n",
    "ureg.define(\"CO2e = CO2 = CO2eq = CO2_eq\")\n",
    "ureg.define(\"Fe = [iron] = Steel\")\n",
    "ureg.define(\"iron = Fe\")\n",
    "ureg.define(\"Al = [aluminum] = Aluminum\")\n",
    "ureg.define(\"aluminum = Al\")\n",
    "ureg.define(\"Cement = [cement]\")\n",
    "ureg.define(\"cement = Cement\")\n",
    "\n",
    "# For reports that use 10,000 t instead of 1e3 or 1e6                                                                                                                                                                                                        \n",
    "ureg.define('myria- = 10000')\n",
    "\n",
    "# These are for later\n",
    "ureg.define('fraction = [] = frac')\n",
    "ureg.define('percent = 1e-2 frac = pct = percentage')\n",
    "ureg.define('ppm = 1e-6 fraction')\n",
    "\n",
    "ureg.define(\"USD = [currency]\")\n",
    "ureg.define(\"EUR = nan USD\")\n",
    "ureg.define(\"JPY = nan USD\")\n",
    "\n",
    "ureg.define(\"btu = Btu\")\n",
    "ureg.define(\"mmbtu = 1e6 btu\")\n",
    "# ureg.define(\"boe = 5.712 GJ\")                                                                                                                                                                                                                              \n",
    "ureg.define(\"boe = 6.1178632 GJ\")\n",
    "ureg.define(\"mboe = 1e3 boe\")\n",
    "ureg.define(\"mmboe = 1e6 boe\")\n",
    "\n",
    "# Transportation activity\n",
    "\n",
    "ureg.define(\"vehicle = [vehicle] = v\")\n",
    "ureg.define(\"passenger = [passenger] = p = pass\")\n",
    "ureg.define(\"vkm = vehicle * kilometer\")\n",
    "ureg.define(\"pkm = passenger * kilometer\")\n",
    "ureg.define(\"tkm = tonne * kilometer\")\n",
    "\n",
    "ureg.define('hundred = 1e2')\n",
    "ureg.define('thousand = 1e3')\n",
    "ureg.define('million = 1e6')\n",
    "ureg.define('billion = 1e9')\n",
    "ureg.define('trillion = 1e12')\n",
    "ureg.define('quadrillion = 1e15')"
   ]
  },
  {
   "cell_type": "markdown",
   "id": "76dd9d51-0532-44b9-a3fc-a78a301edf4c",
   "metadata": {},
   "source": [
    "### S3 and boto3"
   ]
  },
  {
   "cell_type": "code",
   "execution_count": 5,
   "id": "491b3688-8a64-467c-a99e-6db65fa864e6",
   "metadata": {},
   "outputs": [],
   "source": [
    "import boto3\n",
    "\n",
    "s3_source = boto3.resource(\n",
    "    service_name=\"s3\",\n",
    "    endpoint_url=os.environ['S3_LANDING_ENDPOINT'],\n",
    "    aws_access_key_id=os.environ['S3_LANDING_ACCESS_KEY'],\n",
    "    aws_secret_access_key=os.environ['S3_LANDING_SECRET_KEY'],\n",
    ")\n",
    "source_bucket = s3_source.Bucket(os.environ['S3_LANDING_BUCKET'])"
   ]
  },
  {
   "cell_type": "markdown",
   "id": "a12b224f-addc-43ec-b53e-d684b4c8ef67",
   "metadata": {},
   "source": [
    "### Connecting to Trino with sqlalchemy\n",
    "\n",
    "In the context of the Data Vault, this pipeline operates with full visibiilty into all the data it prepares for the ITR tool.  When the data is output, it is labeled so that the Data Vault can enforce its data management access rules."
   ]
  },
  {
   "cell_type": "code",
   "execution_count": 6,
   "id": "d8a756db-291f-48ad-8ae8-dad3da4af325",
   "metadata": {},
   "outputs": [
    {
     "name": "stdout",
     "output_type": "stream",
     "text": [
      "using connect string: trino://MichaelTiemannOSC@trino-secure-odh-trino.apps.odh-cl2.apps.os-climate.org:443/osc_datacommons_dev\n"
     ]
    }
   ],
   "source": [
    "ingest_catalog = 'osc_datacommons_dev'\n",
    "ingest_schema = 'sandbox'\n",
    "dera_schema = 'sandbox'\n",
    "dera_prefix = 'dera_'\n",
    "gleif_schema = 'sandbox'\n",
    "rmi_schema = 'sandbox'\n",
    "iso3166_schema = 'sandbox'\n",
    "essd_schema = 'sandbox'\n",
    "essd_prefix = 'essd_'\n",
    "demo_schema = 'demo_dv'\n",
    "\n",
    "engine = osc.attach_trino_engine(verbose=True, catalog=ingest_catalog)"
   ]
  },
  {
   "cell_type": "markdown",
   "id": "ebc7e7e6-98d8-4cae-8d00-3180b03af0a9",
   "metadata": {},
   "source": [
    "### Definitions and dictionaries for reading from / writing to the outside world"
   ]
  },
  {
   "cell_type": "code",
   "execution_count": 7,
   "id": "54031583-f674-4e34-b581-185f31e67cf0",
   "metadata": {},
   "outputs": [],
   "source": [
    "transport_elements = ['Subsector', 'Total CO2 Emissions', 'Emission Intensity', 'Energy Intensity']\n",
    "bldg_elements = ['Parameter', 'Residential Buildings', 'Commercial Buildings']\n",
    "\n",
    "benchmark_years = pd.Series(name='Production', index=pd.Index(list(range(2019,2051))), dtype='float64')\n",
    "benchmark_years.index.name = 'Year'\n",
    "\n",
    "oecm_dict = {\n",
    "    'Utilities': ['Subsector', 'Utilities', 'Total Energy Production (power + gas/fuels)', 'Total CO2 equivalent', 'PJ', 't CO2e/GJ'],\n",
    "    'Steel': ['Parameter', 'Materials / Steel', 'Annual production volume- Iron & Steel Industry', 'Total CO2 equivalent', 'Mt Steel', 't CO2e/(t Steel)'],\n",
    "    'Energy': ['Subsector', 'Energy Industry', 'Total FINAL ENERGY RE-FT production', 'Total CO2 equivalent', 'PJ', 't CO2e/GJ'],\n",
    "    'Transport_UNPRI': ['Subsector','Road Transport', 'Road Transport (excluding vehicle manufacturing)', '', 'km', 'g CO2e/pkm'],\n",
    "    'Alu': ['Parameter', 'Aluminium Industry', 'Annual production volume- aluminium Industry', 'Total CO2 equivalent', 'Mt Aluminum', 't CO2e/(t Aluminum)'],\n",
    "    'Cement': ['Parameter', 'Materials / Cement', 'Cement - production volume in mega tonnes per year', 'Total CO2 equivalent', 'Mt Cement', 't CO2e/(t Cement)'],\n",
    "    'Buildings': ['Parameter', 'Buildings', 'Construction: Residential and Commercial Building - Economic value', 'Total CO2 equivalent', 'billion m**2', 't CO2e/(thousand m**2)'],\n",
    "    'Chemical Industry': ['Parameter', 'Chemical Industry', 'Total Chemical Industry', 'Total CO2 equivalent', 'billion USD', 'kg CO2e/USD'],\n",
    "    'Tex & Lea': ['Parameter', 'Textile & Leather', 'Total Textile & Leather', 'Total CO2 equivalent', 'billion USD', 'kg CO2e/USD'],\n",
    "}\n",
    "\n",
    "itr_dict = {\n",
    "    'Utilities': 'Electricity Utilities',\n",
    "    'Steel': 'Steel',\n",
    "    'Energy': 'Oil & Gas',\n",
    "    'Transport_UNPRI': 'Autos',\n",
    "    'Alu': 'Aluminum',\n",
    "    'Cement': 'Cement',\n",
    "    'Buildings': 'Buildings',\n",
    "    'Chemical Industry': 'Chemicals',\n",
    "    'Tex & Lea': 'Textiles'\n",
    "}"
   ]
  },
  {
   "cell_type": "markdown",
   "id": "aba9b09b-4b11-4443-acd9-eaa91768072f",
   "metadata": {},
   "source": [
    "### Interpolation Function\n",
    "\n",
    "Production is CAGR-based; Emissions are CAGR-based if the ratio fo start/finish <= 2.\n",
    "\n",
    "When start/finish gets too high, the curve gets a pronounced drop in the first year\n",
    "\n",
    "When finish is zero, the curve can only approach is asymptotically, which is also problematic.\n",
    "Instead, use linear interpolation when it's time to drive the curve down to zero"
   ]
  },
  {
   "cell_type": "code",
   "execution_count": 8,
   "id": "a7217f17-a021-453b-9afa-793c59246d23",
   "metadata": {
    "tags": []
   },
   "outputs": [],
   "source": [
    "# Interpolate missing benchmark values for Production and Emissions, then compute Emissions Intensities (EI)\n",
    "\n",
    "def interpolate_benchmark(df, first_year=2019, last_year=2050):\n",
    "    # Interpolate all missing Production and Scope emissions, except Scope 3 remains zero until we change benchmarks\n",
    "\n",
    "    i = first_year\n",
    "    while i < last_year:\n",
    "        idx1 = i # .Production.first_valid_index()\n",
    "        idx2 = df[df.index>i].Production.first_valid_index()\n",
    "        if idx2 is None:\n",
    "            break\n",
    "\n",
    "        nth_root = 1/(idx2-idx1)\n",
    "        for col in ['Production', 'S1', 'S2', 'S1S2', 'S3', 'S1S2S3']:\n",
    "            if df.loc[idx2, col] == 0 or (df.loc[idx1, col]/df.loc[idx2, col]).m > 2:\n",
    "                # print(f\"Linear: {df.loc[idx1, col].m}/{df.loc[idx2, col].m}\")\n",
    "                # Linear interpolation\n",
    "                delta = (df.loc[idx2, col] - df.loc[idx1, col]) / (idx2-idx1)\n",
    "                for j in range(idx1, idx2):\n",
    "                    df.loc[j+1, col] = df.loc[j, col] + delta\n",
    "            else:\n",
    "                # print(f\"CAGR: {df.loc[idx1, col].m}/{df.loc[idx2, col].m}\")\n",
    "                # CAGR interpolation\n",
    "                multiplier = ((df.loc[idx2, col] / df.loc[idx1, col])**nth_root).m\n",
    "                for j in range(idx1, idx2):\n",
    "                    df.loc[j+1, col] = df.loc[j, col] * multiplier\n",
    "        i = idx2\n",
    "    df['EI_S1S2'] = (df.S1S2 / df.Production).astype(f\"pint[{sector_elements[5]}]\")\n",
    "    df['EI_S3'] = (df.S3 / df.Production).astype(f\"pint[{sector_elements[5]}]\")\n",
    "    df['EI_S1S2S3'] = (df.S1S2S3 / df.Production).astype(f\"pint[{sector_elements[5]}]\")\n",
    "\n",
    "    # By convention, the d_ column is zero at the start of the series.\n",
    "    # Subsequent values multiply the previous quantity by the present d_ number to get the present quanity\n",
    "    df[\"d_Production\"] = [0] + [m.m-1 for m in (df.Production.values[1:]/df.Production.values[:-1]).tolist()]\n",
    "\n",
    "    return df"
   ]
  },
  {
   "cell_type": "markdown",
   "id": "9cf0c6ac-95da-4719-a2e5-670dcb265b43",
   "metadata": {},
   "source": [
    "### Principle processing function\n",
    "\n",
    "Start with dataframe containing \"messy\" data from Spreadsheet, then clean it up to a standard format"
   ]
  },
  {
   "cell_type": "code",
   "execution_count": 30,
   "id": "3a168a78-d6b5-44c6-afa6-7310a44e3089",
   "metadata": {
    "tags": []
   },
   "outputs": [],
   "source": [
    "def process_sector_benchmark (sector_benchmark, region, sector, sector_elements):\n",
    "    s = sector_benchmark.iloc[:, 1]\n",
    "    # Transport_UNPRI doesn't have 'Total CO2 equivalent' in its scope strings...\n",
    "    df_elements = [sector_elements[0],sector_elements[2],\n",
    "                   ' '.join([f\"{sector_elements[1]} - Scope 1:\", sector_elements[3]]).rstrip(),\n",
    "                   ' '.join([f\"{sector_elements[1]} - Scope 2:\", sector_elements[3]]).rstrip(),\n",
    "                   ' '.join([f\"{sector_elements[1]} - Scope 3:\", sector_elements[3]]).rstrip()]\n",
    "    \n",
    "    # Hand-adjust the rows and columns we'll be processing.  A few sectors are unique in their shape/data.\n",
    "    # Some sheets have extra years of data, which pushes 2050 to the right.  We allocate a generous number\n",
    "    # of columns so that we capture 2050, and then we drop the columns we don't need, either from middle or the right\n",
    "    if sector == 'Chemical Industry':\n",
    "        df = sector_benchmark.iloc[s.loc[s.isin(df_elements).fillna(False)].index, 1:14][[True]*2 + [False]*6 + [True]*3]\n",
    "    elif sector == 'Tex & Lea':\n",
    "        df = sector_benchmark.iloc[s.loc[s.isin(df_elements).fillna(False)].index, 1:14][[True]*2 + [False]*4 + [True]*3]\n",
    "        # There's an extra column announcing 'ok' in the Europe data we must drop\n",
    "        if region == 'Europe':\n",
    "            df.drop(columns=df.columns[2], inplace=True)\n",
    "    else:\n",
    "        df = sector_benchmark.iloc[s.loc[s.isin(df_elements).fillna(False)].index, 1:14][[True]*2 + [False]*3 + [True]*3]\n",
    "        if sector == 'Transport_UNPRI':\n",
    "            # There's an extra column announcing 'equals [Mt CO2]' we must drop\n",
    "            df.drop(columns=df.columns[2], inplace=True)\n",
    "    while df.iloc[0, -1] != '2050':\n",
    "        df.drop(columns=df.columns[-1], inplace=True)\n",
    "    \n",
    "    # Drop empty columns and transpose so that years are in rows\n",
    "    df = df.dropna(how='all', axis=1).T\n",
    "\n",
    "    # Now ready to build the DataFrame...\n",
    "    df.columns = ['Year', 'Production', 'S1', 'S2', 'S3']\n",
    "    df.S3.fillna(0, inplace=True)\n",
    "    units = df.iloc[1, 1:].map(lambda x: x[1:-1].split('/')[0].replace('Mt CO2 equiv.', 'Mt CO2e'), na_action='ignore')\n",
    "    units.replace(\"bn $ GDP\", \"billion USD\")\n",
    "    units.Production = sector_elements[4]\n",
    "    df = df.iloc[2:].astype({'Year':'int', 'Production':'float', 'S1':'float', 'S2':'float', 'S3':'float'}).set_index('Year')\n",
    "\n",
    "    # Fix Transport by proportionalizing results to Autos only.  When and how to handle Freight?\n",
    "    if sector == 'Transport_UNPRI':\n",
    "        # Need to proportionalize total sector emissions vs. passenger-only and then feed back into total\n",
    "        s = pd.concat([sector_benchmark.iloc[:8, 1],sector_benchmark.iloc[87:, 1]])\n",
    "        passenger = sector_benchmark.iloc[s.loc[s.isin(transport_elements).fillna(False)].index, 1:14]\n",
    "        while passenger.iloc[0, -1] != '2050':\n",
    "            passenger.drop(columns=passenger.columns[-1], inplace=True)\n",
    "        passenger = passenger.dropna(how='all', axis=1)[1:4].T\n",
    "        passenger.columns = passenger.iloc[0]\n",
    "        passenger_units = passenger.iloc[1].map(lambda x: x[1:-1].split('/')[0].replace('Mt CO2 equiv.', 'Mt CO2e'), na_action='ignore')\n",
    "        for unit in passenger_units.index:\n",
    "            if 'Intensity' in unit:\n",
    "                passenger_units[unit] = f\"{passenger_units[unit]} / pkm\"\n",
    "        units.Production = (ureg(passenger_units['Total CO2 Emissions']) / ureg(passenger_units['Emission Intensity'])).to('gigapkm').u\n",
    "        passenger = passenger.iloc[2:].astype('float64')\n",
    "        passenger.index = df.index\n",
    "        # Slice out old data columns so that everything starts at 2019\n",
    "        df.drop([2017,2018], inplace=True, errors='ignore')\n",
    "        passenger.drop([2017,2018], inplace=True, errors='ignore')\n",
    "        df = pd.concat([df, passenger], axis=1)\n",
    "        df.Production = df.apply(lambda x: Q_(x['Total CO2 Emissions'], passenger_units['Total CO2 Emissions'])\n",
    "                                 / Q_(x['Emission Intensity'], passenger_units['Emission Intensity']) if x['Emission Intensity'] else np.nan,\n",
    "                                 axis=1).fillna(method='ffill')\n",
    "        scopes = ['S1', 'S2', 'S3']\n",
    "        total_co2 = df[scopes].sum(axis=1)\n",
    "        for scope in scopes:\n",
    "            df[scope] = (df[scope] * df['Total CO2 Emissions'] / total_co2).replace(np.nan, 0)\n",
    "        df.drop(columns=transport_elements[1:], inplace=True)\n",
    "        # freight = oecm_bm[sector].iloc[s.loc[s.isin(transport_elements).fillna(False)].index, 1:14].dropna(how='all', axis=1)[3:6].T\n",
    "        # display(freight)\n",
    "    elif sector == 'Buildings':\n",
    "        bldgs = sector_benchmark.iloc[s.loc[s.isin(bldg_elements).fillna(False)].index, 1:14]\n",
    "        while bldgs.iloc[0, -1] != '2050':\n",
    "            bldgs.drop(columns=bldgs.columns[-1], inplace=True)\n",
    "        bldgs = bldgs.dropna(how='all', axis=1).T\n",
    "        bldgs.columns = bldgs.iloc[0]\n",
    "        bldgs_units = bldgs.iloc[1].map(lambda x: x[1:-1])\n",
    "        units.Production = ureg('billions m**2').u\n",
    "        bldgs = bldgs.iloc[2:].astype('float64')\n",
    "        bldgs.index = df.index\n",
    "        df.Production = bldgs.sum(axis=1)\n",
    "\n",
    "    # Now insert all the missing years we need to interpolate\n",
    "    df = pd.DataFrame(benchmark_years).combine_first(df)\n",
    "    # Change type at the end, as the addition of np.nan values can mess with the dtype (making it dtype 'object')\n",
    "    for col in df.columns:\n",
    "        df[col] = df[col].astype(f\"pint[{units[col]}]\")\n",
    "    df.insert(0, \"Sector\", sector_elements[1])\n",
    "    df.insert(0, \"Region\", region)\n",
    "    df['S1S2'] = df.S1 + df.S2\n",
    "    df['S1S2S3'] = df.S1 + df.S2 + df.S3\n",
    "    return interpolate_benchmark(df)"
   ]
  },
  {
   "cell_type": "raw",
   "id": "aea17f79-79b6-444b-a809-9bfeaef56bbf",
   "metadata": {},
   "source": [
    "### MAY NOT BE NEEDED AFTER ALL\n",
    "\n",
    "# DF is a DataFrame that may be a selection of concatenated DFs such that columns in the selection\n",
    "# could be rendered as PintArrays (because they are homogeneous in type), even when columns in\n",
    "# the containing DataFrame cannot (because they are heterogeneous in type).\n",
    "\n",
    "def repintify_df(df, inplace=False):\n",
    "    df_changed = False\n",
    "    for col in df.columns:\n",
    "        dt = df[col].dtype\n",
    "        if dt == 'object':\n",
    "            element = df[col].iloc[0]\n",
    "            if isinstance(element, Quantity):\n",
    "                all_dt = {e.u for e in df[col]}\n",
    "                if len(all_dt)==1:\n",
    "                    if not df_changed:\n",
    "                        if not inplace:\n",
    "                            df = df.copy()\n",
    "                        df_changed = True\n",
    "                    df[col] = df[col].astype(f\"pint[{element.u}]\")\n",
    "    return df"
   ]
  },
  {
   "cell_type": "markdown",
   "id": "94c4bfeb-3013-4548-bd63-d781d5014b70",
   "metadata": {},
   "source": [
    "### Construct JSON benchmark structures\n",
    "\n",
    "1.  Load Regional Workbook\n",
    "2.  Process each Sector in the Workbook\n",
    "3.  Convert resulting dataframe to dictionary structure\n",
    "4.  Merge each Region/Sector dictionary into main benchmark dictionary\n",
    "\n",
    "Note that we use linear interpolation when the overall interpolation is more than a 2:1 ratio start to finish\n",
    "CAGR gets wonky both as the endpoint approaches zero (ratio becomes infinite); but it's also funky when slope is steep (though not infinitely steep)"
   ]
  },
  {
   "cell_type": "code",
   "execution_count": 31,
   "id": "0c113b03-de48-4edd-97af-3c89da38cff1",
   "metadata": {},
   "outputs": [
    {
     "name": "stdout",
     "output_type": "stream",
     "text": [
      "Region Global Sector Utilities\n",
      "Region Global Sector Steel\n",
      "Region Global Sector Energy\n",
      "Region Global Sector Transport_UNPRI\n",
      "Region Global Sector Alu\n",
      "Region Global Sector Cement\n",
      "Region Global Sector Buildings\n"
     ]
    },
    {
     "name": "stderr",
     "output_type": "stream",
     "text": [
      "/Users/michael/opt/miniconda3/envs/itr_env/lib/python3.9/site-packages/pandas/core/dtypes/cast.py:1983: UnitStrippedWarning: The unit of the quantity is stripped when downcasting to ndarray.\n",
      "  result[:] = values\n"
     ]
    },
    {
     "name": "stdout",
     "output_type": "stream",
     "text": [
      "Region Global Sector Chemical Industry\n",
      "Region Global Sector Tex & Lea\n",
      "Region Europe Sector Utilities\n",
      "Region Europe Sector Steel\n",
      "Region Europe Sector Energy\n",
      "Region Europe Sector Transport_UNPRI\n"
     ]
    },
    {
     "name": "stderr",
     "output_type": "stream",
     "text": [
      "/Users/michael/opt/miniconda3/envs/itr_env/lib/python3.9/site-packages/pandas/core/dtypes/cast.py:1983: UnitStrippedWarning: The unit of the quantity is stripped when downcasting to ndarray.\n",
      "  result[:] = values\n"
     ]
    },
    {
     "name": "stdout",
     "output_type": "stream",
     "text": [
      "Region Europe Sector Alu\n",
      "Region Europe Sector Cement\n",
      "Region Europe Sector Buildings\n",
      "Region Europe Sector Chemical Industry\n",
      "Region Europe Sector Tex & Lea\n",
      "Region North America Sector Utilities\n",
      "Region North America Sector Steel\n",
      "Region North America Sector Energy\n",
      "Region North America Sector Transport_UNPRI\n",
      "Region North America Sector Alu\n",
      "Region North America Sector Cement\n"
     ]
    },
    {
     "name": "stderr",
     "output_type": "stream",
     "text": [
      "/Users/michael/opt/miniconda3/envs/itr_env/lib/python3.9/site-packages/pandas/core/dtypes/cast.py:1983: UnitStrippedWarning: The unit of the quantity is stripped when downcasting to ndarray.\n",
      "  result[:] = values\n"
     ]
    },
    {
     "name": "stdout",
     "output_type": "stream",
     "text": [
      "Region North America Sector Buildings\n",
      "Region North America Sector Chemical Industry\n",
      "Region North America Sector Tex & Lea\n"
     ]
    }
   ],
   "source": [
    "production_bm = {\n",
    "    \"benchmark_temperature\": \"1.5 delta_degC\",\n",
    "    \"benchmark_global_budget\": \"396 Gt CO2\",\n",
    "    \"is_AFOLU_included\": 'false',\n",
    "}\n",
    "\n",
    "ei_bm = {\n",
    "    \"benchmark_temperature\": \"1.5 delta_degC\",\n",
    "    \"benchmark_global_budget\": \"396 Gt CO2\",\n",
    "    \"is_AFOLU_included\": 'false',\n",
    "}\n",
    "\n",
    "region_dict = {'Global':'OECM_Global_2022_04_22_Results',\n",
    "               'Europe':'OECM_OECD_Europe_2022_04_22_results',\n",
    "               'North America':'OECM_OECD_North_America_2022_04_22_results_0'}\n",
    "\n",
    "def merge_bm_dicts(main, new):\n",
    "    for scope in new.keys():\n",
    "        if not main.get(scope):\n",
    "            main[scope] = { 'benchmarks': [] }\n",
    "        main[scope]['benchmarks'].append(new[scope]['benchmarks'][0])\n",
    "\n",
    "for region, filename in region_dict.items():\n",
    "    wb = pd.read_excel(os.environ.get('PWD')+f\"/itr-data-pipeline/data/external/OECM 20220504/{filename}.xlsx\", sheet_name=None, dtype=str)\n",
    "    for sheet, df in wb.items():\n",
    "        wb[sheet] = df.applymap(lambda x: x.rstrip(), na_action='ignore')\n",
    "    for sector, sector_elements in oecm_dict.items():\n",
    "        print(f\"Region {region} Sector {sector}\")\n",
    "        df = process_sector_benchmark (wb[sector], region, sector, sector_elements)\n",
    "        # It's tempting to concatenate these DataFrames, but doing so wrecks the nice PintArrays created for Production and EI\n",
    "        # So instead, build up the respective dictionaries with each dataframe we process\n",
    "        \n",
    "        # Production is not conditioned on scope--we shouldn't even need it!\n",
    "        new_prod_bm = {\n",
    "            scope: {\n",
    "                \"benchmarks\": [\n",
    "                    {\n",
    "                        \"sector\": itr_dict[sector],\n",
    "                        \"region\": region,\n",
    "                        \"benchmark_metric\": { \"units\": \"dimensionless\" },\n",
    "                        \"scenario name\": \"OECM 1.5 Degrees\",\n",
    "                        \"release date\": \"2022\",\n",
    "                        \"unit\": \"dimensionless\",\n",
    "                        \"projections\": [\n",
    "                            {\n",
    "                                \"year\": year,\n",
    "                                \"value\": value\n",
    "                            }\n",
    "                            for year, value in zip(df.index, df.d_Production)\n",
    "                        ]\n",
    "                    }\n",
    "                ]\n",
    "            }\n",
    "            for scope in ['S1S2']\n",
    "        }\n",
    "        merge_bm_dicts(production_bm, new_prod_bm)\n",
    "\n",
    "        bm_ei_scopes = {\n",
    "            scope: {\n",
    "                \"benchmarks\": [\n",
    "                    {\n",
    "                        \"sector\": itr_dict[sector],\n",
    "                        \"region\": region,\n",
    "                        \"benchmark_metric\": { \"units\": sector_elements[5] },\n",
    "                        \"scenario name\": \"OECM 1.5 Degrees\",\n",
    "                        \"release date\": \"2022\",\n",
    "                        \"unit\": sector_elements[5],\n",
    "                        \"projections\": [\n",
    "                            {\n",
    "                                \"year\": year,\n",
    "                                \"value\": value.m\n",
    "                            }\n",
    "                            for year, value in zip(df.index, df[f\"EI_{scope}\"])\n",
    "                        ]\n",
    "                    }\n",
    "                ]\n",
    "            }\n",
    "            for scope in ['S1S2', 'S1S2S3']\n",
    "        }\n",
    "\n",
    "        if df.S3.sum().m:\n",
    "            bm_ei_scopes['S3'] = {\n",
    "                \"benchmarks\": [\n",
    "                    {\n",
    "                        \"sector\": itr_dict[sector],\n",
    "                        \"region\": region,\n",
    "                        \"benchmark_metric\": { \"units\": sector_elements[5] },\n",
    "                        \"scenario name\": \"OECM 1.5 Degrees\",\n",
    "                        \"release date\": \"2022\",\n",
    "                        \"unit\": sector_elements[5],\n",
    "                        \"projections\": [\n",
    "                            {\n",
    "                                \"year\": year,\n",
    "                                \"value\": value.m\n",
    "                            }\n",
    "                            for year, value in zip(df.index, df.EI_S3)\n",
    "                        ]\n",
    "                    }\n",
    "                ]\n",
    "            }\n",
    "\n",
    "        merge_bm_dicts(ei_bm, bm_ei_scopes)\n"
   ]
  },
  {
   "cell_type": "markdown",
   "id": "b471c769-e406-4afc-8944-2d68dd03f053",
   "metadata": {},
   "source": [
    "### Emit Sector Benchmark Data"
   ]
  },
  {
   "cell_type": "code",
   "execution_count": 32,
   "id": "d091b5a3-4e3b-48f0-bbd8-2e7dab7a350e",
   "metadata": {},
   "outputs": [],
   "source": [
    "with open('production_bm.json', 'w') as f:\n",
    "    print(json.dumps(production_bm, sort_keys=True, indent=4), file=f)\n",
    "\n",
    "with open('ei_bm.json', 'w') as f:\n",
    "    print(json.dumps(ei_bm, sort_keys=True, indent=4), file=f)"
   ]
  },
  {
   "cell_type": "code",
   "execution_count": null,
   "id": "4d99feac-3623-4670-9b26-6755d4f4439a",
   "metadata": {},
   "outputs": [],
   "source": []
  }
 ],
 "metadata": {
  "kernelspec": {
   "display_name": "Python 3 (ipykernel)",
   "language": "python",
   "name": "python3"
  },
  "language_info": {
   "codemirror_mode": {
    "name": "ipython",
    "version": 3
   },
   "file_extension": ".py",
   "mimetype": "text/x-python",
   "name": "python",
   "nbconvert_exporter": "python",
   "pygments_lexer": "ipython3",
   "version": "3.9.0"
  }
 },
 "nbformat": 4,
 "nbformat_minor": 5
}
