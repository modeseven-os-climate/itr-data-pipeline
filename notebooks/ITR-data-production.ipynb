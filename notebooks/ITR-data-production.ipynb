{
 "cells": [
  {
   "cell_type": "markdown",
   "id": "4896e4d6-daa5-4708-9f43-0d599ba7e670",
   "metadata": {
    "tags": []
   },
   "source": [
    "# ITR Data Pipeline\n",
    "\n",
    "The ITR data pipeline organizes and assembles data needed for the ITR tool.  The data may come from many sources, but the output of this pipeline is a complete, consistent dataset that can be fully interrogated by the ITR tool.  If users wish to add additional data or analyze additional portfolio companies, they must create a new dataset using this pipeline.\n",
    "\n",
    "These are the data needed to create the ITR dataset:\n",
    "* Global Parameters (just for reference--we do nothing with them here)\n",
    "* Industry Data (Sector Projections aka Benchmarks)\n",
    "* Portfolio Data (Must cover all the stocks a user may query)\n",
    "* Company Data (Must cover all companies in all possible portfolio universes)\n",
    "* Automization (Must cover all years and scenarios a user may query)\n",
    "\n",
    "The ITR tool can create secondary datasets:\n",
    "* Cumulative emissions targets trajectories\n",
    "* Cumulative emissions budgets\n",
    "* Target and trajectory overshoot/undershoot ratios\n",
    "* Target and trajectory temperature scores\n",
    "\n",
    "These secondary datasets are not the concern of this pipeline."
   ]
  },
  {
   "cell_type": "markdown",
   "id": "4a469d68-26d7-4b07-8481-06d8dd1beb4d",
   "metadata": {},
   "source": [
    "### Environment variables and dot-env\n",
    "\n",
    "The following cell looks for a \"dot-env\" file in some standard locations,\n",
    "and loads its contents into `os.environ`."
   ]
  },
  {
   "cell_type": "code",
   "execution_count": null,
   "id": "b41120cd-1bdd-42d1-a6fb-4eae55b9e3d5",
   "metadata": {},
   "outputs": [],
   "source": [
    "import os\n",
    "import pathlib\n",
    "from dotenv import load_dotenv\n",
    "\n",
    "# Load some standard environment variables from a dot-env file, if it exists.\n",
    "# If no such file can be found, does not fail, and so allows these environment vars to\n",
    "# be populated in some other way\n",
    "dotenv_dir = os.environ.get('CREDENTIAL_DOTENV_DIR', os.environ.get('PWD', '/opt/app-root/src'))\n",
    "dotenv_path = pathlib.Path(dotenv_dir) / 'credentials.env'\n",
    "if os.path.exists(dotenv_path):\n",
    "    load_dotenv(dotenv_path=dotenv_path,override=True)\n",
    "\n",
    "import numpy as np\n",
    "import pandas as pd"
   ]
  },
  {
   "cell_type": "markdown",
   "id": "76dd9d51-0532-44b9-a3fc-a78a301edf4c",
   "metadata": {},
   "source": [
    "### S3 and boto3"
   ]
  },
  {
   "cell_type": "code",
   "execution_count": null,
   "id": "491b3688-8a64-467c-a99e-6db65fa864e6",
   "metadata": {},
   "outputs": [],
   "source": [
    "import boto3\n",
    "\n",
    "s3_source = boto3.resource(\n",
    "    service_name=\"s3\",\n",
    "    endpoint_url=os.environ['S3_LANDING_ENDPOINT'],\n",
    "    aws_access_key_id=os.environ['S3_LANDING_ACCESS_KEY'],\n",
    "    aws_secret_access_key=os.environ['S3_LANDING_SECRET_KEY'],\n",
    ")\n",
    "source_bucket = s3_source.Bucket(os.environ['S3_LANDING_BUCKET'])"
   ]
  },
  {
   "cell_type": "code",
   "execution_count": null,
   "id": "cc527cbc-3c9e-429f-bd23-9bb40446d6f8",
   "metadata": {},
   "outputs": [],
   "source": [
    "import osc_ingest_trino as osc\n",
    "import io\n",
    "\n",
    "trino_bucket = osc.attach_s3_bucket(\"S3_DEV\")"
   ]
  },
  {
   "cell_type": "markdown",
   "id": "a12b224f-addc-43ec-b53e-d684b4c8ef67",
   "metadata": {},
   "source": [
    "### Connecting to Trino with sqlalchemy\n",
    "\n",
    "In the context of the Data Vault, this pipeline operates with full visibiilty into all the data it prepares for the ITR tool.  When the data is output, it is labeled so that the Data Vault can enforce its data management access rules."
   ]
  },
  {
   "cell_type": "code",
   "execution_count": null,
   "id": "d8a756db-291f-48ad-8ae8-dad3da4af325",
   "metadata": {},
   "outputs": [],
   "source": [
    "import trino\n",
    "from sqlalchemy.engine import create_engine\n",
    "\n",
    "ingest_catalog = 'osc_datacommons_dev'\n",
    "ingest_schema = 'itr_mdt'\n",
    "demo_schema = 'demo'\n",
    "\n",
    "sqlstring = 'trino://{user}@{host}:{port}/'.format(\n",
    "    user = os.environ['TRINO_USER'],\n",
    "    host = os.environ['TRINO_HOST'],\n",
    "    port = os.environ['TRINO_PORT']\n",
    ")\n",
    "sqlargs = {\n",
    "    'auth': trino.auth.JWTAuthentication(os.environ['TRINO_PASSWD']),\n",
    "    'http_scheme': 'https',\n",
    "    'catalog': ingest_catalog,\n",
    "    'schema': ingest_schema,\n",
    "}\n",
    "engine = create_engine(sqlstring, connect_args = sqlargs)\n",
    "connection = engine.connect()"
   ]
  },
  {
   "cell_type": "markdown",
   "id": "5ab27f9b-c363-432a-abcb-67b3be944191",
   "metadata": {},
   "source": [
    "## Global Parameters\n",
    "\n",
    "These parameters are set/selected by the ITR tool.  They are included here for reference only (the following is not live code)."
   ]
  },
  {
   "cell_type": "raw",
   "id": "ea52c2d9-3a6e-4bd3-b827-a76689f055b9",
   "metadata": {},
   "source": [
    "tcre = 2.2\n",
    "\n",
    "carb_conversion = 3664\n",
    "\n",
    "BENCHMARK_GLOBAL_BUDGET = 860 # Gt CO2e\n",
    "\n",
    "benchmark_scenario_pathways = [ 'TPI', 'TPI_below_2', 'OECM' ]\n",
    "\n",
    "probability_of_acheiving_target = 0.5"
   ]
  },
  {
   "cell_type": "markdown",
   "id": "aebb1d16-5ad9-41f1-9296-141182a5e652",
   "metadata": {},
   "source": [
    "## Industry Data (Sector Projections)\n",
    "\n",
    "We presently ingest two TPI benchmark projections and one OECM projections covering Electricity Utilities and Steel.  If users want to evaluate their portfolios under different/expanded projections, the need to be added here."
   ]
  },
  {
   "cell_type": "code",
   "execution_count": null,
   "id": "619cc656-f5ea-4d22-821d-e86aeb8f3b00",
   "metadata": {},
   "outputs": [],
   "source": [
    "scenarios = {}\n",
    "for scenario in ['TPI', 'TPI_below_2', 'OECM']:\n",
    "    df_dict = pd.read_excel(os.environ.get('PWD')+f\"/itr-data-pipeline/data/external/{scenario}_EI_and_production_benchmarks{('','_v2')[scenario=='OECM']}.xlsx\", sheet_name=None)\n",
    "    for projtype in ['projected_production', 'projected_ei_in_Wh']:\n",
    "        df_dict[projtype]['projection'] = projtype\n",
    "        df_dict[projtype]['scenario'] = scenario\n",
    "    scenarios[scenario] = pd.concat (df_dict.values())\n",
    "df = pd.concat(scenarios, ignore_index=True)\n",
    "cols = df.columns.tolist()\n",
    "# Shift 'projection' and 'scenario' to the first two columns of the data frame\n",
    "cols = cols[-2:]+cols[0:-2]\n",
    "df = df[cols]\n",
    "# display(df)\n",
    "\n",
    "sector_projections = df.melt(id_vars=cols[0:4], value_vars=cols[4:], var_name='year')\n",
    "display(sector_projections)"
   ]
  },
  {
   "cell_type": "markdown",
   "id": "4cb09531-fe05-4779-93e4-978f340d951e",
   "metadata": {},
   "source": [
    "Create the ISIC-to-Sector table manually until we have a proper sector mapping table"
   ]
  },
  {
   "cell_type": "code",
   "execution_count": null,
   "id": "424f5fea-092f-48df-ac45-c37ad546cb7f",
   "metadata": {},
   "outputs": [],
   "source": [
    "i2s_df = pd.DataFrame({\"isic\": [2410, 4010],\n",
    "                       \"sector\": ['Steel', 'Electricity Utilities']}).convert_dtypes()\n",
    "osc.drop_unmanaged_table(ingest_catalog, demo_schema, 'isic_to_sector', engine, trino_bucket)\n",
    "osc.ingest_unmanaged_parquet(i2s_df, demo_schema, 'isic_to_sector', trino_bucket)\n",
    "\n",
    "sql = osc.unmanaged_parquet_tabledef(i2s_df, ingest_catalog, demo_schema, 'isic_to_sector', trino_bucket)\n",
    "engine.execute(sql).fetchall()"
   ]
  },
  {
   "cell_type": "markdown",
   "id": "e280caeb-f90a-4445-8804-bb68ad791f9b",
   "metadata": {},
   "source": [
    "## Portfolio Data\n",
    "\n",
    "The user will ultimately supply portfolio selection and position information to the ITR tool as part of the weighting calculations.  This part of the pipeline just collects the LEI and ISIN information for companies we should expect to analyze (i.e., companies for which we have fundamental financial information, production, intensity, and target information, in sectors for which we have benchmark projections).\n",
    "\n",
    "Because this pipeline does the full pre-computation of data for the tool, there is no sense carrying forward information that is not fully closed.  I.e., there's no reason to carry forward an LEI:ISIN relationship if there is no financial, production, or target information related to that LEI and/or ISIN.  The user does not add such data later; the data is collected and fully processed by this pipeline now."
   ]
  },
  {
   "cell_type": "markdown",
   "id": "3fc5398f-e268-44e5-a145-dbb83d0c695c",
   "metadata": {},
   "source": [
    "### Get LEI/ISIN data\n",
    "\n",
    "RMI handes us data already matched with LEIs and ISINs.  Other lists of company names may require us to stitch that together manually."
   ]
  },
  {
   "cell_type": "code",
   "execution_count": null,
   "id": "fa4a4574-fe56-4787-96a7-dd7cf6aba6d4",
   "metadata": {},
   "outputs": [],
   "source": [
    "rmi_schema = 'rmi_20220119'\n",
    "\n",
    "# TODO: sort why some notorious utilities are missing LEIs in the following query--bad source data?\n",
    "rmi_lei_isin = pd.read_sql(f\"select DISTINCT parent_name, parent_lei, parent_isin from {rmi_schema}.utility_information\", engine)\n",
    "rmi_lei_isin.loc[rmi_lei_isin.parent_name=='Mt. Carmel Public Utility Co.', 'parent_lei'] = rmi_lei_isin.apply(lambda x: f\"RMI{x.name:017}\", axis=1)\n",
    "rmi_lei_isin.loc[rmi_lei_isin.parent_name=='PG&E Corp.', 'parent_lei'] = '8YQ2GSDWYZXO2EDN3511'\n",
    "rmi_lei_isin.loc[rmi_lei_isin.parent_name=='Verso Corp.', 'parent_lei'] = '549300FODXCTQ8DGT594'\n",
    "rmi_lei_isin.loc[rmi_lei_isin.parent_name=='Verso Corp.', 'parent_isin'] = 'US92531L2079'\n",
    "rmi_dict = dict(zip(rmi_lei_isin.parent_lei, rmi_lei_isin.parent_isin))"
   ]
  },
  {
   "cell_type": "markdown",
   "id": "fdf5d037-0fb1-4967-9b9d-5f43c33fa9d5",
   "metadata": {},
   "source": [
    "Implement an *ad hoc* ingestion pipeline for Steel portfolio.  Later we will ingest steel production data.  We use this only to define the universe, not for actual investment information."
   ]
  },
  {
   "cell_type": "code",
   "execution_count": null,
   "id": "7d5156ae-9acd-4955-80c0-63ba308f9e08",
   "metadata": {},
   "outputs": [],
   "source": [
    "steel_df = pd.read_csv(os.environ.get('PWD')+f\"/itr-data-pipeline/data/external/mdt-steel-portfolio.csv\", header=0, sep=';', dtype=str, engine='c')\n",
    "steel_df = steel_df.drop('investment_value', axis=1)\n",
    "steel_df"
   ]
  },
  {
   "cell_type": "markdown",
   "id": "4d3fc76a-21d6-42a0-8723-e3ad435d62cb",
   "metadata": {},
   "source": [
    "Prepare GLEIF matching data for SEC DERA data.  In the future, such matching will use the ESG Entity-Matching pipeline (https://github.com/os-climate/financial-entity-cleaner/tree/version_0.1.0)."
   ]
  },
  {
   "cell_type": "code",
   "execution_count": null,
   "id": "250ad414-9c15-416c-a420-a558baf03fee",
   "metadata": {},
   "outputs": [],
   "source": [
    "gleif_file = s3_source.Object(os.environ['S3_LANDING_BUCKET'],'mtiemann-GLEIF/DERA-matches.csv')\n",
    "gleif_file.download_file(f'/tmp/dera-gleif.csv')\n",
    "gleif_df = pd.read_csv(f'/tmp/dera-gleif.csv', header=0, sep=',', dtype=str, engine='c')\n",
    "gleif_dict = dict(zip(gleif_df.name, gleif_df.LEI))\n",
    "\n",
    "# Many of the following ISINs are bonds, but some are also stocks (on various exchanges)\n",
    "\n",
    "gleif_isin_file = s3_source.Object(os.environ['S3_LANDING_BUCKET'],'mtiemann-GLEIF/ISIN_LEI_20211009.csv')\n",
    "gleif_isin_file.download_file(f'/tmp/ISIN_LEI_20211009.csv')\n",
    "gleif_isins = pd.read_csv(f'/tmp/ISIN_LEI_20211009.csv', header=0, sep=',', dtype=str, engine='c')"
   ]
  },
  {
   "cell_type": "code",
   "execution_count": null,
   "id": "8e8c9336-c44b-47be-9c20-9a78829b5169",
   "metadata": {},
   "outputs": [],
   "source": [
    "gleif_isins[gleif_isins.ISIN.str.startswith('JP')]"
   ]
  },
  {
   "cell_type": "markdown",
   "id": "d24c3aba-4e3a-4383-a11e-f797bd0100b3",
   "metadata": {},
   "source": [
    "Create a very simple entity matcher, cleaning up slight variations in company names between RMI's entity names, the SEC's entity names, and GLEIF's entity names.\n",
    "\n",
    "Commented out are names we would have to fix if there were SEC data for them.  But because not, we'll never match what's not there in the first place."
   ]
  },
  {
   "cell_type": "code",
   "execution_count": null,
   "id": "eaff4059-478c-434f-8642-0bc1b7f12343",
   "metadata": {},
   "outputs": [],
   "source": [
    "# gleif_dict['Basin Electric Power Coop'.upper()] = gleif_dict['BASIN ELECTRIC POWER COOPERATIVE']\n",
    "# gleif_dict['Big Rivers Electric Corp'.upper()] = gleif_dict['BIG RIVERS ELECTRIC CORPORATION']\n",
    "gleif_dict['Cleco Partners LP'.upper()] = gleif_dict['CLECO CORPORATE HOLDINGS LLC']\n",
    "# gleif_dict['Golden Spread Electric Coop., Inc'.upper()] = gleif_dict['GOLDEN SPREAD ELECTRIC COOPERATIVE, INC.']\n",
    "gleif_dict['MIDWEST ENERGY INC'] = '549300O4B5CVWMKUES27'\n",
    "gleif_dict['OG&E Energy'.upper()] = gleif_dict['OGE ENERGY CORP.']\n",
    "# gleif_dict['Ohio Valley Electric Corp'.upper()] = gleif_dict['OHIO VALLEY ELECTRIC CORPORATION']\n",
    "gleif_dict['Old Dominion Electric Coop'.upper()] = gleif_dict['OLD DOMINION ELECTRIC COOPERATIVE']\n",
    "gleif_dict['PG&E Corp.'.upper()] = gleif_dict['PG&E CORP']\n",
    "gleif_dict['Tri-State Generation & Transmission Association'.upper()] = gleif_dict['TRI-STATE GENERATION & TRANSMISSION ASSOCIATION, INC.']\n",
    "gleif_dict['DOMINION ENERGY INC'] = 'ILUL7B6Z54MRYCF6H308'\n",
    "\n",
    "gleif_dict['GROUP SIMEC SA DE CV'] = '529900LCYCXPA0TZEU09'\n",
    "\n",
    "gleif_1 = { k.split(',')[0].split(' ')[0]:v for k,v in gleif_dict.items() }\n",
    "gleif_2 = { ' '.join(k.split(',')[0].split(' ')[0:2]):v for k,v in gleif_dict.items() }\n",
    "\n",
    "def gleif_match(x):\n",
    "    x = x.split(',')[0]\n",
    "    if x in gleif_dict:\n",
    "        return gleif_dict[x]\n",
    "    x = x.replace('.','')\n",
    "    if x in gleif_dict:\n",
    "        return gleif_dict[x]\n",
    "    x2 = ' '.join(x.split(' ')[0:2])\n",
    "    if x2 in gleif_2:\n",
    "        return gleif_2[x2]\n",
    "    if ' ' not in x and x in gleif_1:\n",
    "        return gleif_1[x]\n",
    "    return None"
   ]
  },
  {
   "cell_type": "markdown",
   "id": "c0da4bfb-8ce1-4330-b9db-ff9bdd3dfaa9",
   "metadata": {},
   "source": [
    "Collect the universe of company names for the sectors we cover.  Steel sector is SIC 3310-3317. Electricity Utilities is SIC 4911 (but also 4931-4932 and 4991).\n",
    "\n",
    "Some conglomerates have more general SIC codes that hide their activities in sectors of interest.  Others report those SIC codes within reportable segements.\n",
    "Without more detailed SEC DERA data (available in an S3 bucket but not yet processed as a pipeline), we will not collect the company names we need to collect."
   ]
  },
  {
   "cell_type": "code",
   "execution_count": null,
   "id": "d7c44a66-72f2-4e19-b8fc-b5093b0e62d2",
   "metadata": {},
   "outputs": [],
   "source": [
    "sec_lei_isin = pd.read_sql(f\"\"\"\n",
    "select DISTINCT F.name, F.lei, F.sic\n",
    "from sec_dera.financials_by_lei F\n",
    "where (sic=4911 or sic=4931 or sic=4932 or sic=4991)\n",
    "      or (sic>=3310 and sic<=3317)\n",
    "\"\"\", engine)\n",
    "sec_lei_isin.loc[sec_lei_isin.name=='DOMINION ENERGY INC', 'lei'] = 'ILUL7B6Z54MRYCF6H308'\n",
    "sec_lei_isin.loc[sec_lei_isin.name=='GROUP SIMEC SA DE CV', 'lei'] = '529900LCYCXPA0TZEU09'\n",
    "\n",
    "missing_leis = sec_lei_isin[sec_lei_isin.lei.isna()]\n",
    "sec_lei_isin.dropna(inplace=True)\n",
    "print(\"The following companies are missing LEI information and will be dropped:\")\n",
    "display(missing_leis)"
   ]
  },
  {
   "cell_type": "markdown",
   "id": "d499dc41-76cc-4d5c-9736-bab2b8d28b63",
   "metadata": {},
   "source": [
    "We create a theoretical portfolio that conveniently contains all available LEI and ISIN information, meaning we don't need to do entity matching or ISIN matching.\n",
    "\n",
    "Other portfolios may need a lot more work before they can be used to precompute other data.  The code above are samples of the kind of extra data/processing needed for such portfolios."
   ]
  },
  {
   "cell_type": "code",
   "execution_count": null,
   "id": "52414db4-a7ad-402c-ad15-70604c02d391",
   "metadata": {},
   "outputs": [],
   "source": [
    "portfolio_df = rmi_lei_isin.rename(columns={'parent_name':'company_name', 'parent_lei':'company_lei', 'parent_isin':'company_id'})\n",
    "# portfolio_df.insert(1, 'company_lei', portfolio_df.company_name.str.upper().map(gleif_match))\n",
    "# if portfolio_df.company_lei.isna().any():\n",
    "#     display(portfolio_df[portfolio_df.company_lei.isna()])\n",
    "portfolio_df.loc[portfolio_df.company_id.isna(), 'company_id'] = portfolio_df.apply(lambda x: f\"ZZ{x.name:010}\", axis=1)\n",
    "\n",
    "print(f\"Number of RMI portfolio copmanies = {len(portfolio_df)}\")"
   ]
  },
  {
   "cell_type": "markdown",
   "id": "97b30fb3-8426-4c3b-bf0f-f863766b0bdd",
   "metadata": {},
   "source": [
    "Show list of RMI companies that use made-up LEIs or ISINs"
   ]
  },
  {
   "cell_type": "code",
   "execution_count": null,
   "id": "f1221ad6-adc3-4555-ab89-138d4510fc4e",
   "metadata": {},
   "outputs": [],
   "source": [
    "portfolio_df[portfolio_df.company_lei.str.startswith('RMI')|portfolio_df.company_id.str.startswith('ZZ')]"
   ]
  },
  {
   "cell_type": "markdown",
   "id": "59f4945b-0808-4a79-8b42-fe2dad9bb7e1",
   "metadata": {},
   "source": [
    "Add Steel company portfolio"
   ]
  },
  {
   "cell_type": "code",
   "execution_count": null,
   "id": "ef354be5-0662-45de-bcbb-195ee706e5d5",
   "metadata": {},
   "outputs": [],
   "source": [
    "portfolio_df = pd.concat([portfolio_df, steel_df])\n",
    "portfolio_df = portfolio_df.convert_dtypes()\n",
    "\n",
    "print(f\"Number of total portfolio companies = {len(portfolio_df)}\")"
   ]
  },
  {
   "cell_type": "code",
   "execution_count": null,
   "id": "eda6d2de-6865-4a7c-9112-17a1cb4376f2",
   "metadata": {},
   "outputs": [],
   "source": [
    "engine.execute(f\"create schema if not exists {ingest_schema}\").fetchall()\n",
    "\n",
    "qres = engine.execute(f\"show tables in {ingest_schema}\")\n",
    "l = qres.fetchall()\n",
    "for x in l:\n",
    "    osc.drop_unmanaged_table(ingest_catalog, ingest_schema, x[0], engine, trino_bucket)\n",
    "\n",
    "engine.execute(f\"drop schema {ingest_schema}\").fetchall()\n",
    "engine.execute(f\"create schema {ingest_schema}\").fetchall()"
   ]
  },
  {
   "cell_type": "markdown",
   "id": "df6ae7d1-a2cc-470f-9f77-8e529301701c",
   "metadata": {},
   "source": [
    "### Company Data\n",
    "\n",
    "The SIC-to-ISIC table is an open workstream item: https://github.com/os-climate/itr-data-pipeline/issues/1"
   ]
  },
  {
   "cell_type": "code",
   "execution_count": null,
   "id": "f782e255-1568-4030-9aa9-2ea7baa30e1d",
   "metadata": {},
   "outputs": [],
   "source": [
    "# We have no S3 emissions in RMI data.\n",
    "\n",
    "engine.execute(\"select * from sec_dera.sic_isic\").fetchall()"
   ]
  },
  {
   "cell_type": "markdown",
   "id": "f4873aad-22e5-4df3-be72-d3ffb79f7403",
   "metadata": {},
   "source": [
    "### Capture a list of the companies for which we have good financial info\n",
    "\n",
    "We limit our view to the companies in our portfolio.  The user can prioritize whether this is the best source of revenue, market cap, etc., or whether they prefer another source."
   ]
  },
  {
   "cell_type": "code",
   "execution_count": null,
   "id": "c1dc44f6-89b5-41a4-b3ff-1f762d3b714a",
   "metadata": {},
   "outputs": [],
   "source": [
    "osc.drop_unmanaged_table(ingest_catalog, ingest_schema, 'portfolio_universe', engine, trino_bucket)\n",
    "osc.ingest_unmanaged_parquet(portfolio_df, ingest_schema, 'portfolio_universe', trino_bucket)\n",
    "\n",
    "sql = osc.unmanaged_parquet_tabledef(portfolio_df, ingest_catalog, ingest_schema, 'portfolio_universe', trino_bucket)\n",
    "engine.execute(sql).fetchall()"
   ]
  },
  {
   "cell_type": "raw",
   "id": "eac386a7-44dd-4122-b268-e5855865974e",
   "metadata": {},
   "source": [
    "qres = engine.execute(f\"\"\"\n",
    "select F.name, F.lei, T.tname, U2.parent_ticker, F.sic, F.ddate,\n",
    "       'revenue' as rl, round (F.revenue_usd/1000000.0, 1), round (RT2.fy_revenue_total/1000000.0, 1), round (CS2.fy_revenues/1000000.0, 1), round (F.revenue_usd/RT2.fy_revenue_total, 1), round (F.revenue_usd/CS2.fy_revenues, 1),\n",
    "       'market_cap' as fl, round (F.market_cap_usd/1000000.0, 1),\n",
    "       'EV' as el, round ((F.market_cap_usd+F.debt_usd-F.cash_usd)/1000000, 1),\n",
    "       'assets' as al, round (F.assets_usd/1000000.0, 1), round (AEI2.asset_value/1000000.0, 1), round (F.assets_usd/AEI2.asset_value, 1),\n",
    "       'cash' as cc, round (F.cash_usd/1000000.0, 1),\n",
    "       -- 'income' as il, F.income_usd/1000000.0, AEI2.fy_earnings_value/1000000.0, F.income_usd/AEI2.fy_earnings_value,\n",
    "       'counts: ulei, aei, rt, cs' as legend, c_ulei, c_aei, c_rt, c_cs\n",
    "from {ingest_schema}.portfolio_universe as P\n",
    "     join (select count (*) as c_ulei, U.parent_name, U.parent_lei, U.parent_ticker\n",
    "           from {rmi_schema}.utility_information as U\n",
    "           group by U.parent_name, U.parent_lei, U.parent_ticker) as U2 on U2.parent_lei=P.company_lei\n",
    "     join sec_dera.financials_by_lei as F on F.lei=P.company_lei\n",
    "     join (select count (*) as c_cs, CS.parent_name, CS.year, sum(revenues) as fy_revenues\n",
    "           from {rmi_schema}.customers_sales as CS\n",
    "           group by CS.parent_name, CS.year) as CS2 on CS2.parent_name=U2.parent_name and year(CS2.year)=year(F.ddate)\n",
    "     join (select count (*) as c_aei, AEI.parent_name, AEI.year, sum(AEI.asset_value) as asset_value, sum(AEI.earnings_value) as fy_earnings_value\n",
    "           from {rmi_schema}.assets_earnings_investments as AEI\n",
    "           group by AEI.parent_name, AEI.year) as AEI2 on AEI2.parent_name=U2.parent_name and year(AEI2.year)=year(F.ddate)\n",
    "     left join (select count (*) as c_rt, RT.parent_name, RT.year, sum(RT.revenue_total) as fy_revenue_total\n",
    "           from {rmi_schema}.revenue_by_tech as RT\n",
    "           group by RT.parent_name, RT.year) as RT2 on RT2.parent_name=U2.parent_name and year(RT2.year)=year(F.ddate)\n",
    "     left join sec_dera.ticker T on F.cik=T.cik and upper(T.tname)=U2.parent_ticker\n",
    "where year(F.ddate)=2019\n",
    "order by F.name\n",
    "\"\"\")\n",
    "\n",
    "l = qres.fetchall()\n",
    "print(len(l))\n",
    "[x for x in l if any(x) is None]"
   ]
  },
  {
   "cell_type": "markdown",
   "id": "3320a92e-a027-43ec-a5d9-f46d492d06dd",
   "metadata": {},
   "source": [
    "### Print that list with metric labels embedded in the output for easy reading...\n",
    "\n",
    "The counts tell how many constitutent plants are summed to arrive at the final numbers."
   ]
  },
  {
   "cell_type": "raw",
   "id": "8b7a9e3c-1e9c-4fce-a157-eb3b818f9de7",
   "metadata": {},
   "source": [
    "display(l)"
   ]
  },
  {
   "cell_type": "markdown",
   "id": "1dc1b217-5f10-4084-90e0-202328bda080",
   "metadata": {},
   "source": [
    "### Capture and print a list of companies with financial info\n",
    "\n",
    "Financial information is part of the \"fundamental data\" we need for the ITR portfolio companies.  The other part is base year production, emission, and intensity data.  We query the two separately because we have a unified source of truth for the former (SEC DERA) but multiple sources for the latter (RMI for Electric Utilities and MDT for Steel)."
   ]
  },
  {
   "cell_type": "raw",
   "id": "a60dcc49-59b5-49f6-9b5c-2434126425d1",
   "metadata": {},
   "source": [
    "# This is the original query, which comingles financial and emissions data.  Below we query separately because financial information comes from one source (SEC DERA) but emissions info comes from multiple sources and must be stiched together.\n",
    "\n",
    "qres = engine.execute(f\"\"\"\n",
    "select DISTINCT 'P.company_name', 'P.company_lei', 'P.company_id', 'S2I.isic',\n",
    "       'F.country', 'UN.region', 'sector', 'production', 's1s2_co2', 's3_co2', 's1s2_ei', 's3_ei',\n",
    "       'F.revenue_usd', 'F.market_cap_usd', 'ev', 'F.assets_usd', 'F.cash_usd',\n",
    "       'target_probability'\n",
    "\"\"\")\n",
    "l = qres.fetchall()\n",
    "print(l)\n",
    "\n",
    "sql = f\"\"\"\n",
    "select DISTINCT P.company_name, P.company_lei, P.company_id, S2I.isic,\n",
    "       F.country, UN.region_ar6_10 as region,\n",
    "       'Electricity Utilities' as sector, sum(E.generation) as production, sum(E.emissions_co2 + (265/1000000.0)*coalesce(E.emissions_nox, 0)) as s1s2_co2, NULL as s3_co2,\n",
    "       sum(E.emissions_co2 + (265/1000000.0)*coalesce(E.emissions_nox, 0)) / sum(E.generation) as s1s2_ei, NULL as s3_ei,\n",
    "       F.revenue_usd as company_revenue,\n",
    "       F.market_cap_usd as company_market_cap,\n",
    "       F.market_cap_usd+F.debt_usd-F.cash_usd as company_enterprise_value,\n",
    "       F.assets_usd as company_total_assets,\n",
    "       F.cash_usd as company_cash_equivalents,\n",
    "       cast(0.5 as real) as target_probability\n",
    "from {ingest_schema}.portfolio_universe as P\n",
    "     left join sec_dera.financials_by_lei as F on F.lei=P.company_lei and F.ddate>=DATE('2019-01-01') and F.ddate<DATE('2020-01-01')\n",
    "     join iso3166.countries as I on F.country=I.alpha_2\n",
    "     join essd.regions as UN on I.alpha_3=UN.iso\n",
    "     -- join sec_dera.sub as S on S.cik=F.cik\n",
    "     left join {rmi_schema}.utility_information as U on U.parent_lei=P.company_lei\n",
    "     -- left join gleif_mdt.gleif_isin_lei G on G.lei=P.lei and G.isin=U.parent_isin\n",
    "     left join sec_dera.sic_isic as S2I on S2I.sic=F.sic\n",
    "     left join {rmi_schema}.operations_emissions_by_fuel as E on U.respondent_id=E.respondent_id and year(E.year)=year(F.ddate)\n",
    "-- where E.owned_or_total='owned'\n",
    "group by P.company_name, P.company_lei, P.company_id, S2I.isic,\n",
    "       F.country, UN.region_ar6_10, 'Electric Utilties', NULL, NULL,\n",
    "       F.revenue_usd, F.market_cap_usd, F.market_cap_usd+F.debt_usd-F.cash_usd, F.assets_usd, F.cash_usd,\n",
    "       cast(0.5 as real)\n",
    "order by P.company_name\n",
    "limit 200\n",
    "\"\"\"\n",
    "\n",
    "qres = engine.execute(sql)\n",
    "l = qres.fetchall()\n",
    "print(len(l))\n",
    "display(l[0:40])"
   ]
  },
  {
   "cell_type": "markdown",
   "id": "f964835a-2601-4000-a58b-a0904f0a725d",
   "metadata": {},
   "source": [
    "### Financial info:\n",
    "* Company Name, LEI, ISIN, year\n",
    "* ISIC Code (for Sector)\n",
    "* Country and Region\n",
    "* Revenue, Market Cap, Enterprise Value, Assets, Cash\n",
    "\n",
    "We currently focus exclusively on data from 2019 as our base year"
   ]
  },
  {
   "cell_type": "code",
   "execution_count": null,
   "id": "e490fcf7-d78f-4afc-b336-8c3da686d67b",
   "metadata": {},
   "outputs": [],
   "source": [
    "qres = engine.execute(f\"\"\"\n",
    "select DISTINCT 'P.company_name', 'P.company_lei', 'P.company_id', 'sector',\n",
    "       'F.country', 'UN.region',\n",
    "       'F.revenue_usd', 'F.market_cap_usd', 'ev_usd', 'F.assets_usd', 'F.cash_usd'\n",
    "\"\"\")\n",
    "l = qres.fetchall()\n",
    "print(l)\n",
    "\n",
    "base_financial_sql = f\"\"\"\n",
    "select DISTINCT P.company_name, P.company_lei, P.company_id, if(S2I.isic=2410, 'Steel', 'Electricity Utilities') as sector, year(F.ddate) as year,\n",
    "       F.country, UN.region_ar6_10 as region,\n",
    "       F.revenue_usd as company_revenue,\n",
    "       F.market_cap_usd as company_market_cap,\n",
    "       F.market_cap_usd+F.debt_usd-F.cash_usd as company_enterprise_value,\n",
    "       F.assets_usd as company_total_assets,\n",
    "       F.cash_usd as company_cash_equivalents\n",
    "from {ingest_schema}.portfolio_universe as P\n",
    "     left join sec_dera.financials_by_lei as F on F.lei=P.company_lei and year(F.ddate)=2019\n",
    "     join iso3166.countries as I on F.country=I.alpha_2\n",
    "     join essd.regions as UN on I.alpha_3=UN.iso\n",
    "     -- join sec_dera.sub as S on S.cik=F.cik\n",
    "     -- left join {rmi_schema}.utility_information as U on U.parent_lei=P.company_lei\n",
    "     -- left join gleif_mdt.gleif_isin_lei G on G.lei=P.lei and G.isin=U.parent_isin\n",
    "     left join sec_dera.sic_isic as S2I on S2I.sic=F.sic\n",
    "     -- left join {rmi_schema}.operations_emissions_by_fuel as E on U.respondent_id=E.respondent_id and year(E.year)=year(F.ddate)\n",
    "-- where E.owned_or_total='owned'\n",
    "group by P.company_name, P.company_lei, P.company_id, year(F.ddate), if(S2I.isic=2410, 'Steel', 'Electricity Utilities'),\n",
    "       F.country, UN.region_ar6_10, -- 'Electric Utilties', NULL, NULL,\n",
    "       F.revenue_usd, F.market_cap_usd, F.market_cap_usd+F.debt_usd-F.cash_usd, F.assets_usd, F.cash_usd\n",
    "order by P.company_name\n",
    "limit 200\n",
    "\"\"\"\n",
    "\n",
    "qres = engine.execute(base_financial_sql)\n",
    "company_financials = qres.fetchall()\n",
    "print(f\"Number of companies in financial list: {len(company_financials)}\\nFirst 75 are\\n\")\n",
    "display(company_financials[0:75])"
   ]
  },
  {
   "cell_type": "markdown",
   "id": "0b45c0a8-e2da-4824-a8dd-30e6d28da9ff",
   "metadata": {},
   "source": [
    "### Emissions/Production info\n",
    "* Company Name, LEI, ISIN (join axis with financial info)\n",
    "* Sector (inferred from RMI data as a source rather than ISIC)\n",
    "* Production (in whatever units -- we need units in either metadata or a column or as part of the data element iselft)\n",
    "* S1+S2, S3 emissions (in whatever units of CO2e)\n",
    "* S1+S2, S3 emissions intensity (emissions / production, in whatever units this resolves to)\n",
    "\n",
    "We currently focus exclusively on data from 2019 as our base year"
   ]
  },
  {
   "cell_type": "code",
   "execution_count": null,
   "id": "002fc96e-c776-4707-b67b-ea82dfd55894",
   "metadata": {},
   "outputs": [],
   "source": [
    "# 'sector', 'production', 's1s2_co2', 's3_co2', 's1s2_ei', 's3_ei'\n",
    "\n",
    "base_emissions_sql = f\"\"\"\n",
    "select DISTINCT P.company_name, P.company_lei, P.company_id, 2019 as year,\n",
    "       'Electricity Utilities' as sector, sum(E.generation) as production, sum(E.emissions_co2 + (265/1000000.0)*coalesce(E.emissions_nox, 0)) as s1s2_co2, NULL as s3_co2,\n",
    "       sum(E.emissions_co2 + (265/1000000.0)*coalesce(E.emissions_nox, 0)) / sum(E.generation) as s1s2_ei, NULL as s3_ei\n",
    "from {ingest_schema}.portfolio_universe as P\n",
    "     join {rmi_schema}.utility_information as U on U.parent_lei=P.company_lei\n",
    "     join {rmi_schema}.operations_emissions_by_fuel as E on U.respondent_id=E.respondent_id and year(E.year)=2019\n",
    "-- where E.owned_or_total='owned'\n",
    "group by P.company_name, P.company_lei, P.company_id, 3, 4\n",
    "order by P.company_name\n",
    "limit 200\n",
    "\"\"\"\n",
    "\n",
    "qres = engine.execute(base_emissions_sql)\n",
    "company_emissions = qres.fetchall()\n",
    "print(f\"Number of companies in emissions list: {len(company_emissions)}\\nFirst 75 are\\n\")\n",
    "display(company_emissions[0:75])"
   ]
  },
  {
   "cell_type": "markdown",
   "id": "d49375dc-c7a2-4222-bf30-88432694dbfe",
   "metadata": {},
   "source": [
    "### `financial_df` contains all the base year (2019) financial, production, and emissions data\n",
    "\n",
    "For now our benchmark data covers only North America and Europe.  Over time, we expect additional regions (possibly on a per-sector basis)."
   ]
  },
  {
   "cell_type": "code",
   "execution_count": null,
   "id": "4783db2a-2200-482d-9545-2cc2066a7bda",
   "metadata": {},
   "outputs": [],
   "source": [
    "financial_df = pd.read_sql(base_financial_sql, engine).convert_dtypes()\n",
    "financial_df.region = financial_df.region.apply(lambda x: x if x in ['North America', 'Europe'] else 'Global').astype('string')\n",
    "\n",
    "print(f\"Total number of financial reports = {len(financial_df)}\")\n",
    "financial_df"
   ]
  },
  {
   "cell_type": "markdown",
   "id": "c3d5d491-c1f6-4848-b68a-5e947c6b5271",
   "metadata": {},
   "source": [
    "### `emissions_df` contains all the base year (2019) production and emissions data"
   ]
  },
  {
   "cell_type": "code",
   "execution_count": null,
   "id": "c4c98d96-21b4-4d5f-822c-3efb2d4262c3",
   "metadata": {},
   "outputs": [],
   "source": [
    "rmi_emissions_df = pd.read_sql(base_emissions_sql, engine)\n",
    "print(f\"Total number of rmi emissions reports = {len(rmi_emissions_df)}\")\n",
    "display(rmi_emissions_df[rmi_emissions_df.company_id=='US30040W1080'])\n",
    "rmi_emissions_df"
   ]
  },
  {
   "cell_type": "markdown",
   "id": "e7565476-cb93-471b-9c20-9d651cf0b220",
   "metadata": {},
   "source": [
    "### Collect emissions/production info from the MDT Steel data\n",
    "* Company Name, LEI, ISIN (join axis with financial info)\n",
    "* Sector (inferred as Steel from source)\n",
    "* Production (in whatever units -- we need units in either metadata or a column or as part of the data element iselft)\n",
    "* S1+S2, S3 emissions (in whatever units of CO2e)\n",
    "* S1+S2, S3 emissions intensity (emissions / production, in whatever units this resolves to)"
   ]
  },
  {
   "cell_type": "code",
   "execution_count": null,
   "id": "adc3ec53-fdac-4b92-b864-431a6a25174c",
   "metadata": {},
   "outputs": [],
   "source": [
    "steel_wb = pd.read_excel(os.environ.get('PWD')+f\"/itr-data-pipeline/data/external/mdt-steel-demo.xlsx\", sheet_name=None)\n",
    "steel_co2 = steel_wb['Steel CO2e'].dropna(axis=1,how='all')\n",
    "steel_ei = steel_wb['Steel EI_per_Fe_Ton'].dropna(axis=1,how='all')\n",
    "steel_production = steel_wb['Steel Fe_tons'].dropna(axis=1,how='all')\n",
    "\n",
    "steel_emissions_df = pd.concat([steel_production[['company_name', 'company_lei', 'company_id']],\n",
    "                                pd.Series(steel_production[2019], name='production'),\n",
    "                                pd.Series(steel_co2[2019], name='s1s2_co2'),\n",
    "                                pd.Series(steel_ei[2019], name='s1s2_ei')], axis=1).dropna()\n",
    "steel_emissions_df.insert(6, 's3_ei', [np.nan] * len(steel_emissions_df))\n",
    "steel_emissions_df.insert(5, 's3_co2', [np.nan] * len(steel_emissions_df))\n",
    "steel_emissions_df.insert(3, 'sector', ['Steel'] * len(steel_emissions_df))\n",
    "steel_emissions_df.insert(3, 'year', [2019] * len(steel_emissions_df))\n",
    "\n",
    "steel_emissions_df"
   ]
  },
  {
   "cell_type": "code",
   "execution_count": null,
   "id": "7d74838c-215e-4abf-aaf4-b3e849f144da",
   "metadata": {},
   "outputs": [],
   "source": [
    "emissions_df = pd.concat([rmi_emissions_df, steel_emissions_df])"
   ]
  },
  {
   "cell_type": "markdown",
   "id": "5f1924b1-8ed6-4f65-acd5-328a17a038c0",
   "metadata": {},
   "source": [
    "### Load emissions target data"
   ]
  },
  {
   "cell_type": "code",
   "execution_count": null,
   "id": "22a1bc84-bd10-414f-8a67-dd01ba52c546",
   "metadata": {},
   "outputs": [],
   "source": [
    "engine.execute(f\"describe {rmi_schema}.emissions_targets\").fetchall()"
   ]
  },
  {
   "cell_type": "markdown",
   "id": "cfb9880c-0b6e-4c5f-8683-d8e5b1567ca3",
   "metadata": {},
   "source": [
    "### `targets_df` has all the historical and target emissions data (which can be interpreted to provide trajectory data as well)\n",
    "\n",
    "We also preserve RMI's 1.5 degree target info, which can be presented as a trajectory to compare/contrast corporate targets with RMI's best policy recommendations\n",
    "* rtg_df is the RMI contribution to targets_df\n",
    "* mtg_df is the Steel contribution to targets_df\n",
    "\n",
    "We do not consider targets for WIRES ONLY utilities (who have no generation of their own)."
   ]
  },
  {
   "cell_type": "code",
   "execution_count": null,
   "id": "f7a75411-9469-41b9-a7bf-d539ee60cee0",
   "metadata": {},
   "outputs": [],
   "source": [
    "rtg_df = pd.read_sql(f\"\"\"\n",
    "select ET.parent_name as company_name, ET.respondent_id, 'Electricity Utilities' as sector, year(ET.year) as year,\n",
    "       co2_target, co2_intensity_target,\n",
    "       co2_intensity_historical, co2_intensity_target_all_years, co2_intensity_1point5C,\n",
    "       co2_historical, co2_target_all_years, co2_1point5C,\n",
    "       generation_historical as production_historical, generation_projected as production_projected, generation_1point5C as production_1point5C\n",
    "from {rmi_schema}.emissions_targets ET\n",
    "     join (select respondent_id, year\n",
    "           from {rmi_schema}.operations_emissions_by_tech\n",
    "           where technology_eia!='Batteries' and technology_eia!='Hydroelectric Pumped Storage'\n",
    "           group by respondent_id, year) EM\n",
    "           on ET.respondent_id=EM.respondent_id and ((year(ET.year)>2020 and year(EM.year)=2020) or (ET.year=EM.year) or ((year(ET.year)<2005 and year(EM.year)=2005) ))\n",
    "     -- join (select parent_name, parent_lei from {rmi_schema}.utility_information group by parent_name, parent_lei) U\n",
    "     --       on ET.parent_name=U.parent_name\n",
    "     -- join sec_dera.financials_by_lei as F on F.lei=U.parent_lei\n",
    "order by company_name, year\n",
    "\"\"\", engine) # parse_dates=['year']\n",
    "rtg_df.co2_intensity_historical = rtg_df.co2_intensity_historical.astype('float64')\n",
    "\n",
    "rtg_df.insert(1, 'company_lei', rtg_df.company_name.str.upper().map(gleif_match))\n",
    "rtg_df.insert(2, 'company_id', rtg_df.company_lei.map(rmi_dict))\n",
    "\n",
    "print(f\"len(rtg_df) = {len(rtg_df)}\")"
   ]
  },
  {
   "cell_type": "markdown",
   "id": "6b60d212-b6e3-47f3-a4a0-41cf05060124",
   "metadata": {},
   "source": [
    "### Fix target information comprehensively\n",
    "\n",
    "1. Where co2_target is set to zero before 2019 and then ramps up to a non-zero number before 2020, clear the target number and replace all target data with historical data\n",
    "2. Where co2_target is NULL, generation_historical==1, and co2_intensity_historical==0, remove false generation_historical==1 data point.  There is never any generation before generators are operational.\n",
    "3. Where co2_historical is non-NULL and non-zero, look for outlier data.  If the generation_historical for the outlier data is not an outlier in the generation data, recompute co2_intensity_historical and co2_historical based on non-outlier data\n",
    "4. Where max(year) < 2020, discard forward-looking projections: they are represented elsewhere\n",
    "5. Where production_projected is non-NULL and flatline from 2021-2050, replace with OECM production growth values for 'North America' region"
   ]
  },
  {
   "cell_type": "code",
   "execution_count": null,
   "id": "2aa11c38-c1a9-4a4a-aa04-5186988dd007",
   "metadata": {},
   "outputs": [],
   "source": [
    "print(\"Step 1: clearing premature net-zero targets\")\n",
    "step1a_df = rtg_df[(rtg_df.co2_target==0)&(rtg_df.year<2020)][['respondent_id', 'co2_target', 'year']]\n",
    "step1b_df = rtg_df[(rtg_df.co2_target>0)&(rtg_df.year<2020)][['respondent_id', 'co2_target', 'year']]\n",
    "step1_df = pd.merge(step1a_df, step1b_df, on='respondent_id')\n",
    "print(f\"len(step1_df) = {len(step1_df)}\")\n",
    "rtg_df.loc[rtg_df.respondent_id.isin(step1_df.respondent_id), 'co2_target'] = np.nan\n",
    "for index,data in step1_df.iterrows():\n",
    "    rtg_df.loc[(rtg_df.respondent_id==data['respondent_id'])&rtg_df.year.isin(range(int(data['year_x']), int(data['year_y']))), 'co2_target'] = rtg_df.co2_historical"
   ]
  },
  {
   "cell_type": "code",
   "execution_count": null,
   "id": "c7b79e07-3056-4d9f-b312-b37b1d3f856f",
   "metadata": {},
   "outputs": [],
   "source": [
    "print(\"Step 2: clearing false generation_historical data\")\n",
    "step2a_df = rtg_df[(rtg_df.co2_historical==0)&(rtg_df.production_historical==1)][['respondent_id', 'year']]\n",
    "# step2b_df = rtg_df[(rtg_df.co2_intensity_historical==0)&(rtg_df.production_historical!=0)][['respondent_id', 'year']]\n",
    "# print(f\"len(step2a_df.index.union(step2b_df.index).values) = {len(step2a_df.index.union(step2b_df.index).values)}\")\n",
    "# rtg_df.loc[step2a_df.index.union(step2b_df.index).values, 'production_historical'] = np.nan\n",
    "print(f\"len(step2a_df) = {len(step2a_df)}\")\n",
    "rtg_df.loc[step2a_df.index.values, 'production_historical'] = np.nan"
   ]
  },
  {
   "cell_type": "code",
   "execution_count": null,
   "id": "959cb513-f010-4844-918d-eadd78c87a53",
   "metadata": {},
   "outputs": [],
   "source": [
    "print(\"Step 3: correct non-zero outlier data\")\n",
    "from scipy import stats\n",
    "zscore = lambda x: (x - x.mean()) / x.std()\n",
    "step3_df = rtg_df[(rtg_df.year<=2020)&(rtg_df.co2_intensity_historical>0)][['respondent_id', 'year', 'co2_intensity_historical']]\n",
    "step3_df.insert(0, 'ZofA', step3_df.groupby(['respondent_id'])['co2_intensity_historical'].transform(zscore))\n",
    "step3_df.sort_values(by=['respondent_id', 'year'], inplace=True)\n",
    "step3_df = step3_df[abs(step3_df.ZofA)>2.5]\n",
    "print(f\"len(step3_df) = {len(step3_df)}\")\n",
    "for index,data in step3_df.iterrows():\n",
    "    rid = round(data['respondent_id'])\n",
    "    year = round(data['year'])\n",
    "    resp_ei_by_year = pd.Series(data=rtg_df.loc[rtg_df.respondent_id==rid, 'co2_intensity_historical'],\n",
    "                                index=round(rtg_df.loc[rtg_df.respondent_id==rid, 'year']))\n",
    "    resp_co2_by_year = pd.Series(data=rtg_df.loc[rtg_df.respondent_id==rid, 'co2_historical'],\n",
    "                                 index=round(rtg_df.loc[rtg_df.respondent_id==rid, 'year']))\n",
    "    if year-1 in resp_ei_by_year.index:\n",
    "        if year+1 in resp_ei_by_year.index:\n",
    "            rtg_df.loc[(rtg_df.respondent_id==rid)&(rtg_df.year==year), 'co2_intensity_historical'] = (\n",
    "                (resp_ei_by_year[year-1] + resp_ei_by_year[year+1]) / 2\n",
    "            )\n",
    "            rtg_df.loc[(rtg_df.respondent_id==rid)&(rtg_df.year==year), 'co2_historical'] = (\n",
    "                (resp_co2_by_year[year-1] + resp_co2_by_year[year+1]) / 2\n",
    "            )\n",
    "        else:\n",
    "            rtg_df.loc[(rtg_df.respondent_id==rid)&(rtg_df.year==year), 'co2_intensity_historical'] = (\n",
    "                resp_ei_by_year[year-1]\n",
    "            )\n",
    "            rtg_df.loc[(rtg_df.respondent_id==rid)&(rtg_df.year==year), 'co2_historical'] = (\n",
    "                resp_co2_by_year[year-1]\n",
    "            )\n",
    "    elif year+1 in resp_ei_by_year.index:\n",
    "        rtg_df.loc[(rtg_df.respondent_id==rid)&(rtg_df.year==year), 'co2_intensity_historical'] = (\n",
    "                resp_ei_by_year[year+1]\n",
    "            )\n",
    "        rtg_df.loc[(rtg_df.respondent_id==rid)&(rtg_df.year==year), 'co2_historical'] = (\n",
    "                resp_ei_by_year[year+1]\n",
    "            )"
   ]
  },
  {
   "cell_type": "code",
   "execution_count": null,
   "id": "6255a297-5d10-429d-8fe5-0cce9427ef28",
   "metadata": {},
   "outputs": [],
   "source": [
    "print(\"Step 4: When data is exhausted prior to 2020, discard forward-looking projections represented elsewhere\")\n",
    "\n",
    "step4_df = rtg_df.loc[rtg_df.year==2019, ['respondent_id', 'production_historical']].fillna(0)\n",
    "step4_index = step4_df[step4_df.production_historical!=0]['respondent_id']\n",
    "print(f\"Initial length of target dataset: {len(rtg_df)}\")\n",
    "rtg_df = rtg_df.loc[rtg_df.respondent_id.isin(step4_index)]\n",
    "print(f\"Resulting length of target dataset: {len(rtg_df)}\")"
   ]
  },
  {
   "cell_type": "code",
   "execution_count": null,
   "id": "55a0164f-f109-4768-812d-48906099585e",
   "metadata": {},
   "outputs": [],
   "source": [
    "print (\"Step 5: align constant forward generation projections with OECM production growth values for 'North America' region\")\n",
    "\n",
    "growth_2020_2050 = pd.Series((sector_projections[(sector_projections.scenario=='OECM')\n",
    "                    &(sector_projections.region=='North America')\n",
    "                    &(sector_projections.sector=='Electricity Utilities')\n",
    "                    &(sector_projections.projection=='projected_production')\n",
    "                    &(sector_projections.year.isin(range(2020,2051)))].value+1).cumprod().values,\n",
    "                             index=range(2020,2051))"
   ]
  },
  {
   "cell_type": "code",
   "execution_count": null,
   "id": "30a5d3ac-eb9c-4dc2-83c7-fdf9aea79609",
   "metadata": {},
   "outputs": [],
   "source": [
    "step5_df = rtg_df.loc[rtg_df.year.isin([2020,2050])&(~rtg_df.respondent_id.isin([122,191])), ['respondent_id', 'year', 'production_projected']].sort_values(by='respondent_id').pivot(index='respondent_id', columns='year', values='production_projected')\n",
    "step5_index = step5_df[step5_df[2020]==step5_df[2050]]\n",
    "grouped = rtg_df[rtg_df.respondent_id.isin(step5_index.index)].groupby('respondent_id')\n",
    "for name, group in grouped:\n",
    "    group.insert(0, 'index', group.index)\n",
    "    group.set_index('year', drop=False, inplace=True)\n",
    "    group['production_projected'] = group['production_projected'] * growth_2020_2050\n",
    "    group.set_index('index', drop=True, inplace=True)\n",
    "    rtg_df.loc[group.index, 'production_projected'] = group['production_projected']\n",
    "\n",
    "print(f\"Number of updated projections: {len(step5_index)}\")"
   ]
  },
  {
   "cell_type": "markdown",
   "id": "e7b759cc-0ddf-4cd5-bc16-9404d774e8fd",
   "metadata": {},
   "source": [
    "Fix some inconsistencies in the data, such as retrospective target information being null where historical data is available, or where retrospective target is zero and emissions grow to present date, only to shrink again"
   ]
  },
  {
   "cell_type": "code",
   "execution_count": null,
   "id": "acb32ce4-6a16-4063-b3f1-5a422c3fb206",
   "metadata": {},
   "outputs": [],
   "source": [
    "rtg_df[(rtg_df.company_name=='AES Corp.')&(rtg_df.year==2016)]"
   ]
  },
  {
   "cell_type": "code",
   "execution_count": null,
   "id": "e129056a-056b-427c-bd6e-e94e7c124f30",
   "metadata": {},
   "outputs": [],
   "source": [
    "rtg_df.loc[rtg_df.year<2020, 'co2_intensity_target_all_years'] = rtg_df[['co2_intensity_historical', 'co2_intensity_target_all_years', 'co2_intensity_1point5C']].fillna(method='bfill', axis=1).iloc[:,0]\n",
    "rtg_df.loc[rtg_df.year<2020, 'co2_target_all_years'] = rtg_df[['co2_historical', 'co2_target_all_years', 'co2_1point5C']].fillna(method='bfill', axis=1).iloc[:,0]\n",
    "rtg_df.loc[rtg_df.year<2020, 'production_projected'] = rtg_df[['production_historical', 'production_projected']].fillna(method='bfill', axis=1).iloc[:,0]"
   ]
  },
  {
   "cell_type": "code",
   "execution_count": null,
   "id": "7d50530f-0fbd-4037-97a4-be2b9091a31b",
   "metadata": {},
   "outputs": [],
   "source": [
    "rtg_df[(rtg_df.company_name=='AES Corp.')&(rtg_df.year==2016)]"
   ]
  },
  {
   "cell_type": "code",
   "execution_count": null,
   "id": "05c3c1c1-053f-4774-8d6d-66f7e6587762",
   "metadata": {},
   "outputs": [],
   "source": [
    "def compute_sums_and_wavg(x):\n",
    "    d = { 'co2_target_by_year':x['co2_target_all_years'].sum(),\n",
    "          'production_by_year':x['production_projected'].sum() }\n",
    "    if d['production_by_year']:\n",
    "        d['co2_intensity_target_by_year'] = (x['production_projected'] * x['co2_intensity_target_all_years']).sum() / d['production_by_year']\n",
    "    else:\n",
    "        d['co2_intensity_target_by_year'] = 0\n",
    "    return pd.Series(d, index=['co2_intensity_target_by_year', 'co2_target_by_year', 'production_by_year'])\n",
    "\n",
    "targets_df = (rtg_df[rtg_df.year>=2014]\n",
    "      .groupby(['company_name', 'company_lei', 'company_id', 'sector', 'year'])\n",
    "      .apply(compute_sums_and_wavg)\n",
    "      .sort_values(['company_name', 'year'], ascending=[True, False])\n",
    "     ).reset_index()\n",
    "\n",
    "targets_df.loc[(targets_df.production_by_year!=0)&targets_df.co2_target_by_year.notnull(), 'co2_intensity_target_by_year'] = targets_df.co2_target_by_year/targets_df.production_by_year"
   ]
  },
  {
   "cell_type": "code",
   "execution_count": null,
   "id": "be39f364-8a4a-47ab-b230-31f234dcf259",
   "metadata": {},
   "outputs": [],
   "source": [
    "targets_df[(targets_df.company_name=='AES Corp.')&(targets_df.year==2016)]"
   ]
  },
  {
   "cell_type": "code",
   "execution_count": null,
   "id": "08da46b9-362f-4f3c-b968-89acdfa2ab48",
   "metadata": {},
   "outputs": [],
   "source": [
    "mdt_co2 = steel_co2.melt(id_vars=['company_name','company_lei','company_id'], var_name='year', value_name='co2_target_by_year').dropna()\n",
    "mdt_co2.loc[:, 'co2_target_by_year'] = mdt_co2.co2_target_by_year / 1000000\n",
    "mdt_ei = steel_ei.melt(id_vars=['company_name','company_lei','company_id'], var_name='year', value_name='co2_intensity_target_by_year').dropna()\n",
    "mdt_production = steel_production.melt(id_vars=['company_name','company_lei','company_id'], var_name='year', value_name='production_by_year').dropna()\n",
    "mdt_production.loc[:, 'production_by_year'] = mdt_production.production_by_year / 1000000\n",
    "mdt_trajectory = mdt_ei.rename(columns={'co2_intensity_target_by_year':'co2_intensity_trajectory_by_year'})\n",
    "\n",
    "steel_targets_df = (mdt_ei.merge(mdt_co2, on=['company_name','company_lei','company_id','year'])\n",
    "                    .merge(mdt_production, on=['company_name','company_lei','company_id','year']))\n",
    "steel_targets_df.insert(2, 'sector', 'Steel')\n",
    "targets_df = pd.concat([targets_df, steel_targets_df])\n",
    "targets_df"
   ]
  },
  {
   "cell_type": "code",
   "execution_count": null,
   "id": "259baabf-d057-4571-b5e9-219dbd5218ef",
   "metadata": {},
   "outputs": [],
   "source": [
    "traj_df = targets_df.pivot(index=['company_name', 'company_lei', 'company_id', 'sector'], columns='year', values='co2_intensity_target_by_year').reset_index()\n",
    "# We handicap historic progress by averaging with \"no progress\"\n",
    "historic_progress = (1.0 + traj_df[2019] / traj_df[2014]) / 2\n",
    "\n",
    "# There are wierd artifacts where energy storage systems have negative generation, so treat their progress as zero\n",
    "# If intensity is actually growing, cap trajectory at 1 (no progress)\n",
    "annualized_progress = historic_progress.where(historic_progress>=0, 0).where(historic_progress<=1, 1) ** (1/(2019-2014))\n",
    "\n",
    "traj_df.loc[:, 2021:2049]=np.nan\n",
    "traj_df[2050] = traj_df[2020] * annualized_progress ** (2050-2020)\n",
    "traj_df.loc[:, 2020:2050] = traj_df.loc[:, 2020:2050].astype('float64').interpolate(axis=1)\n",
    "traj_mdf = traj_df.melt(id_vars=['company_name','company_lei','company_id','sector'], var_name='year', value_name='co2_intensity_trajectory_by_year').convert_dtypes()\n",
    "traj_mdf"
   ]
  },
  {
   "cell_type": "code",
   "execution_count": null,
   "id": "65afada2-3c97-4d52-94e2-7ea2902d8dae",
   "metadata": {},
   "outputs": [],
   "source": [
    "targets_df = targets_df.merge(traj_mdf, on=['company_name','company_lei','company_id','sector','year']).convert_dtypes()\n",
    "print(f\"Final len(targets_df) = {len(targets_df)}\")"
   ]
  },
  {
   "cell_type": "markdown",
   "id": "be2a14b5-17a1-4f5e-a7b7-9b01ea40fd71",
   "metadata": {},
   "source": [
    "### TODO: Implement Units\n",
    "\n",
    "Intensity and Production data need Units to distinguish TWh of generation vs. Tons of Steel production\n",
    "\n",
    "Company data is converted to USD by SEC_DERA ingestion for now, but should support any currencies in the future"
   ]
  },
  {
   "cell_type": "code",
   "execution_count": null,
   "id": "09306cf8-9fd6-4024-85a8-bae3fd3122c3",
   "metadata": {},
   "outputs": [],
   "source": [
    "tablenames = 'company_data', 'intensity_data', 'trajectory_data', 'emissions_data', 'production_data'"
   ]
  },
  {
   "cell_type": "code",
   "execution_count": null,
   "id": "03c35d52-4bf3-445b-b71c-1b07a3e62f9d",
   "metadata": {},
   "outputs": [],
   "source": [
    "dataframes = [financial_df[financial_df.company_id.isin(targets_df.company_id)],\n",
    "              targets_df[['company_name','company_lei','company_id','year','co2_intensity_target_by_year']],\n",
    "              targets_df[['company_name','company_lei','company_id','year','co2_intensity_trajectory_by_year']],\n",
    "              targets_df[['company_name','company_lei','company_id','year','co2_target_by_year']],\n",
    "              targets_df[['company_name','company_lei','company_id','year','production_by_year']],]\n",
    "\n",
    "for table, df in zip(tablenames, dataframes):\n",
    "    osc.drop_unmanaged_table(ingest_catalog, demo_schema, table, engine, trino_bucket)\n",
    "    osc.ingest_unmanaged_parquet(df, demo_schema, table, trino_bucket)\n",
    "    sql = osc.unmanaged_parquet_tabledef(df, ingest_catalog, demo_schema, table, trino_bucket)\n",
    "    qres = engine.execute(sql)\n",
    "    for row in qres.fetchall():\n",
    "        print(row)"
   ]
  },
  {
   "cell_type": "raw",
   "id": "6ee129b7-48d3-49c3-a2b6-4b01954f851c",
   "metadata": {},
   "source": [
    "pdf = targets_df.pivot(index=['company_name', 'company_lei', 'company_id'], columns='year').reset_index()\n",
    "# pdf.insert(1, 'company_lei', pdf.company_name.str.upper().map(gleif_match))\n",
    "# pdf.insert(2, 'company_id', pdf.company_lei.map(rmi_dict))\n",
    "# pdf = pdf.set_index(['company_name','company_lei', 'company_id'], drop=True)\n",
    "pdf.columns.names=[None,None]\n",
    "pdf"
   ]
  },
  {
   "cell_type": "raw",
   "id": "67b89520-2a73-4b53-93c6-e410265a9422",
   "metadata": {},
   "source": [
    "co2_ei_df = pd.concat([pdf.company_name, pdf.company_lei, pdf.company_id, pdf.co2_intensity_target_by_year.reset_index()], axis=1).drop('index', axis=1)\n",
    "co2_ei_df"
   ]
  },
  {
   "cell_type": "raw",
   "id": "8b820ef3-61ca-45c7-a671-2c245f71d81f",
   "metadata": {},
   "source": [
    "co2_ei_df.iloc[:, 3] = 2*co2_ei_df.iloc[:, 4] - co2_ei_df.iloc[:, 5]\n",
    "co2_ei_df = co2_ei_df[co2_ei_df.company_id.notna()]\n",
    "co2_ei_df.insert(3, 'scope', 'S1+S2')\n",
    "co2_ei_df.head(10)"
   ]
  },
  {
   "cell_type": "raw",
   "id": "c93afc30-fb2c-4ea4-b461-426b953a5c49",
   "metadata": {},
   "source": [
    "co2_df = pd.concat([pdf.company_name, pdf.company_lei, pdf.company_id, pdf.co2_target_by_year.reset_index()], axis=1).drop('index', axis=1)\n",
    "co2_df = co2_df[co2_df.company_id.notna()]\n",
    "co2_df.insert(3, 'scope', 'S1+S2')\n",
    "co2_df.head()"
   ]
  },
  {
   "cell_type": "raw",
   "id": "df5bf003-3a40-4e5a-9dce-4a48c4e489ac",
   "metadata": {},
   "source": [
    "gen_df = pd.concat([pdf.company_name, pdf.company_lei, pdf.company_id, pdf.production_by_year.reset_index()], axis=1).drop('index', axis=1)\n",
    "gen_df.iloc[:, 3] = 2*gen_df.iloc[:, 4] - gen_df.iloc[:, 5]\n",
    "gen_df = gen_df[gen_df.company_id.notna()]\n",
    "gen_df.insert(3, 'production', 'TWh')\n",
    "gen_df.head()"
   ]
  },
  {
   "cell_type": "raw",
   "id": "bf08b8e8-331b-4ff1-8690-76da90b99332",
   "metadata": {},
   "source": [
    "with pd.ExcelWriter(\"rmi-20211120-output.xlsx\", datetime_format=\"YYYY\") as writer:\n",
    "    financial_df.to_excel(writer, sheet_name=\"fundamental_data\", index=False)\n",
    "    co2_ei_df.to_excel(writer, sheet_name=\"projected_ei_in_Wh\", index=False)\n",
    "    gen_df.to_excel(writer, sheet_name=\"projected_production\", index=False)\n",
    "    co2_df.to_excel(writer, sheet_name=\"projected_co2\", index=False)\n"
   ]
  },
  {
   "cell_type": "raw",
   "id": "65413b53-a79d-4dc7-9085-d055c4c49453",
   "metadata": {},
   "source": [
    "portfolio_zero = portfolio_df.copy()\n",
    "portfolio_zero.target_probability = 0.0\n",
    "portfolio_one = portfolio_df.copy()\n",
    "portfolio_one.target_probability = 1.0\n",
    "\n",
    "portfolio_df.to_csv(\"rmi-20211120-portfolio.csv\", sep=';', index=False)"
   ]
  },
  {
   "cell_type": "raw",
   "id": "dd649372-0771-4233-b592-5c2df7e3e931",
   "metadata": {
    "tags": []
   },
   "source": [
    "financial_df.loc[financial_df.company_id.isin([\"US00130H1059\", \"US0255371017\", \"US6362744095\"])]"
   ]
  },
  {
   "cell_type": "raw",
   "id": "34d78d59-b632-4696-85b1-d3a62cb29aac",
   "metadata": {},
   "source": [
    "df = pd.read_sql(f\"\"\"\n",
    "select EPA.parent_company_name as epa_name, EPA.lei as epa_lei, year(EPA.reporting_year) as epa_year,\n",
    "       F.name as sec_name, F.lei as sec_lei, year(F.ddate) as sec_year,\n",
    "       sum(GHG.total_reported_direct_emissions*EPA.parent_co_percent_ownership/100) as co2e,\n",
    "       F.revenue_usd,\n",
    "       sum(GHG.total_reported_direct_emissions)/revenue_usd * 1000000 as co2_rev_ei,\n",
    "       NULL as Fe_tons, NULL as co2_Fe_ei\n",
    "from epa_ghgrp.parent_company EPA join epa_ghgrp.direct_emitters GHG on EPA.ghgrp_facility_id=GHG.facility_id and EPA.reporting_year=GHG.year\n",
    "     left join sec_dera.financials_by_lei F on year(F.ddate)=year(EPA.reporting_year)\n",
    "          and (F.lei=EPA.lei\n",
    "               or (substr(F.name,1,13)='ARCELORMITTAL' and substr(EPA.parent_company_name,1,13)='ARCELORMITTAL')\n",
    "               or (substr(F.name,1,5)='POSCO' and substr(EPA.parent_company_name,1,5)='POSCO')\n",
    "               or (substr(F.name,1,6)='GERDAU' and substr(EPA.parent_company_name,1,6)='GERDAU')\n",
    "               or (substr(F.name,1,8)='AK STEEL' and substr(EPA.parent_company_name,1,8)='AK STEEL')\n",
    "               -- or (F.name='BERKSHIRE HATHAWAY INC' and EPA.parent_company_name='PRECISION CASTPARTS CORP')\n",
    "               or (F.name='NUCOR CORP' and EPA.parent_company_name='YAMATO KOGYO (USA) CORP'))\n",
    "where ((EPA.facility_naics_code>='331110' and EPA.facility_naics_code<='331222') or (EPA.facility_naics_code>='331511' and EPA.facility_naics_code<='331513'))\n",
    "      and year(EPA.reporting_year)>=2014\n",
    "group by EPA.parent_company_name, EPA.lei, year(EPA.reporting_year), F.name, F.lei, year(F.ddate), F.revenue_usd, 10, 11\n",
    "order by EPA.parent_company_name, year(EPA.reporting_year)\n",
    "\"\"\", engine).convert_dtypes()\n",
    "df"
   ]
  },
  {
   "cell_type": "raw",
   "id": "19d79a16-6156-4f05-9867-9dc502598b0f",
   "metadata": {},
   "source": [
    "df[df.sec_name.notnull() & (df.sec_name!=df.epa_name) & (df.sec_lei!=df.epa_lei)]"
   ]
  },
  {
   "cell_type": "raw",
   "id": "7ca404dc-30fe-42c7-974e-30b72d286d42",
   "metadata": {
    "tags": []
   },
   "source": [
    "df.to_csv('/opt/app-root/src/itr-data-pipeline/data/processed/epa-sec.csv', index=False)"
   ]
  },
  {
   "cell_type": "raw",
   "id": "e995b680-3f7e-432f-b70e-b650ca5adc3a",
   "metadata": {},
   "source": [
    "engine.execute(f\"\"\"\n",
    "select EPA.parent_company_name, EPA.lei, year(reporting_year)\n",
    "from epa_ghgrp.parent_company EPA\n",
    "where EPA.ghgrp_facility_id=1000214\n",
    "order by year(reporting_year)\n",
    "\"\"\").fetchall()"
   ]
  },
  {
   "cell_type": "raw",
   "id": "aad6fae5-3d0a-40ce-a55c-dd4642bb4e14",
   "metadata": {},
   "source": [
    "engine.execute(f\"\"\"\n",
    "select F.name, F.lei, F.ddate, F.cik\n",
    "from sec_dera.financials_by_lei F\n",
    "where substr(F.name, 1, 3)='AK '\n",
    "order by F.ddate\n",
    "\"\"\").fetchall()"
   ]
  },
  {
   "cell_type": "code",
   "execution_count": null,
   "id": "6e2de2b7-023a-404f-a9fc-e97985ad5a2d",
   "metadata": {},
   "outputs": [],
   "source": [
    "engine.execute(\"select count (*) from (select parent_name from rmi_20220119.utility_information group by parent_name)\").fetchall()"
   ]
  },
  {
   "cell_type": "markdown",
   "id": "276dd1c0-2cc2-4cb6-bd3e-3d8fac4adb07",
   "metadata": {},
   "source": [
    "If the following is non-NULL, the Data Vault will reject the company data"
   ]
  },
  {
   "cell_type": "code",
   "execution_count": null,
   "id": "14da03c1-5f0c-42cd-b806-5ea2a1bfecf2",
   "metadata": {},
   "outputs": [],
   "source": [
    "engine.execute(\"select C.company_name, C.company_id, EI.* from demo.company_data C left join demo.intensity_data EI on EI.company_name=C.company_name where EI.co2_intensity_target_by_year is NULL\").fetchall()"
   ]
  }
 ],
 "metadata": {
  "kernelspec": {
   "display_name": "Python 3 (ipykernel)",
   "language": "python",
   "name": "python3"
  },
  "language_info": {
   "codemirror_mode": {
    "name": "ipython",
    "version": 3
   },
   "file_extension": ".py",
   "mimetype": "text/x-python",
   "name": "python",
   "nbconvert_exporter": "python",
   "pygments_lexer": "ipython3",
   "version": "3.8.6"
  }
 },
 "nbformat": 4,
 "nbformat_minor": 5
}
