{
 "cells": [
  {
   "cell_type": "markdown",
   "id": "4896e4d6-daa5-4708-9f43-0d599ba7e670",
   "metadata": {
    "tags": []
   },
   "source": [
    "# ITR Data Pipeline\n",
    "\n",
    "* Global Parameters\n",
    "* Industry Data (Sector Projections)\n",
    "\n",
    "* Portfolio Data\n",
    "* Company Data\n",
    "* Automization\n",
    "* Temperature Scoring"
   ]
  },
  {
   "cell_type": "markdown",
   "id": "4a469d68-26d7-4b07-8481-06d8dd1beb4d",
   "metadata": {},
   "source": [
    "## Environment variables and dot-env\n",
    "\n",
    "The following cell looks for a \"dot-env\" file in some standard locations,\n",
    "and loads its contents into `os.environ`."
   ]
  },
  {
   "cell_type": "code",
   "execution_count": null,
   "id": "8a3b8802-b823-46bd-b96d-cc2df275c808",
   "metadata": {},
   "outputs": [],
   "source": [
    "import os\n",
    "import pathlib\n",
    "from dotenv import load_dotenv\n",
    "\n",
    "# Load some standard environment variables from a dot-env file, if it exists.\n",
    "# If no such file can be found, does not fail, and so allows these environment vars to\n",
    "# be populated in some other way\n",
    "dotenv_dir = os.environ.get('CREDENTIAL_DOTENV_DIR', os.environ.get('PWD', '/opt/app-root/src'))\n",
    "dotenv_path = pathlib.Path(dotenv_dir) / 'credentials.env'\n",
    "if os.path.exists(dotenv_path):\n",
    "    load_dotenv(dotenv_path=dotenv_path,override=True)"
   ]
  },
  {
   "cell_type": "markdown",
   "id": "76dd9d51-0532-44b9-a3fc-a78a301edf4c",
   "metadata": {},
   "source": [
    "## S3 and boto3"
   ]
  },
  {
   "cell_type": "code",
   "execution_count": null,
   "id": "491b3688-8a64-467c-a99e-6db65fa864e6",
   "metadata": {},
   "outputs": [],
   "source": [
    "import boto3\n",
    "\n",
    "s3_source = boto3.resource(\n",
    "    service_name=\"s3\",\n",
    "    endpoint_url=os.environ['S3_LANDING_ENDPOINT'],\n",
    "    aws_access_key_id=os.environ['S3_LANDING_ACCESS_KEY'],\n",
    "    aws_secret_access_key=os.environ['S3_LANDING_SECRET_KEY'],\n",
    ")\n",
    "source_bucket = s3_source.Bucket(os.environ['S3_LANDING_BUCKET'])"
   ]
  },
  {
   "cell_type": "code",
   "execution_count": null,
   "id": "cc527cbc-3c9e-429f-bd23-9bb40446d6f8",
   "metadata": {},
   "outputs": [],
   "source": [
    "import osc_ingest_trino as osc\n",
    "\n",
    "s3 = boto3.resource(\n",
    "    service_name=\"s3\",\n",
    "    endpoint_url=os.environ[\"S3_DEV_ENDPOINT\"],\n",
    "    aws_access_key_id=os.environ[\"S3_DEV_ACCESS_KEY\"],\n",
    "    aws_secret_access_key=os.environ[\"S3_DEV_SECRET_KEY\"],\n",
    ")\n",
    "trino_bucket = osc.attach_s3_bucket(\"S3_DEV\")"
   ]
  },
  {
   "cell_type": "markdown",
   "id": "a12b224f-addc-43ec-b53e-d684b4c8ef67",
   "metadata": {},
   "source": [
    "## Connecting to Trino with sqlalchemy"
   ]
  },
  {
   "cell_type": "code",
   "execution_count": null,
   "id": "d8a756db-291f-48ad-8ae8-dad3da4af325",
   "metadata": {},
   "outputs": [],
   "source": [
    "import trino\n",
    "from sqlalchemy.engine import create_engine\n",
    "\n",
    "sqlstring = 'trino://{user}@{host}:{port}/'.format(\n",
    "    user = os.environ['TRINO_USER'],\n",
    "    host = os.environ['TRINO_HOST'],\n",
    "    port = os.environ['TRINO_PORT']\n",
    ")\n",
    "sqlargs = {\n",
    "    'auth': trino.auth.JWTAuthentication(os.environ['TRINO_PASSWD']),\n",
    "    'http_scheme': 'https',\n",
    "    'catalog': 'osc_datacommons_dev',\n",
    "    'schema': 'itr_mdt',\n",
    "}\n",
    "engine = create_engine(sqlstring, connect_args = sqlargs)\n",
    "connection = engine.connect()\n",
    "\n",
    "ingest_schema = 'itr_mdt'"
   ]
  },
  {
   "cell_type": "raw",
   "id": "12c8893d-4bfa-4d66-ae75-607ca5a9fbf5",
   "metadata": {},
   "source": [
    "# Show available schemas to ensure trino connection is set correctly\n",
    "schema_read = engine.execute(f'show schemas')\n",
    "for row in schema_read.fetchall():\n",
    "    print(row)\n",
    "\n",
    "engine.execute(\"show tables in rmi_20211120\").fetchall()"
   ]
  },
  {
   "cell_type": "code",
   "execution_count": null,
   "id": "d4ea7f5d-ccee-42f0-a855-8e4c5dc9cec8",
   "metadata": {},
   "outputs": [],
   "source": [
    "import numpy as np\n",
    "import pandas as pd\n",
    "import io"
   ]
  },
  {
   "cell_type": "markdown",
   "id": "5ab27f9b-c363-432a-abcb-67b3be944191",
   "metadata": {},
   "source": [
    "### Global Parameters\n",
    "\n",
    "These parameters are set/selected by the ITR tool."
   ]
  },
  {
   "cell_type": "raw",
   "id": "ea52c2d9-3a6e-4bd3-b827-a76689f055b9",
   "metadata": {},
   "source": [
    "tcre = 2.2\n",
    "\n",
    "carb_conversion = 3664\n",
    "\n",
    "BENCHMARK_GLOBAL_BUDGET = 860 # Gt CO2e\n",
    "\n",
    "benchmark_scenario_pathways = [ 'TPI', 'TPI_below_2', 'OECM' ]\n",
    "\n",
    "probability_of_acheiving_target = 0.5"
   ]
  },
  {
   "cell_type": "markdown",
   "id": "aebb1d16-5ad9-41f1-9296-141182a5e652",
   "metadata": {},
   "source": [
    "### Industry Data (Sector Projections)"
   ]
  },
  {
   "cell_type": "code",
   "execution_count": null,
   "id": "b3fb17c6-fe57-4c2d-8f42-394215cb2762",
   "metadata": {},
   "outputs": [],
   "source": [
    "scenarios = {}\n",
    "for scenario in ['TPI', 'TPI_below_2', 'OECM']:\n",
    "    df_dict = pd.read_excel(os.environ.get('PWD')+f\"/itr-data-pipeline/data/external/{scenario}_EI_and_production_benchmarks{('','_v2')[scenario=='OECM']}.xlsx\", sheet_name=None)\n",
    "    for projtype in ['projected_production', 'projected_ei_in_Wh']:\n",
    "        df_dict[projtype]['projection'] = projtype\n",
    "        df_dict[projtype]['scenario'] = scenario\n",
    "    scenarios[scenario] = pd.concat (df_dict.values())\n",
    "df = pd.concat(scenarios, ignore_index=True)\n",
    "cols = df.columns.tolist()\n",
    "cols = cols[-2:]+cols[0:-2]\n",
    "df = df[cols]\n",
    "# display(df)"
   ]
  },
  {
   "cell_type": "code",
   "execution_count": null,
   "id": "d84bc7af-9d6a-43dd-b625-e00a359b9854",
   "metadata": {},
   "outputs": [],
   "source": [
    "sector_projections = df.melt(id_vars=cols[0:4], value_vars=cols[4:], var_name='year')\n",
    "sector_projections"
   ]
  },
  {
   "cell_type": "markdown",
   "id": "e280caeb-f90a-4445-8804-bb68ad791f9b",
   "metadata": {},
   "source": [
    "### Portfolio Data"
   ]
  },
  {
   "cell_type": "markdown",
   "id": "3fc5398f-e268-44e5-a145-dbb83d0c695c",
   "metadata": {},
   "source": [
    "Get RMI LEI/ISIN data"
   ]
  },
  {
   "cell_type": "code",
   "execution_count": null,
   "id": "fa4a4574-fe56-4787-96a7-dd7cf6aba6d4",
   "metadata": {},
   "outputs": [],
   "source": [
    "rmi_lei_isin = pd.read_sql('select parent_name, parent_lei, parent_isin from rmi_20211120.utility_information', engine)\n",
    "rmi_dict = dict(zip(rmi_lei_isin.parent_lei, rmi_lei_isin.parent_isin))\n",
    "rmi_lei_isin"
   ]
  },
  {
   "cell_type": "markdown",
   "id": "4d3fc76a-21d6-42a0-8723-e3ad435d62cb",
   "metadata": {},
   "source": [
    "Prepare GLEIF matching data"
   ]
  },
  {
   "cell_type": "code",
   "execution_count": null,
   "id": "250ad414-9c15-416c-a420-a558baf03fee",
   "metadata": {},
   "outputs": [],
   "source": [
    "gleif_file = s3_source.Object(os.environ['S3_LANDING_BUCKET'],'mtiemann-GLEIF/DERA-matches.csv')\n",
    "gleif_file.download_file(f'/tmp/dera-gleif.csv')\n",
    "gleif_df = pd.read_csv(f'/tmp/dera-gleif.csv', header=0, sep=',', dtype=str, engine='c')\n",
    "gleif_dict = dict(zip(gleif_df.name, gleif_df.LEI))"
   ]
  },
  {
   "cell_type": "code",
   "execution_count": null,
   "id": "4e0d0786-74c3-4e8c-91cc-91bf4ae6a609",
   "metadata": {},
   "outputs": [],
   "source": [
    "gleif_dict['Old Dominion Electric Cooperative'.upper()]"
   ]
  },
  {
   "cell_type": "markdown",
   "id": "d24c3aba-4e3a-4383-a11e-f797bd0100b3",
   "metadata": {},
   "source": [
    "Create a very simple entity matcher"
   ]
  },
  {
   "cell_type": "code",
   "execution_count": null,
   "id": "eaff4059-478c-434f-8642-0bc1b7f12343",
   "metadata": {},
   "outputs": [],
   "source": [
    "# gleif_dict['Basin Electric Power Coop'.upper()] = gleif_dict['BASIN ELECTRIC POWER COOPERATIVE']\n",
    "# gleif_dict['Big Rivers Electric Corp'.upper()] = gleif_dict['BIG RIVERS ELECTRIC CORPORATION']\n",
    "gleif_dict['Cleco Partners LP'.upper()] = gleif_dict['CLECO CORPORATE HOLDINGS LLC']\n",
    "# gleif_dict['Golden Spread Electric Coop., Inc'.upper()] = gleif_dict['GOLDEN SPREAD ELECTRIC COOPERATIVE, INC.']\n",
    "gleif_dict['MIDWEST ENERGY INC'] = '549300O4B5CVWMKUES27'\n",
    "gleif_dict['OG&E Energy'.upper()] = gleif_dict['OGE ENERGY CORP.']\n",
    "# gleif_dict['Ohio Valley Electric Corp'.upper()] = gleif_dict['OHIO VALLEY ELECTRIC CORPORATION']\n",
    "gleif_dict['Old Dominion Electric Coop'.upper()] = gleif_dict['OLD DOMINION ELECTRIC COOPERATIVE']\n",
    "gleif_dict['PG&E Corp'.upper()] = gleif_dict['PG&E CORP']\n",
    "gleif_dict['Tri-State Generation & Transmission Association'.upper()] = gleif_dict['TRI-STATE GENERATION & TRANSMISSION ASSOCIATION, INC.']\n",
    "\n",
    "gleif_1 = { k.split(',')[0].split(' ')[0]:v for k,v in gleif_dict.items() }\n",
    "gleif_2 = { ' '.join(k.split(',')[0].split(' ')[0:2]):v for k,v in gleif_dict.items() }\n",
    "\n",
    "def gleif_match(x):\n",
    "    x = x.split(',')[0]\n",
    "    x = x.replace('.','')\n",
    "    if x in gleif_dict:\n",
    "        return gleif_dict[x]\n",
    "    x2 = ' '.join(x.split(' ')[0:2])\n",
    "    if x2 in gleif_2:\n",
    "        return gleif_2[x2]\n",
    "    if ' ' not in x and x in gleif_1:\n",
    "        return gleif_1[x]\n",
    "    return None"
   ]
  },
  {
   "cell_type": "code",
   "execution_count": null,
   "id": "a026c98e-e50b-49aa-a850-58cfbd1df08c",
   "metadata": {},
   "outputs": [],
   "source": [
    "portfolio_df = pd.read_csv(f\"{os.environ.get('PWD')}/itr-data-pipeline/data/external/example_portfolio_rmi_v3.csv\",\n",
    "                           delimiter=';')\n",
    "portfolio_df.insert(1, 'company_lei', portfolio_df.company_name.str.upper().map(gleif_match))\n",
    "portfolio_df.company_id = portfolio_df.company_lei.map(rmi_dict)\n",
    "portfolio_df = portfolio_df.drop('company_isin', axis=1)\n",
    "display(portfolio_df[portfolio_df.company_lei.isna()])"
   ]
  },
  {
   "cell_type": "code",
   "execution_count": null,
   "id": "54237dc2-1138-4971-b083-79048720a46a",
   "metadata": {},
   "outputs": [],
   "source": [
    "portfolio_df = portfolio_df.dropna(how='any').convert_dtypes()\n",
    "print(len(portfolio_df))\n",
    "portfolio_df.iloc[0:40]"
   ]
  },
  {
   "cell_type": "code",
   "execution_count": null,
   "id": "1e3a62ea-68cc-4234-8cd9-e7740b52b1e4",
   "metadata": {},
   "outputs": [],
   "source": [
    "engine.execute(f\"create schema if not exists {ingest_schema}\").fetchall()\n",
    "\n",
    "qres = engine.execute(f\"show tables in {ingest_schema}\")\n",
    "l = qres.fetchall()\n",
    "for x in l:\n",
    "    qres = engine.execute(f\"drop table {ingest_schema}.{x[0]}\")\n",
    "    display(qres.fetchall())\n",
    "\n",
    "engine.execute(f\"drop schema {ingest_schema}\").fetchall()\n",
    "engine.execute(f\"create schema {ingest_schema}\").fetchall()"
   ]
  },
  {
   "cell_type": "code",
   "execution_count": null,
   "id": "86308054-eca3-4c8d-8eb2-5c3474c5ce94",
   "metadata": {},
   "outputs": [],
   "source": [
    "buf = io.BytesIO()\n",
    "portfolio_df.to_parquet(path=buf)\n",
    "buf.seek(0)\n",
    "trino_bucket.upload_fileobj(Fileobj=buf,\n",
    "                            Key=f'trino/{ingest_schema}/portfolio/data.parquet')\n",
    "\n",
    "columnschema = osc.create_table_schema_pairs(osc.enforce_sql_column_names(portfolio_df))\n",
    "tabledef = f\"\"\"\n",
    "create table if not exists {ingest_schema}.portfolio (\n",
    "{columnschema}\n",
    ") with (\n",
    "format = 'parquet',\n",
    "external_location = 's3a://{trino_bucket.name}/trino/{ingest_schema}/portfolio/'\n",
    ")\n",
    "\"\"\"\n",
    "print(tabledef)\n",
    "\n",
    "table_create = engine.execute(tabledef)\n",
    "for row in table_create.fetchall():\n",
    "    print(row)"
   ]
  },
  {
   "cell_type": "markdown",
   "id": "df6ae7d1-a2cc-470f-9f77-8e529301701c",
   "metadata": {},
   "source": [
    "### Company Data"
   ]
  },
  {
   "cell_type": "code",
   "execution_count": null,
   "id": "f782e255-1568-4030-9aa9-2ea7baa30e1d",
   "metadata": {},
   "outputs": [],
   "source": [
    "# We have no S3 emissions in RMI data.\n",
    "\n",
    "engine.execute(\"select * from sec_dera.sic_isic\").fetchall()"
   ]
  },
  {
   "cell_type": "raw",
   "id": "2576cecb-91c8-44c6-8e2d-017ee0a3067f",
   "metadata": {},
   "source": [
    "gleif_dict['AES Corp'.upper()]"
   ]
  },
  {
   "cell_type": "raw",
   "id": "ffbc053a-6ea6-4665-a21c-6bf202f323da",
   "metadata": {
    "tags": []
   },
   "source": [
    "gleif_2['AES CORP']"
   ]
  },
  {
   "cell_type": "raw",
   "id": "a2613db4-ba80-4da6-a369-3bd97aaf833b",
   "metadata": {},
   "source": [
    "# Search for NEXTERA ENERGY PARTNERS LP\n",
    "qres = engine.execute(\"select * from rmi_20211120.utility_information where parent_lei='5493008F4ZOQFNG3WN54'\")\n",
    "l = qres.fetchall()\n",
    "print(len(l))"
   ]
  },
  {
   "cell_type": "raw",
   "id": "5a8dd29c-b768-4cb9-af31-5f265e512b0f",
   "metadata": {
    "tags": []
   },
   "source": [
    "l"
   ]
  },
  {
   "cell_type": "raw",
   "id": "388921aa-c6ba-416b-8539-a823f7f8b79d",
   "metadata": {},
   "source": [
    "lei = '2NUNNB7D43COUIRE5295'\n",
    "qres=engine.execute(f\"\"\"\n",
    "select count (*), U.parent_name, U.parent_lei, 'co2', sum(EM.emissions_co2)*1000000, 'nox', sum(EM.emissions_nox), 'co2e', sum(EM.emissions_co2)*1000000 + 265 * sum(coalesce(EM.emissions_nox,0)), EM.year\n",
    "from rmi_20211120.utility_information as U join rmi_20211120.operations_emissions_by_fuel as EM on U.respondent_id=EM.respondent_id\n",
    "where U.parent_lei='{lei}' -- and EM.owned_or_total='owned'\n",
    "group by U.parent_name, U.parent_lei, EM.year\n",
    "order by EM.year desc\n",
    "\"\"\")\n",
    "qres.fetchall()"
   ]
  },
  {
   "cell_type": "raw",
   "id": "4659139f-3c99-4b4d-9855-f1d80b4127f5",
   "metadata": {},
   "source": [
    "qres=engine.execute(f\"select * from sec_dera.financials_by_lei where lei = 'TWSEY0NEDUDCKS27AH81'\")\n",
    "qres.fetchall()"
   ]
  },
  {
   "cell_type": "raw",
   "id": "56e45de5-679a-42f9-97c1-9073ed0fd385",
   "metadata": {},
   "source": [
    "qres=engine.execute(f\"select * from itr_mdt.portfolio where lei = 'TWSEY0NEDUDCKS27AH81'\")\n",
    "qres.fetchall()"
   ]
  },
  {
   "cell_type": "raw",
   "id": "d9c30a79-29f8-43af-9dfb-0fbc0b8a9aec",
   "metadata": {},
   "source": [
    "qres = engine.execute(\"\"\"\n",
    "select AEI.parent_name, U.parent_lei, U.respondent_id, AEI.year, sum(AEI.asset_value) as fy_asset_value, sum(AEI.earnings_value) as fy_earnings_value\n",
    "from rmi_20211120.assets_earnings_investments as AEI join rmi_20211120.utility_information U on AEI.respondent_id=U.respondent_id\n",
    "where U.parent_lei='TWSEY0NEDUDCKS27AH81' and AEI.year=DATE('2019-01-01')\n",
    "group by AEI.parent_name, U.parent_lei, U.respondent_id, AEI.year\n",
    "\"\"\")\n",
    "l = qres.fetchall()\n",
    "print(len(l))\n",
    "l[:10]"
   ]
  },
  {
   "cell_type": "markdown",
   "id": "f4873aad-22e5-4df3-be72-d3ffb79f7403",
   "metadata": {},
   "source": [
    "### Capture a list of the companies for which we have good financial info"
   ]
  },
  {
   "cell_type": "code",
   "execution_count": null,
   "id": "2ff246c6-6245-463a-8a6b-67fe6a143568",
   "metadata": {},
   "outputs": [],
   "source": [
    "qres = engine.execute(f\"\"\"\n",
    "select F.name, F.lei, T.tname, U2.parent_ticker, F.sic, F.ddate,\n",
    "       'revenue' as rl, round (F.revenue_usd/1000000.0, 1), round (RT2.fy_revenue_total/1000000.0, 1), round (CS2.fy_revenues/1000000.0, 1), round (F.revenue_usd/RT2.fy_revenue_total, 1), round (F.revenue_usd/CS2.fy_revenues, 1),\n",
    "       'market_cap' as fl, round (F.market_cap_usd/1000000.0, 1),\n",
    "       'EV' as el, round ((F.market_cap_usd+F.debt_usd-F.cash_usd)/1000000, 1),\n",
    "       'assets' as al, round (F.assets_usd/1000000.0, 1), round (AEI2.asset_value/1000000.0, 1), round (F.assets_usd/AEI2.asset_value, 1),\n",
    "       'cash' as cc, round (F.cash_usd/1000000.0, 1),\n",
    "       -- 'income' as il, F.income_usd/1000000.0, AEI2.fy_earnings_value/1000000.0, F.income_usd/AEI2.fy_earnings_value,\n",
    "       'counts: ulei, aei, rt, cs' as legend, c_ulei, c_aei, c_rt, c_cs\n",
    "from {ingest_schema}.portfolio as P\n",
    "     join (select count (*) as c_ulei, U.parent_name, U.parent_lei, U.parent_ticker\n",
    "           from rmi_20211120.utility_information as U\n",
    "           group by U.parent_name, U.parent_lei, U.parent_ticker) as U2 on U2.parent_lei=P.company_lei\n",
    "     join sec_dera.financials_by_lei as F on F.lei=P.company_lei\n",
    "     join (select count (*) as c_cs, CS.parent_name, CS.year, sum(revenues) as fy_revenues\n",
    "           from rmi_20211120.customers_sales as CS\n",
    "           group by CS.parent_name, CS.year) as CS2 on CS2.parent_name=U2.parent_name and year(CS2.year)=year(F.ddate)\n",
    "     join (select count (*) as c_aei, AEI.parent_name, AEI.year, sum(AEI.asset_value) as asset_value, sum(AEI.earnings_value) as fy_earnings_value\n",
    "           from rmi_20211120.assets_earnings_investments as AEI\n",
    "           group by AEI.parent_name, AEI.year) as AEI2 on AEI2.parent_name=U2.parent_name and year(AEI2.year)=year(F.ddate)\n",
    "     left join (select count (*) as c_rt, RT.parent_name, RT.year, sum(RT.revenue_total) as fy_revenue_total\n",
    "           from rmi_20211120.revenue_by_tech as RT\n",
    "           group by RT.parent_name, RT.year) as RT2 on RT2.parent_name=U2.parent_name and year(RT2.year)=year(F.ddate)\n",
    "     left join sec_dera.ticker T on F.cik=T.cik and upper(T.tname)=U2.parent_ticker\n",
    "where year(F.ddate)=2019\n",
    "order by F.name\n",
    "\"\"\")\n",
    "\n",
    "l = qres.fetchall()\n",
    "print(len(l))\n",
    "[x for x in l if any(x) is None]"
   ]
  },
  {
   "cell_type": "markdown",
   "id": "3320a92e-a027-43ec-a5d9-f46d492d06dd",
   "metadata": {},
   "source": [
    "### Print that list..."
   ]
  },
  {
   "cell_type": "code",
   "execution_count": null,
   "id": "b3f6254f-1607-4a43-bb15-45d24d60382d",
   "metadata": {},
   "outputs": [],
   "source": [
    "display(l)"
   ]
  },
  {
   "cell_type": "raw",
   "id": "c73ba06b-0080-4ca2-8c0b-908186d9e8d6",
   "metadata": {
    "tags": []
   },
   "source": [
    "qres = engine.execute(\"show tables in rmi_20211120\")\n",
    "l = qres.fetchall()\n",
    "for x in l:\n",
    "    qres = engine.execute(f\"select count(*) from rmi_20211120.{x[0]}\")\n",
    "    display(f\"{x[0]}: {qres.fetchall()[0][0]}\")\n",
    "    qres = engine.execute(f\"describe rmi_20211120.{x[0]}\")\n",
    "    display([': '.join(x[0:2]) for x in qres.fetchall()])"
   ]
  },
  {
   "cell_type": "raw",
   "id": "a6afa6d4-ce8f-4833-9f25-2e0406343b93",
   "metadata": {},
   "source": [
    "qres=engine.execute(f\"\"\"\n",
    "select CS.* -- count (*) as c_cs, U.parent_lei, CS.year, sum(CS.revenues) as fy_revenues\n",
    "from rmi_20211120.customers_sales as CS join rmi_20211120.utility_information U on CS.parent_name=U.parent_name\n",
    "where CS.year=DATE('2019-01-01') and U.parent_lei='{lei}'\n",
    "-- group by U.parent_lei, CS.year\n",
    "\"\"\")\n",
    "l = qres.fetchall()\n",
    "print(len(l))"
   ]
  },
  {
   "cell_type": "raw",
   "id": "32c27aea-584e-44a7-828d-222502d50ce6",
   "metadata": {},
   "source": [
    "qres = engine.execute(f\"\"\"\n",
    "select year(CS2.year), U2.parent_name, U2.parent_lei, U2.parent_ticker,\n",
    "       round(RT2.fy_revenue_total/1000000.0,1), round(CS2.fy_revenues/1000000.0,1),\n",
    "       cast(round((1-RT2.fy_revenue_total/CS2.fy_revenues)*100,1) as varchar) || '%',\n",
    "       'counts: ulei, rt, cs' as legend, c_ulei, c_rt, c_cs\n",
    "from (select count (*) as c_ulei, U.parent_name, U.parent_lei, U.parent_ticker\n",
    "           from rmi_20211120.utility_information as U\n",
    "           group by U.parent_name, U.parent_lei, U.parent_ticker) as U2\n",
    "     join (select count (*) as c_cs, CS.year, CS.parent_name, sum(revenues) as fy_revenues\n",
    "           from rmi_20211120.customers_sales as CS\n",
    "           group by CS.year, CS.parent_name) as CS2 on CS2.parent_name=U2.parent_name and CS2.year>=DATE('2018-01-01')\n",
    "     join (select count (*) as c_rt, RT.year, RT.parent_name, sum(RT.revenue_total) as fy_revenue_total\n",
    "           from rmi_20211120.revenue_by_tech as RT\n",
    "           group by RT.year, RT.parent_name) as RT2 on RT2.parent_name=U2.parent_name and RT2.year=CS2.year\n",
    "order by year(CS2.year) desc, U2.parent_name\n",
    "\"\"\")\n",
    "\n",
    "l = qres.fetchall()\n",
    "print(len(l))\n",
    "display(l[0:20])\n",
    "display(l[60:80])"
   ]
  },
  {
   "cell_type": "raw",
   "id": "443dc2ac-95bd-4cdc-bb15-d33329b59c01",
   "metadata": {},
   "source": [
    "engine.execute(\"select * from sec_dera.num where tag = 'ComputedTreasuryFloat'\").fetchall()"
   ]
  },
  {
   "cell_type": "raw",
   "id": "0830fd27-dc6d-4e75-9e8b-2ca6950d62fd",
   "metadata": {},
   "source": [
    "# owned_or_total is handled upstream, upon ingestion of RMI data\n",
    "\n",
    "engine.execute(\"\"\"\n",
    "select year, E.parent_name, E.respondent_id, plant_name_eia, sum(emissions_co2), sum(emissions_nox) from rmi_20211120.operations_emissions_by_fuel as E\n",
    "       join rmi_20211120.utility_information as U on E.respondent_id=U.respondent_id\n",
    "where U.parent_lei='549300NNLSIMY6Z8OT86' and year(E.year)=2019\n",
    "group by year, E.parent_name, E.respondent_id, plant_name_eia\n",
    "\"\"\").fetchall()"
   ]
  },
  {
   "cell_type": "markdown",
   "id": "1dc1b217-5f10-4084-90e0-202328bda080",
   "metadata": {},
   "source": [
    "### Capture and print a list of copmanies with both financial info and emissions info"
   ]
  },
  {
   "cell_type": "code",
   "execution_count": null,
   "id": "d4478c8a-cc0f-436f-911e-fc927bea7ae2",
   "metadata": {},
   "outputs": [],
   "source": [
    "qres = engine.execute(f\"\"\"\n",
    "select DISTINCT 'P.company_name', 'P.company_lei', 'P.company_id', 'S2I.isic',\n",
    "       'F.country', 'UN.region', 'sector', 'production', 's1s2_co2', 's3_co2', 's1s2_ei', 's3_ei',\n",
    "       'F.revenue_usd', 'F.market_cap_usd', 'ev', 'F.assets_usd', 'F.cash_usd',\n",
    "       'target_probability'\n",
    "\"\"\")\n",
    "l = qres.fetchall()\n",
    "print(l)\n",
    "\n",
    "sql = f\"\"\"\n",
    "select DISTINCT P.company_name, P.company_lei, P.company_id, S2I.isic,\n",
    "       F.country, UN.region_ar6_10 as region,\n",
    "       'Electricity Utilities' as sector, sum(E.generation) as production, sum(E.emissions_co2 + (265/1000000.0)*coalesce(E.emissions_nox, 0)) as s1s2_co2, NULL as s3_co2,\n",
    "       sum(E.emissions_co2 + (265/1000000.0)*coalesce(E.emissions_nox, 0)) / sum(E.generation) as s1s2_ei, NULL as s3_ei,\n",
    "       F.revenue_usd as company_revenue,\n",
    "       F.market_cap_usd as company_market_cap,\n",
    "       F.market_cap_usd+F.debt_usd-F.cash_usd as company_enterprise_value,\n",
    "       F.assets_usd as company_total_assets,\n",
    "       F.cash_usd as company_cash_equivalents,\n",
    "       cast(0.5 as real) as target_probability\n",
    "from {ingest_schema}.portfolio as P\n",
    "     left join sec_dera.financials_by_lei as F on F.lei=P.company_lei and F.ddate>=DATE('2019-01-01') and F.ddate<DATE('2020-01-01')\n",
    "     join iso3166.countries as I on F.country=I.alpha_2\n",
    "     join essd.regions as UN on I.alpha_3=UN.iso\n",
    "     -- join sec_dera.sub as S on S.cik=F.cik\n",
    "     left join rmi_20211120.utility_information as U on U.parent_lei=P.company_lei\n",
    "     -- left join gleif_mdt.gleif_isin_lei G on G.lei=P.lei and G.isin=U.parent_isin\n",
    "     left join sec_dera.sic_isic as S2I on S2I.sic=F.sic\n",
    "     left join rmi_20211120.operations_emissions_by_fuel as E on U.respondent_id=E.respondent_id and year(E.year)=year(F.ddate)\n",
    "-- where E.owned_or_total='owned'\n",
    "group by P.company_name, P.company_lei, P.company_id, S2I.isic,\n",
    "       F.country, UN.region_ar6_10, 'Electric Utilties', NULL, NULL,\n",
    "       F.revenue_usd, F.market_cap_usd, F.market_cap_usd+F.debt_usd-F.cash_usd, F.assets_usd, F.cash_usd,\n",
    "       cast(0.5 as real)\n",
    "order by P.company_name\n",
    "limit 200\n",
    "\"\"\"\n",
    "\n",
    "qres = engine.execute(sql)\n",
    "l = qres.fetchall()\n",
    "print(len(l))\n",
    "display(l[0:40])"
   ]
  },
  {
   "cell_type": "markdown",
   "id": "d49375dc-c7a2-4222-bf30-88432694dbfe",
   "metadata": {},
   "source": [
    "### `financial_df` contains all the base year (2019) financial, production, and emissions data"
   ]
  },
  {
   "cell_type": "code",
   "execution_count": null,
   "id": "4783db2a-2200-482d-9545-2cc2066a7bda",
   "metadata": {},
   "outputs": [],
   "source": [
    "financial_df = pd.read_sql(sql, engine)\n",
    "print(len(financial_df))"
   ]
  },
  {
   "cell_type": "markdown",
   "id": "5f1924b1-8ed6-4f65-acd5-328a17a038c0",
   "metadata": {},
   "source": [
    "### Load emissions target data"
   ]
  },
  {
   "cell_type": "code",
   "execution_count": null,
   "id": "22a1bc84-bd10-414f-8a67-dd01ba52c546",
   "metadata": {},
   "outputs": [],
   "source": [
    "engine.execute(\"describe rmi_20211120.emissions_targets\").fetchall()"
   ]
  },
  {
   "cell_type": "markdown",
   "id": "cfb9880c-0b6e-4c5f-8683-d8e5b1567ca3",
   "metadata": {},
   "source": [
    "### `targets_df` has all the historical and target emissions data (which can be interpreted to provide trajectory data as well)\n",
    "\n",
    "We also preserve RMI's 1.5 degree target info, which can be presented as a trajectory to compare/contrast corporate targets with RMI's best policy recommendations"
   ]
  },
  {
   "cell_type": "code",
   "execution_count": null,
   "id": "f956311f-c109-4e3b-bc36-0aed266ca949",
   "metadata": {},
   "outputs": [],
   "source": [
    "targets_df = pd.read_sql(f\"\"\"\n",
    "select ET.parent_name as company_name, year(year) as year,\n",
    "       co2_intensity_historical, co2_intensity_target_all_years, co2_intensity_1point5C,\n",
    "       co2_historical, co2_target_all_years, co2_1point5C,\n",
    "       generation_historical as production_historical, generation_projected as production_projected, generation_1point5C as production_1point5C\n",
    "from rmi_20211120.emissions_targets ET\n",
    "     -- left join (select parent_name, parent_lei from rmi_20211120.utility_information group by parent_name, parent_lei) U\n",
    "     --      on ET.parent_name=U.parent_name\n",
    "\"\"\", engine) # parse_dates=['year']\n",
    "\n",
    "targets_df.insert(1, 'company_lei', targets_df.company_name.str.upper().map(gleif_match))\n",
    "targets_df.insert(2, 'company_id', targets_df.company_lei.map(rmi_dict))\n",
    "\n",
    "print(f\"len(targets_df) = {len(targets_df)}\")"
   ]
  },
  {
   "cell_type": "code",
   "execution_count": null,
   "id": "02d5a3d3-f347-4e15-9790-c50fe3091880",
   "metadata": {},
   "outputs": [],
   "source": [
    "targets_df.loc[targets_df.year==2019]"
   ]
  },
  {
   "cell_type": "markdown",
   "id": "e7b759cc-0ddf-4cd5-bc16-9404d774e8fd",
   "metadata": {},
   "source": [
    "Fix some inconsistencies in the data, such as retrospective target information being null where historical data is available, or where retrospective target is zero and emissions grow to present date, only to shrink again"
   ]
  },
  {
   "cell_type": "code",
   "execution_count": null,
   "id": "e129056a-056b-427c-bd6e-e94e7c124f30",
   "metadata": {},
   "outputs": [],
   "source": [
    "targets_df.loc[targets_df.year<2020, 'co2_intensity_target_all_years'] = targets_df.loc[targets_df.year<2020, ['co2_intensity_historical', 'co2_intensity_target_all_years', 'co2_intensity_1point5C']].max(skipna=True, axis=1)\n",
    "targets_df.loc[targets_df.year<2020, 'co2_target_all_years'] = targets_df.loc[targets_df.year<2020, ['co2_historical', 'co2_target_all_years', 'co2_1point5C']].max(skipna=True, axis=1)\n",
    "targets_df.loc[targets_df.year<2020, 'production_projected'] = targets_df.loc[targets_df.year<2020, ['production_historical', 'production_projected']].max(skipna=True, axis=1)"
   ]
  },
  {
   "cell_type": "code",
   "execution_count": null,
   "id": "8e43caf6-de04-4031-8396-f01cb5d7f3ab",
   "metadata": {},
   "outputs": [],
   "source": [
    "def compute_sums_and_wavg(x):\n",
    "    d = { 'co2_target_by_year':x['co2_target_all_years'].sum(),\n",
    "          'production_by_year':x['production_projected'].sum() }\n",
    "    if d['production_by_year']:\n",
    "        d['co2_intensity_target_by_year'] = (x['production_projected'] * x['co2_intensity_target_all_years']).sum() / d['production_by_year']\n",
    "    else:\n",
    "        d['co2_intensity_target_by_year'] = np.nan\n",
    "    return pd.Series(d, index=['co2_intensity_target_by_year', 'co2_target_by_year', 'production_by_year'])\n",
    "\n",
    "df = (targets_df[targets_df.year>=2014]\n",
    "      .fillna(method='pad').groupby(['company_name', 'company_lei', 'company_id', 'year'])\n",
    "      .apply(compute_sums_and_wavg)\n",
    "      .sort_values(['company_name', 'year'], ascending=[True, False])\n",
    "     )"
   ]
  },
  {
   "cell_type": "code",
   "execution_count": null,
   "id": "83d8f63a-1b5c-4212-a4cf-f2edc53f05b3",
   "metadata": {},
   "outputs": [],
   "source": [
    "for table in ['rmi_company_data', 'rmi_intensity_data', 'rmi_emissions_data', 'rmi_production_data', 'rmi_trajectory_data']:\n",
    "    qres = engine.execute(f\"drop table if exists {ingest_schema}.{table}\")\n",
    "    print(qres.fetchall())\n",
    "    dres = trino_bucket.objects \\\n",
    "        .filter(Prefix = f'data/{ingest_schema}.db/{table}/') \\\n",
    "        .delete()\n",
    "    print(dres)"
   ]
  },
  {
   "cell_type": "code",
   "execution_count": null,
   "id": "0f78b6f1-0383-4836-8f18-9cfba8786c59",
   "metadata": {
    "tags": []
   },
   "outputs": [],
   "source": [
    "financial_df.to_sql('rmi_company_data', engine, schema=ingest_schema, if_exists='replace', index=False, chunksize=200, method='multi')\n",
    "print(engine.execute(\"select * from rmi_company_data limit 10\").fetchall())"
   ]
  },
  {
   "cell_type": "code",
   "execution_count": null,
   "id": "b0e41325-caac-4cbd-8c3d-7d796f9591fd",
   "metadata": {
    "tags": []
   },
   "outputs": [],
   "source": [
    "df.co2_intensity_target_by_year.reset_index().to_sql('rmi_intensity_data', engine, schema=ingest_schema, index=False, chunksize=200, method='multi')\n",
    "df.co2_target_by_year.reset_index().to_sql('rmi_emissions_data', engine, schema=ingest_schema, index=False, chunksize=200, method='multi')\n",
    "df.production_by_year.reset_index().to_sql('rmi_production_data', engine, schema=ingest_schema, index=False, chunksize=200, method='multi')\n",
    "\n",
    "print(engine.execute(\"select * from rmi_intensity_data limit 10\").fetchall())"
   ]
  },
  {
   "cell_type": "code",
   "execution_count": null,
   "id": "476e6158-6089-44c2-ae63-d2acb4c11d85",
   "metadata": {},
   "outputs": [],
   "source": [
    "df.loc[('AES Corp.', '2NUNNB7D43COUIRE5295', 'US00130H1059', 2045)]"
   ]
  },
  {
   "cell_type": "code",
   "execution_count": null,
   "id": "d1ce53a5-583b-45a3-8a01-8eb9ad3f9351",
   "metadata": {},
   "outputs": [],
   "source": [
    "xdf = df.reset_index()\n",
    "# xdf.year = xdf.year.map(lambda x: x.year)\n",
    "pdf = xdf.pivot(index=['company_name', 'company_lei', 'company_id'], columns='year').reset_index()\n",
    "# pdf.insert(1, 'company_lei', pdf.company_name.str.upper().map(gleif_match))\n",
    "# pdf.insert(2, 'company_id', pdf.company_lei.map(rmi_dict))\n",
    "# pdf = pdf.set_index(['company_name','company_lei', 'company_id'], drop=True)\n",
    "pdf.columns.names=[None,None]\n",
    "pdf"
   ]
  },
  {
   "cell_type": "code",
   "execution_count": null,
   "id": "703c4b1f-90b1-4bd8-95c6-33cd0aa41d68",
   "metadata": {},
   "outputs": [],
   "source": [
    "co2_ei_df = pd.concat([pdf.company_name, pdf.company_lei, pdf.company_id, pdf.co2_intensity_target_by_year.reset_index()], axis=1).drop('index', axis=1)\n",
    "co2_ei_df"
   ]
  },
  {
   "cell_type": "code",
   "execution_count": null,
   "id": "7c730095-483d-494a-b809-366a69b18a12",
   "metadata": {},
   "outputs": [],
   "source": [
    "co2_ei_df.iloc[:, 3] = 2*co2_ei_df.iloc[:, 4] - co2_ei_df.iloc[:, 5]\n",
    "co2_ei_df = co2_ei_df[co2_ei_df.company_id.notna()]\n",
    "co2_ei_df.insert(3, 'scope', 'S1+S2')\n",
    "co2_ei_df.head(10)"
   ]
  },
  {
   "cell_type": "code",
   "execution_count": null,
   "id": "6d8d0428-1eec-4ef9-b426-d745d080881e",
   "metadata": {},
   "outputs": [],
   "source": [
    "qres = engine.execute(f\"drop table if exists {ingest_schema}.rmi_trajectory_data\")\n",
    "print(qres.fetchall())\n",
    "dres = trino_bucket.objects \\\n",
    "        .filter(Prefix = f'data/{ingest_schema}.db/rmi_trajectory_data/') \\\n",
    "        .delete()\n",
    "print(dres)\n",
    "\n",
    "historic_progress = (1.0 + co2_ei_df[2019] / co2_ei_df[2014]) / 2\n",
    "\n",
    "annualized_progress = historic_progress.where(historic_progress>0).where(historic_progress<=1).dropna() ** (1/(2019-2014))\n",
    "\n",
    "traj_df = co2_ei_df.copy()\n",
    "traj_df.loc[:, 2021:2049]=np.nan\n",
    "traj_df[2050] = co2_ei_df[2019] * annualized_progress ** (2050-2020)\n",
    "traj_df.loc[:, 2020:2050] = traj_df.loc[:, 2020:2050].interpolate(axis=1)\n",
    "traj_mdf = traj_df.melt(id_vars=['company_name','company_lei','company_id','scope'], var_name='year')\n",
    "traj_mdf.rename(columns={'value':'co2_intensity_trajectory_by_year'}, inplace=True)\n",
    "traj_mdf.to_sql('rmi_trajectory_data', engine, schema=ingest_schema, index=False, chunksize=200, method='multi')"
   ]
  },
  {
   "cell_type": "code",
   "execution_count": null,
   "id": "a156bb94-add8-4338-b18e-7ed15da5ff36",
   "metadata": {},
   "outputs": [],
   "source": [
    "co2_df = pd.concat([pdf.company_name, pdf.company_lei, pdf.company_id, pdf.co2_target_by_year.reset_index()], axis=1).drop('index', axis=1)\n",
    "co2_df = co2_df[co2_df.company_id.notna()]\n",
    "co2_df.insert(3, 'scope', 'S1+S2')\n",
    "co2_df.head()"
   ]
  },
  {
   "cell_type": "code",
   "execution_count": null,
   "id": "2437a7e6-71b5-4046-8b32-b764fdc8bda3",
   "metadata": {},
   "outputs": [],
   "source": [
    "gen_df = pd.concat([pdf.company_name, pdf.company_lei, pdf.company_id, pdf.production_by_year.reset_index()], axis=1).drop('index', axis=1)\n",
    "gen_df.iloc[:, 3] = 2*gen_df.iloc[:, 4] - gen_df.iloc[:, 5]\n",
    "gen_df = gen_df[gen_df.company_id.notna()]\n",
    "gen_df.insert(3, 'production', 'TWh')\n",
    "gen_df.head()"
   ]
  },
  {
   "cell_type": "code",
   "execution_count": null,
   "id": "006f6858-5818-4a25-8726-9521bdcb0559",
   "metadata": {},
   "outputs": [],
   "source": [
    "with pd.ExcelWriter(\"rmi-20211120-output.xlsx\", datetime_format=\"YYYY\") as writer:\n",
    "    financial_df.to_excel(writer, sheet_name=\"fundamental_data\", index=False)\n",
    "    co2_ei_df.to_excel(writer, sheet_name=\"projected_ei_in_Wh\", index=False)\n",
    "    gen_df.to_excel(writer, sheet_name=\"projected_production\", index=False)\n",
    "    co2_df.to_excel(writer, sheet_name=\"projected_co2\", index=False)\n"
   ]
  },
  {
   "cell_type": "code",
   "execution_count": null,
   "id": "1b7c9c63-f214-4ef6-a9e1-3db26b863b2e",
   "metadata": {},
   "outputs": [],
   "source": [
    "portfolio_zero = portfolio_df.copy()\n",
    "portfolio_zero.target_probability = 0.0\n",
    "portfolio_one = portfolio_df.copy()\n",
    "portfolio_one.target_probability = 1.0\n",
    "\n",
    "portfolio_df.to_csv(\"rmi-20211120-portfolio.csv\", sep=';', index=False)"
   ]
  },
  {
   "cell_type": "raw",
   "id": "9d24755b-4f72-4be9-89fa-af71faf9d8b4",
   "metadata": {},
   "source": [
    "engine.execute(\"select distinct(name) name,sic from sec_dera.sub where name like '%STEEL%'\").fetchall()"
   ]
  },
  {
   "cell_type": "raw",
   "id": "0ebeb685-1635-41c2-8365-5d56bc7dedc1",
   "metadata": {},
   "source": [
    "x = [x[0] for x in engine.execute(\"select distinct(name) name,sic from sec_dera.sub where sic>=3310 and sic<=3317\").fetchall()]\n",
    "\n",
    "x.sort()\n",
    "display(x)"
   ]
  },
  {
   "cell_type": "raw",
   "id": "03782686-d93f-4d9e-869c-b43c3deff8c9",
   "metadata": {},
   "source": [
    "engine.execute(\"show tables in gleif_mdt\").fetchall()"
   ]
  },
  {
   "cell_type": "raw",
   "id": "1e75cc06-90c7-4f2e-90fd-622b9819382f",
   "metadata": {},
   "source": [
    "engine.execute(\"describe gleif_mdt.gleif_isin_lei\").fetchall()"
   ]
  },
  {
   "cell_type": "raw",
   "id": "6d097d9d-6094-4d78-94aa-30b7b22fa9c1",
   "metadata": {},
   "source": [
    "engine.execute(\"select * from gleif_mdt.gleif_isin_lei where isin='LU0140205948'\").fetchall()"
   ]
  },
  {
   "cell_type": "raw",
   "id": "abd8f2ec-a538-43bd-bc1c-d102d2cece5a",
   "metadata": {},
   "source": [
    "engine.execute(\"describe gleif_mdt.gleif_direct_issuer_ultimate_issuer\").fetchall()"
   ]
  },
  {
   "cell_type": "code",
   "execution_count": null,
   "id": "d0393b59-d141-4c5c-86a1-5166f770c876",
   "metadata": {
    "tags": []
   },
   "outputs": [],
   "source": [
    "financial_df.loc[financial_df.company_id.isin([\"US00130H1059\", \"US0255371017\", \"US6362744095\"])]"
   ]
  },
  {
   "cell_type": "code",
   "execution_count": null,
   "id": "418a6678-f89a-4ead-b64a-faab72e0bcc9",
   "metadata": {},
   "outputs": [],
   "source": [
    "ingest_catalog='osc_datacommons_dev'\n",
    "demo_schema='demo'\n",
    "for t in ['rmi_company_data', 'rmi_emissions_data', 'rmi_intensity_data', 'rmi_production_data', 'rmi_trajectory_data']:\n",
    "    if t!='rmi_emission_data':\n",
    "        df = pd.read_sql(t, engine)\n",
    "        df = df.convert_dtypes()\n",
    "        if 'isic' in df.columns:\n",
    "            df.isic = df.isic.astype('Int16')\n",
    "        if 's3_co2' in df.columns:\n",
    "            df.s3_co2 = df.s3_co2.astype('string')\n",
    "        if 's3_ei' in df.columns:\n",
    "            df.s3_ei = df.s3_ei.astype('string')\n",
    "    print(t)\n",
    "    try:\n",
    "        osc.drop_unmanaged_table(ingest_catalog, demo_schema, t, engine, trino_bucket)\n",
    "        osc.drop_unmanaged_data(demo_schema, t, trino_bucket)\n",
    "        if t=='rmi_emission_data':\n",
    "            continue\n",
    "        osc.ingest_unmanaged_parquet(df, demo_schema, t, trino_bucket)\n",
    "        qres = engine.execute(osc.unmanaged_parquet_tabledef(df, ingest_catalog, demo_schema, t, trino_bucket, typemap={'Int16':'smallint'}))\n",
    "        print(qres.fetchall())\n",
    "    except ValueError as e:\n",
    "        print(df.dtypes)\n"
   ]
  },
  {
   "cell_type": "code",
   "execution_count": null,
   "id": "743d5734-983b-4fd8-8178-3f1b2b92492b",
   "metadata": {},
   "outputs": [],
   "source": []
  }
 ],
 "metadata": {
  "kernelspec": {
   "display_name": "Python 3",
   "language": "python",
   "name": "python3"
  },
  "language_info": {
   "codemirror_mode": {
    "name": "ipython",
    "version": 3
   },
   "file_extension": ".py",
   "mimetype": "text/x-python",
   "name": "python",
   "nbconvert_exporter": "python",
   "pygments_lexer": "ipython3",
   "version": "3.8.3"
  }
 },
 "nbformat": 4,
 "nbformat_minor": 5
}
