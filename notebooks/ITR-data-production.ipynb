{
 "cells": [
  {
   "cell_type": "markdown",
   "id": "4896e4d6-daa5-4708-9f43-0d599ba7e670",
   "metadata": {},
   "source": [
    "# ITR Data Pipeline\n",
    "\n",
    "* Global Parameters\n",
    "* Industry Data (Sector Projections)\n",
    "\n",
    "* Portfolio Data\n",
    "* Company Data\n",
    "* Automization\n",
    "* Temperature Scoring"
   ]
  },
  {
   "cell_type": "markdown",
   "id": "4a469d68-26d7-4b07-8481-06d8dd1beb4d",
   "metadata": {},
   "source": [
    "## Environment variables and dot-env\n",
    "\n",
    "The following cell looks for a \"dot-env\" file in some standard locations,\n",
    "and loads its contents into `os.environ`."
   ]
  },
  {
   "cell_type": "code",
   "execution_count": null,
   "id": "8a3b8802-b823-46bd-b96d-cc2df275c808",
   "metadata": {},
   "outputs": [],
   "source": [
    "import os\n",
    "import pathlib\n",
    "from dotenv import load_dotenv\n",
    "\n",
    "# Load some standard environment variables from a dot-env file, if it exists.\n",
    "# If no such file can be found, does not fail, and so allows these environment vars to\n",
    "# be populated in some other way\n",
    "dotenv_dir = os.environ.get('CREDENTIAL_DOTENV_DIR', os.environ.get('PWD', '/opt/app-root/src'))\n",
    "dotenv_path = pathlib.Path(dotenv_dir) / 'credentials.env'\n",
    "if os.path.exists(dotenv_path):\n",
    "    load_dotenv(dotenv_path=dotenv_path,override=True)"
   ]
  },
  {
   "cell_type": "markdown",
   "id": "76dd9d51-0532-44b9-a3fc-a78a301edf4c",
   "metadata": {},
   "source": [
    "## S3 and boto3"
   ]
  },
  {
   "cell_type": "code",
   "execution_count": null,
   "id": "491b3688-8a64-467c-a99e-6db65fa864e6",
   "metadata": {},
   "outputs": [],
   "source": [
    "import boto3\n",
    "\n",
    "s3_source = boto3.resource(\n",
    "    service_name=\"s3\",\n",
    "    endpoint_url=os.environ['S3_LANDING_ENDPOINT'],\n",
    "    aws_access_key_id=os.environ['S3_LANDING_ACCESS_KEY'],\n",
    "    aws_secret_access_key=os.environ['S3_LANDING_SECRET_KEY'],\n",
    ")\n",
    "source_bucket = s3_source.Bucket(os.environ['S3_LANDING_BUCKET'])"
   ]
  },
  {
   "cell_type": "code",
   "execution_count": null,
   "id": "cc527cbc-3c9e-429f-bd23-9bb40446d6f8",
   "metadata": {},
   "outputs": [],
   "source": [
    "import boto3\n",
    "s3 = boto3.resource(\n",
    "    service_name=\"s3\",\n",
    "    endpoint_url=os.environ[\"S3_DEV_ENDPOINT\"],\n",
    "    aws_access_key_id=os.environ[\"S3_DEV_ACCESS_KEY\"],\n",
    "    aws_secret_access_key=os.environ[\"S3_DEV_SECRET_KEY\"],\n",
    ")\n",
    "trino_bucket = attach_s3_bucket(\"S3_DEV\")"
   ]
  },
  {
   "cell_type": "markdown",
   "id": "a12b224f-addc-43ec-b53e-d684b4c8ef67",
   "metadata": {},
   "source": [
    "## Connecting to Trino with sqlalchemy"
   ]
  },
  {
   "cell_type": "code",
   "execution_count": null,
   "id": "d8a756db-291f-48ad-8ae8-dad3da4af325",
   "metadata": {},
   "outputs": [],
   "source": [
    "import trino\n",
    "from sqlalchemy.engine import create_engine\n",
    "\n",
    "sqlstring = 'trino://{user}@{host}:{port}/'.format(\n",
    "    user = os.environ['TRINO_USER'],\n",
    "    host = os.environ['TRINO_HOST'],\n",
    "    port = os.environ['TRINO_PORT']\n",
    ")\n",
    "sqlargs = {\n",
    "    'auth': trino.auth.JWTAuthentication(os.environ['TRINO_PASSWD']),\n",
    "    'http_scheme': 'https',\n",
    "    'catalog': 'osc_datacommons_dev'\n",
    "}\n",
    "engine = create_engine(sqlstring, connect_args = sqlargs)\n",
    "connection = engine.connect()\n",
    "\n",
    "ingest_schema = 'itr_mdt'"
   ]
  },
  {
   "cell_type": "code",
   "execution_count": null,
   "id": "d4ea7f5d-ccee-42f0-a855-8e4c5dc9cec8",
   "metadata": {},
   "outputs": [],
   "source": [
    "import pandas as pd\n",
    "import io\n",
    "from osc_ingest_trino import *"
   ]
  },
  {
   "cell_type": "markdown",
   "id": "5ab27f9b-c363-432a-abcb-67b3be944191",
   "metadata": {},
   "source": [
    "### Global Parameters\n",
    "\n",
    "These parameters are set/selected by the ITR tool."
   ]
  },
  {
   "cell_type": "raw",
   "id": "ea52c2d9-3a6e-4bd3-b827-a76689f055b9",
   "metadata": {},
   "source": [
    "tcre = 2.2\n",
    "\n",
    "carb_conversion = 3664\n",
    "\n",
    "BENCHMARK_GLOBAL_BUDGET = 860 # Gt CO2e\n",
    "\n",
    "benchmark_scenario_pathways = [ 'TPI', 'TPI_below_2', 'OECM' ]\n",
    "\n",
    "probability_of_acheiving_target = 0.5"
   ]
  },
  {
   "cell_type": "markdown",
   "id": "aebb1d16-5ad9-41f1-9296-141182a5e652",
   "metadata": {},
   "source": [
    "### Industry Data (Sector Projections)"
   ]
  },
  {
   "cell_type": "code",
   "execution_count": null,
   "id": "b3fb17c6-fe57-4c2d-8f42-394215cb2762",
   "metadata": {},
   "outputs": [],
   "source": [
    "scenarios = {}\n",
    "for scenario in ['TPI', 'TPI_below_2', 'OECM']:\n",
    "    df_dict = pd.read_excel(os.environ.get('PWD')+f\"/itr-data-pipeline/data/external/{scenario}_EI_and_production_benchmarks{('','_v2')[scenario=='OECM']}.xlsx\", sheet_name=None)\n",
    "    for projtype in ['projected_production', 'projected_ei_in_Wh']:\n",
    "        df_dict[projtype]['projection'] = projtype\n",
    "        df_dict[projtype]['scenario'] = scenario\n",
    "    scenarios[scenario] = pd.concat (df_dict.values())\n",
    "df = pd.concat(scenarios, ignore_index=True)\n",
    "cols = df.columns.tolist()\n",
    "cols = cols[-2:]+cols[0:-2]\n",
    "df = df[cols]\n",
    "df"
   ]
  },
  {
   "cell_type": "code",
   "execution_count": null,
   "id": "d84bc7af-9d6a-43dd-b625-e00a359b9854",
   "metadata": {},
   "outputs": [],
   "source": [
    "sector_projections = df.melt(id_vars=cols[0:4], value_vars=cols[4:], var_name='year')\n",
    "sector_projections"
   ]
  },
  {
   "cell_type": "markdown",
   "id": "e280caeb-f90a-4445-8804-bb68ad791f9b",
   "metadata": {},
   "source": [
    "### Portfolio Data"
   ]
  },
  {
   "cell_type": "markdown",
   "id": "4d3fc76a-21d6-42a0-8723-e3ad435d62cb",
   "metadata": {},
   "source": [
    "Prepare GLEIF matching data"
   ]
  },
  {
   "cell_type": "code",
   "execution_count": null,
   "id": "250ad414-9c15-416c-a420-a558baf03fee",
   "metadata": {},
   "outputs": [],
   "source": [
    "gleif_file = s3_source.Object(os.environ['S3_LANDING_BUCKET'],'mtiemann-GLEIF/DERA-matches.csv')\n",
    "gleif_file.download_file(f'/tmp/dera-gleif.csv')\n",
    "gleif_df = pd.read_csv(f'/tmp/dera-gleif.csv', header=0, sep=',', dtype=str, engine='c')\n",
    "gleif_dict = dict(zip(gleif_df.name, gleif_df.LEI))"
   ]
  },
  {
   "cell_type": "code",
   "execution_count": null,
   "id": "5fdcc947-e7fe-4a6b-8705-80c1ab97cfdb",
   "metadata": {},
   "outputs": [],
   "source": [
    "gleif_1 = { k.split(',')[0].split(' ')[0]:v for k,v in gleif_dict.items() }\n",
    "gleif_2 = { ' '.join(k.split(',')[0].split(' ')[0:2]):v for k,v in gleif_dict.items() }\n",
    "\n",
    "def gleif_match(x):\n",
    "    x = x.split(',')[0]\n",
    "    x = x.replace('.','')\n",
    "    if x in gleif_dict:\n",
    "        return gleif_dict[x]\n",
    "    x2 = ' '.join(x.split(' ')[0:2])\n",
    "    if x2 in gleif_2:\n",
    "        return gleif_2[x2]\n",
    "    if ' ' not in x and x in gleif_1:\n",
    "        return gleif_1[x]\n",
    "    return None\n",
    "\n",
    "portfolio_df = pd.read_csv(os.environ.get('PWD')+f\"/itr-data-pipeline/data/external/example_portfolio_rmi_v2.csv\",\n",
    "                        delimiter=';')\n",
    "portfolio_df['LEI'] = portfolio_df['company_name'].str.upper().map(gleif_match)\n",
    "# display(portfolio_df[portfolio_df.LEI.isna()])\n",
    "portfolio_df = portfolio_df.dropna(how='any').convert_dtypes()\n",
    "# portfolio_df"
   ]
  },
  {
   "cell_type": "code",
   "execution_count": null,
   "id": "d12e9b16-608d-4d92-a183-1807655b4cfa",
   "metadata": {},
   "outputs": [],
   "source": [
    "portfolio_df"
   ]
  },
  {
   "cell_type": "code",
   "execution_count": null,
   "id": "1e3a62ea-68cc-4234-8cd9-e7740b52b1e4",
   "metadata": {},
   "outputs": [],
   "source": [
    "engine.execute(f\"create schema if not exists {ingest_schema}\").fetchall()\n",
    "\n",
    "qres = engine.execute(f\"show tables in {ingest_schema}\")\n",
    "l = qres.fetchall()\n",
    "for x in l:\n",
    "    qres = engine.execute(f\"drop table {ingest_schema}.{x[0]}\")\n",
    "    display(qres.fetchall())\n",
    "\n",
    "engine.execute(f\"drop schema {ingest_schema}\").fetchall()\n",
    "engine.execute(f\"create schema {ingest_schema}\").fetchall()"
   ]
  },
  {
   "cell_type": "code",
   "execution_count": null,
   "id": "86308054-eca3-4c8d-8eb2-5c3474c5ce94",
   "metadata": {},
   "outputs": [],
   "source": [
    "buf = io.BytesIO()\n",
    "portfolio_df.to_parquet(path=buf)\n",
    "buf.seek(0)\n",
    "trino_bucket.upload_fileobj(Fileobj=buf,\n",
    "                            Key=f'trino/{ingest_schema}/portfolio/data.parquet')\n",
    "\n",
    "columnschema = create_table_schema_pairs(enforce_sql_column_names(portfolio_df))\n",
    "tabledef = f\"\"\"\n",
    "create table if not exists {ingest_schema}.portfolio (\n",
    "{columnschema}\n",
    ") with (\n",
    "format = 'parquet',\n",
    "external_location = 's3a://{trino_bucket.name}/trino/{ingest_schema}/portfolio/'\n",
    ")\n",
    "\"\"\"\n",
    "print(tabledef)\n",
    "\n",
    "table_create = engine.execute(tabledef)\n",
    "for row in table_create.fetchall():\n",
    "    print(row)\n",
    "\n"
   ]
  },
  {
   "cell_type": "markdown",
   "id": "df6ae7d1-a2cc-470f-9f77-8e529301701c",
   "metadata": {},
   "source": [
    "### Company Data"
   ]
  },
  {
   "cell_type": "code",
   "execution_count": null,
   "id": "f782e255-1568-4030-9aa9-2ea7baa30e1d",
   "metadata": {},
   "outputs": [],
   "source": [
    "# We have no S3 emissions in RMI data.\n",
    "\n",
    "engine.execute(\"select * from sec_dera.sic_isic\").fetchall()"
   ]
  },
  {
   "cell_type": "code",
   "execution_count": null,
   "id": "708d4555-b959-4c7e-81ee-d0b6388355fe",
   "metadata": {},
   "outputs": [],
   "source": [
    "engine.execute(\"describe rmi_20211120.revenue_by_tech\").fetchall()"
   ]
  },
  {
   "cell_type": "code",
   "execution_count": null,
   "id": "07dd3e5e-3ace-4939-a5da-e71b71b0adf3",
   "metadata": {},
   "outputs": [],
   "source": [
    "engine.execute(\"describe sec_dera.financials_by_lei\").fetchall()"
   ]
  },
  {
   "cell_type": "code",
   "execution_count": null,
   "id": "77b27a6d-211b-4372-8c76-7da3b67439eb",
   "metadata": {},
   "outputs": [],
   "source": [
    "gleif_dict['Midwest Energy'.upper()]"
   ]
  },
  {
   "cell_type": "code",
   "execution_count": null,
   "id": "a116a255-44ad-4eee-9fe5-066253bac452",
   "metadata": {
    "tags": []
   },
   "outputs": [],
   "source": [
    "gleif_2['MIDWEST ENERGY']"
   ]
  },
  {
   "cell_type": "code",
   "execution_count": null,
   "id": "12ac2b2b-564f-4d71-9d0c-55f03b4335ab",
   "metadata": {},
   "outputs": [],
   "source": [
    "lei = 'TWSEY0NEDUDCKS27AH81'\n",
    "qres=engine.execute(f\"select count(*) from rmi_20211120.operations_emissions_by_fuel where respondent_id=213\")\n",
    "qres.fetchall()"
   ]
  },
  {
   "cell_type": "code",
   "execution_count": null,
   "id": "73b6b1ec-4041-47fc-9144-e8ed4ffc1ba9",
   "metadata": {},
   "outputs": [],
   "source": [
    "qres=engine.execute(f\"select * from sec_dera.financials_by_lei where lei = 'TWSEY0NEDUDCKS27AH81'\")\n",
    "qres.fetchall()"
   ]
  },
  {
   "cell_type": "code",
   "execution_count": null,
   "id": "8ee31b96-b88b-4eb0-aedf-fcf5e5a692c1",
   "metadata": {},
   "outputs": [],
   "source": [
    "qres=engine.execute(f\"select * from itr_mdt.portfolio where lei = 'TWSEY0NEDUDCKS27AH81'\")\n",
    "qres.fetchall()"
   ]
  },
  {
   "cell_type": "code",
   "execution_count": null,
   "id": "834f7525-8e36-430c-99c9-d425bd63b425",
   "metadata": {},
   "outputs": [],
   "source": [
    "qres = engine.execute(\"\"\"\n",
    "select AEI.parent_name, U.parent_lei, U.respondent_id, AEI.year, sum(AEI.asset_value) as fy_asset_value, sum(AEI.earnings_value) as fy_earnings_value\n",
    "from rmi_20211120.assets_earnings_investments as AEI join rmi_20211120.utility_information U on AEI.respondent_id=U.respondent_id\n",
    "where U.parent_lei='TWSEY0NEDUDCKS27AH81' and AEI.year=DATE('2019-01-01')\n",
    "group by AEI.parent_name, U.parent_lei, U.respondent_id, AEI.year\n",
    "\"\"\")\n",
    "l = qres.fetchall()\n",
    "print(len(l))"
   ]
  },
  {
   "cell_type": "code",
   "execution_count": null,
   "id": "abc120ba-ca86-49d3-9e3c-9f42d0697d07",
   "metadata": {},
   "outputs": [],
   "source": [
    "l[:10]"
   ]
  },
  {
   "cell_type": "code",
   "execution_count": null,
   "id": "2ff246c6-6245-463a-8a6b-67fe6a143568",
   "metadata": {},
   "outputs": [],
   "source": [
    "qres = engine.execute(f\"\"\"\n",
    "select F.name, F.lei, F.tname, U2.parent_ticker, F.sic,\n",
    "       'CO2e' as el, EM2.fy_emissions,\n",
    "       'revenue' as rl, F.revenue_usd/1000000.0, RT2.fy_revenue_total/1000000.0,\n",
    "       'assets' as al, F.assets_usd/1000000.0, AEI2.fy_asset_value/1000000.0,\n",
    "       'income' as il, F.income_usd/1000000.0, AEI2.fy_earnings_value/1000000.0,\n",
    "       'counts: ulei, aei, rt, em' as legend, c_ulei, c_aei, c_rt, c_em\n",
    "from {ingest_schema}.portfolio as P\n",
    "     join (select count (*) as c_ulei, U.parent_lei, U.parent_ticker\n",
    "           from rmi_20211120.utility_information as U\n",
    "           group by U.parent_lei, U.parent_ticker) as U2 on U2.parent_lei=P.lei\n",
    "     join sec_dera.financials_by_lei as F on F.lei=P.lei and coalesce(upper(F.tname),U2.parent_ticker,'None')=coalesce(U2.parent_ticker,upper(F.tname),'None')\n",
    "     join (select count (*) as c_aei, U.parent_lei, AEI.year, sum(AEI.asset_value) as fy_asset_value, sum(AEI.earnings_value) as fy_earnings_value\n",
    "           from rmi_20211120.assets_earnings_investments as AEI join rmi_20211120.utility_information U on AEI.respondent_id=U.respondent_id\n",
    "           group by U.parent_lei, AEI.year) as AEI2 on AEI2.parent_lei=P.lei and AEI2.year=F.fy\n",
    "     join (select count (*) as c_rt, U.parent_lei, RT.year, sum(RT.revenue_total) as fy_revenue_total\n",
    "           from rmi_20211120.revenue_by_tech as RT join rmi_20211120.utility_information U on RT.respondent_id=U.respondent_id\n",
    "           group by U.parent_lei, RT.year) as RT2 on RT2.parent_lei=P.lei and RT2.year=F.fy\n",
    "     join (select count(*) as c_em, U.parent_lei, EM.year, sum(EM.emissions_co2) as fy_emissions\n",
    "           from rmi_20211120.operations_emissions_by_fuel as EM join rmi_20211120.utility_information U on EM.respondent_id=U.respondent_id\n",
    "           group by U.parent_lei, EM.year) as EM2 on EM2.parent_lei=P.lei and EM2.year=F.fy\n",
    "where fy=DATE('2019-01-01')\n",
    "order by F.name\n",
    "\"\"\")\n",
    "\n",
    "l = qres.fetchall()\n",
    "print(len(l))"
   ]
  },
  {
   "cell_type": "code",
   "execution_count": null,
   "id": "1117a726-ecf0-4286-ab4e-874a5a66c79c",
   "metadata": {},
   "outputs": [],
   "source": [
    "l"
   ]
  },
  {
   "cell_type": "code",
   "execution_count": null,
   "id": "a5b6e819-2047-4487-9637-80b2d5f0ae9c",
   "metadata": {
    "tags": []
   },
   "outputs": [],
   "source": [
    "qres = engine.execute(\"show tables in rmi_20211120\")\n",
    "l = qres.fetchall()\n",
    "for x in l:\n",
    "    qres = engine.execute(f\"select count(*) from rmi_20211120.{x[0]}\")\n",
    "    display(f\"{x[0]}: {qres.fetchall()[0][0]}\")\n",
    "    qres = engine.execute(f\"describe rmi_20211120.{x[0]}\")\n",
    "    display(qres.fetchall())"
   ]
  },
  {
   "cell_type": "code",
   "execution_count": null,
   "id": "c6f228b9-7f53-448d-876a-d7d2d4b3aa10",
   "metadata": {},
   "outputs": [],
   "source": []
  }
 ],
 "metadata": {
  "kernelspec": {
   "display_name": "Python 3",
   "language": "python",
   "name": "python3"
  },
  "language_info": {
   "codemirror_mode": {
    "name": "ipython",
    "version": 3
   },
   "file_extension": ".py",
   "mimetype": "text/x-python",
   "name": "python",
   "nbconvert_exporter": "python",
   "pygments_lexer": "ipython3",
   "version": "3.8.3"
  }
 },
 "nbformat": 4,
 "nbformat_minor": 5
}
