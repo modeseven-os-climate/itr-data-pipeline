{
 "cells": [
  {
   "cell_type": "code",
   "execution_count": null,
   "id": "0fecf498-25b1-4608-ab9d-15f0c13e1949",
   "metadata": {},
   "outputs": [],
   "source": [
    "print(\"I'm a happy notebook.\")"
   ]
  }
 ],
 "metadata": {
  "kernelspec": {
   "display_name": "Python 3 (ipykernel)",
   "language": "python",
   "name": "python3"
  },
  "language_info": {
   "codemirror_mode": {
    "name": "ipython",
    "version": 3
   },
   "file_extension": ".py",
   "mimetype": "text/x-python",
   "name": "python",
   "nbconvert_exporter": "python",
   "pygments_lexer": "ipython3",
   "version": "3.11.4"
  }
 },
 "nbformat": 4,
 "nbformat_minor": 5
}
